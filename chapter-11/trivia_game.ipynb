{
 "cells": [
  {
   "cell_type": "markdown",
   "id": "fe1b0fa3-fb56-4c84-924d-d80c57f820d9",
   "metadata": {},
   "source": [
    "![startwarsbanner](https://i.pinimg.com/originals/64/a4/1b/64a41bad4042ad0c61ab306591fd1e28.jpg)"
   ]
  },
  {
   "cell_type": "markdown",
   "id": "740d1043-3193-4cf6-8aa6-432a299922b8",
   "metadata": {},
   "source": [
    "# Project Goal"
   ]
  },
  {
   "cell_type": "markdown",
   "id": "c2dde84f-2af5-4170-b0f9-0398020db9db",
   "metadata": {},
   "source": [
    "Submit     \n",
    "\n",
    "- script(s) (30 pts)    \n",
    "- recording (20 pts)     \n",
    "\n",
    "Create a simple trivia game for two players. The program will work like this:     \n",
    "\n",
    "- Starting with player 1, each player gets a turn at answering 5 trivia questions. (There should be a total of 10 questions.) When a question is displayed, 4 possible answers are also displayed. Only one of the answers is correct, and if the player selects the correct answer, he or she earns a point.      \n",
    "\n",
    "- After answers have been selected for all the questions, the program displays the number of points earned by each player and declares the player with the highest number of points the winner.     \n",
    "\n",
    "To create this program, write a **Question** class to hold the data for a trivia question. The **Question** class should have attributes for the following data:    \n",
    "\n",
    "- A trivia question    \n",
    "  \n",
    "- Possible answer 1    \n",
    "\n",
    "- Possible answer 2    \n",
    "\n",
    "- Possible answer 3     \n",
    "\n",
    "- Possible answer 4     \n",
    "\n",
    "- The number of the correct answer (1, 2, 3, or 4)     \n",
    "\n",
    "The **Question** class also should have an appropriate **_ _ _init_ _ _** method, accessors, and mutators.      \n",
    "\n",
    "The program should have a list or a dictionary containing 10 **Question** objects, one for each trivia question. Make up your own trivia questions on the subject or subjects of your choice for the objects.      "
   ]
  },
  {
   "cell_type": "code",
   "execution_count": 1,
   "id": "29fc39b6-5291-4c1d-96c7-af086564b8d6",
   "metadata": {},
   "outputs": [],
   "source": [
    "import random"
   ]
  },
  {
   "cell_type": "code",
   "execution_count": 2,
   "id": "4bc25cbe-5d88-43f5-b335-e4b33d59c1f0",
   "metadata": {},
   "outputs": [],
   "source": [
    "class Question:\n",
    "    def __init__(self, question, options, correct_answer):\n",
    "        self.question = question\n",
    "        self.options = options\n",
    "        self.correct_answer = correct_answer\n",
    "    \n",
    "    def is_correct(self, answer):\n",
    "        return answer == self.correct_answer\n",
    "    \n",
    "    def display(self):\n",
    "        print(self.question)\n",
    "        for number, option in enumerate(self.options, 1):\n",
    "            print(f\"{number}. {option}\")"
   ]
  },
  {
   "cell_type": "code",
   "execution_count": 3,
   "id": "0014c790-4a1a-4e04-a4e3-f081cf482f44",
   "metadata": {},
   "outputs": [
    {
     "name": "stdout",
     "output_type": "stream",
     "text": [
      "Player 1's turn:\n",
      "Which planet is known as the city planet?\n",
      "1. Coruscant\n",
      "2. Naboo\n",
      "3. Mustafar\n",
      "4. Alderaan\n"
     ]
    },
    {
     "name": "stdin",
     "output_type": "stream",
     "text": [
      "Your answer (1-4):  1\n"
     ]
    },
    {
     "name": "stdout",
     "output_type": "stream",
     "text": [
      "Correct!\n",
      "Who killed Jabba the Hutt?\n",
      "1. Han Solo\n",
      "2. Luke Skywalker\n",
      "3. Princess Leia\n",
      "4. Lando Calrissian\n"
     ]
    },
    {
     "name": "stdin",
     "output_type": "stream",
     "text": [
      "Your answer (1-4):  1\n"
     ]
    },
    {
     "name": "stdout",
     "output_type": "stream",
     "text": [
      "Incorrect!\n",
      "What is the name of Boba Fett’s ship?\n",
      "1. Slave 1\n",
      "2. Millennium Falcon\n",
      "3. Death Star\n",
      "4. Executor\n"
     ]
    },
    {
     "name": "stdin",
     "output_type": "stream",
     "text": [
      "Your answer (1-4):  1\n"
     ]
    },
    {
     "name": "stdout",
     "output_type": "stream",
     "text": [
      "Correct!\n",
      "What is Chewbacca's home planet?\n",
      "1. Endor\n",
      "2. Hoth\n",
      "3. Kashyyyk\n",
      "4. Tatooine\n"
     ]
    },
    {
     "name": "stdin",
     "output_type": "stream",
     "text": [
      "Your answer (1-4):  1\n"
     ]
    },
    {
     "name": "stdout",
     "output_type": "stream",
     "text": [
      "Incorrect!\n",
      "Who is Kylo Ren’s father?\n",
      "1. Luke Skywalker\n",
      "2. Han Solo\n",
      "3. Obi-Wan Kenobi\n",
      "4. Anakin Skywalker\n"
     ]
    },
    {
     "name": "stdin",
     "output_type": "stream",
     "text": [
      "Your answer (1-4):  1\n"
     ]
    },
    {
     "name": "stdout",
     "output_type": "stream",
     "text": [
      "Incorrect!\n",
      "End of Player 1's turn.\n",
      "\n",
      "Player 2's turn:\n",
      "Who is the original owner of Anakin Skywalker's lightsaber?\n",
      "1. Luke Skywalker\n",
      "2. Obi-Wan Kenobi\n",
      "3. Darth Vader\n",
      "4. Mace Windu\n"
     ]
    },
    {
     "name": "stdin",
     "output_type": "stream",
     "text": [
      "Your answer (1-4):  1\n"
     ]
    },
    {
     "name": "stdout",
     "output_type": "stream",
     "text": [
      "Incorrect!\n",
      "Who is Luke's father?\n",
      "1. Han Solo\n",
      "2. Darth Vader\n",
      "3. Obi-Wan Kenobi\n",
      "4. Yoda\n"
     ]
    },
    {
     "name": "stdin",
     "output_type": "stream",
     "text": [
      "Your answer (1-4):  1\n"
     ]
    },
    {
     "name": "stdout",
     "output_type": "stream",
     "text": [
      "Incorrect!\n",
      "Which character said, 'I’ve got a bad feeling about this' in 'A New Hope'?\n",
      "1. Han Solo\n",
      "2. Luke Skywalker\n",
      "3. Leia Organa\n",
      "4. C-3PO\n"
     ]
    },
    {
     "name": "stdin",
     "output_type": "stream",
     "text": [
      "Your answer (1-4):  1\n"
     ]
    },
    {
     "name": "stdout",
     "output_type": "stream",
     "text": [
      "Correct!\n",
      "What is the name of Han Solo's ship?\n",
      "1. Death Star\n",
      "2. Millennium Falcon\n",
      "3. X-Wing\n",
      "4. Star Destroyer\n"
     ]
    },
    {
     "name": "stdin",
     "output_type": "stream",
     "text": [
      "Your answer (1-4):  1\n"
     ]
    },
    {
     "name": "stdout",
     "output_type": "stream",
     "text": [
      "Incorrect!\n",
      "What species is Yoda?\n",
      "1. Trandoshan\n",
      "2. Wookiee\n",
      "3. Human\n",
      "4. Unknown\n"
     ]
    },
    {
     "name": "stdin",
     "output_type": "stream",
     "text": [
      "Your answer (1-4):  1\n"
     ]
    },
    {
     "name": "stdout",
     "output_type": "stream",
     "text": [
      "Incorrect!\n",
      "End of Player 2's turn.\n",
      "\n",
      "Game Over\n",
      "Player 1's score: 2\n",
      "Player 2's score: 1\n",
      "Player 1 wins!\n"
     ]
    }
   ],
   "source": [
    "def play_game(questions):\n",
    "    scores = {1: 0, 2: 0}\n",
    "    for i in range(1, 3):\n",
    "        print(f\"Player {i}'s turn:\")\n",
    "        for j in range(5):\n",
    "            current_question = questions.pop(0)\n",
    "            current_question.display()\n",
    "            answer = int(input(\"Your answer (1-4): \"))\n",
    "            if current_question.is_correct(answer):\n",
    "                scores[i] += 1\n",
    "                print(\"Correct!\")\n",
    "            else:\n",
    "                print(\"Incorrect!\")\n",
    "        print(f\"End of Player {i}'s turn.\\n\")\n",
    "\n",
    "    print(\"Game Over\")\n",
    "    print(f\"Player 1's score: {scores[1]}\")\n",
    "    print(f\"Player 2's score: {scores[2]}\")\n",
    "\n",
    "    if scores[1] > scores[2]:\n",
    "        print(\"Player 1 wins!\")\n",
    "    elif scores[2] > scores[1]:\n",
    "        print(\"Player 2 wins!\")\n",
    "    else:\n",
    "        print(\"It's a tie!\")\n",
    "        \n",
    "\n",
    "def main():\n",
    "    # List of questions\n",
    "    questions = [\n",
    "        Question(\"Who is Luke's father?\", [\"Han Solo\", \"Darth Vader\", \"Obi-Wan Kenobi\", \"Yoda\"], 2),\n",
    "        Question(\"What is the name of Han Solo's ship?\", [\"Death Star\", \"Millennium Falcon\", \"X-Wing\", \"Star Destroyer\"], 2),\n",
    "        Question(\"What is Chewbacca's home planet?\", [\"Endor\", \"Hoth\", \"Kashyyyk\", \"Tatooine\"], 3),\n",
    "        Question(\"Who is the original owner of Anakin Skywalker's lightsaber?\", [\"Luke Skywalker\", \"Obi-Wan Kenobi\", \"Darth Vader\", \"Mace Windu\"], 2),\n",
    "        Question(\"What species is Yoda?\", [\"Trandoshan\", \"Wookiee\", \"Human\", \"Unknown\"], 4),\n",
    "        Question(\"Which character said, 'I’ve got a bad feeling about this' in 'A New Hope'?\", [\"Han Solo\", \"Luke Skywalker\", \"Leia Organa\", \"C-3PO\"], 1),\n",
    "        Question(\"Who killed Jabba the Hutt?\", [\"Han Solo\", \"Luke Skywalker\", \"Princess Leia\", \"Lando Calrissian\"], 3),\n",
    "        Question(\"What is the name of Boba Fett’s ship?\", [\"Slave 1\", \"Millennium Falcon\", \"Death Star\", \"Executor\"], 1),\n",
    "        Question(\"Which planet is known as the city planet?\", [\"Coruscant\", \"Naboo\", \"Mustafar\", \"Alderaan\"], 1),\n",
    "        Question(\"Who is Kylo Ren’s father?\", [\"Luke Skywalker\", \"Han Solo\", \"Obi-Wan Kenobi\", \"Anakin Skywalker\"], 2)\n",
    "\n",
    "    ]\n",
    "\n",
    "    # Shuffle the questions to ensure random order\n",
    "    import random\n",
    "    random.shuffle(questions)\n",
    "    \n",
    "    # Start the game\n",
    "    play_game(questions)\n",
    "    \n",
    "    \n",
    "# Call main function.\n",
    "if __name__ == '__main__':\n",
    "    main()"
   ]
  },
  {
   "cell_type": "code",
   "execution_count": null,
   "id": "0d6af275-45a3-4741-9fd2-2db626820739",
   "metadata": {},
   "outputs": [],
   "source": []
  }
 ],
 "metadata": {
  "kernelspec": {
   "display_name": "Python 3 (ipykernel)",
   "language": "python",
   "name": "python3"
  },
  "language_info": {
   "codemirror_mode": {
    "name": "ipython",
    "version": 3
   },
   "file_extension": ".py",
   "mimetype": "text/x-python",
   "name": "python",
   "nbconvert_exporter": "python",
   "pygments_lexer": "ipython3",
   "version": "3.9.13"
  }
 },
 "nbformat": 4,
 "nbformat_minor": 5
}
