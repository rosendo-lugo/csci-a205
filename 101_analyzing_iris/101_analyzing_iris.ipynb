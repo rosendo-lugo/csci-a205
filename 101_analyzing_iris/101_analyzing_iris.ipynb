{
 "cells": [
  {
   "cell_type": "code",
   "execution_count": 21,
   "id": "dd6976b6-f5d7-4af6-b684-94e30714cfb2",
   "metadata": {},
   "outputs": [],
   "source": [
    "# 0. load dependencies\n",
    "import os, csv\n",
    "# No need to install (pip install matlplotlib)\n",
    "import matplotlib.pyplot as plt"
   ]
  },
  {
   "cell_type": "code",
   "execution_count": 22,
   "id": "89560ba9-d300-4360-ad56-b83eae503cc3",
   "metadata": {},
   "outputs": [],
   "source": [
    "# directory\n",
    "fpath = \"https://raw.githubusercontent.com/remjw/data/master/py_programming_data/iris.csv\""
   ]
  },
  {
   "cell_type": "code",
   "execution_count": 23,
   "id": "59382b0c-7ed4-4426-8ef6-aefe59e35db0",
   "metadata": {},
   "outputs": [],
   "source": [
    "# 1. read data\n",
    "with open('iris.csv', 'r', encoding='UTF-8') as f:\n",
    "    iris = [\n",
    "        #parse each value into one item in a tuple\n",
    "        (\n",
    "         float(row['sepal.length']),\n",
    "         float(row['sepal.width']),\n",
    "         float(row['petal.length']),\n",
    "         float(row['petal.width']),\n",
    "         row['variety'].lower()\n",
    "        )\n",
    "        for row in csv.DictReader(f)\n",
    "    ] # list comprehension"
   ]
  },
  {
   "cell_type": "code",
   "execution_count": 24,
   "id": "8950a513-63d8-48ad-a8eb-aae04bddc6da",
   "metadata": {},
   "outputs": [
    {
     "name": "stdout",
     "output_type": "stream",
     "text": [
      "[(5.1, 3.5, 1.4, 0.2, 'setosa'), (4.9, 3.0, 1.4, 0.2, 'setosa'), (4.7, 3.2, 1.3, 0.2, 'setosa'), (4.6, 3.1, 1.5, 0.2, 'setosa'), (5.0, 3.6, 1.4, 0.2, 'setosa')]\n",
      "\n",
      "First row: (5.1, 3.5, 1.4, 0.2, 'setosa')\n",
      "First two rows: [(5.1, 3.5, 1.4, 0.2, 'setosa'), (4.9, 3.0, 1.4, 0.2, 'setosa')]\n",
      "First cell: 5.1\n",
      "\n",
      "sepal.width: [3.5, 3.0, 3.2, 3.1, 3.6, 3.9, 3.4, 3.4, 2.9, 3.1, 3.7, 3.4, 3.0, 3.0, 4.0, 4.4, 3.9, 3.5, 3.8, 3.8, 3.4, 3.7, 3.6, 3.3, 3.4, 3.0, 3.4, 3.5, 3.4, 3.2, 3.1, 3.4, 4.1, 4.2, 3.1, 3.2, 3.5, 3.6, 3.0, 3.4, 3.5, 2.3, 3.2, 3.5, 3.8, 3.0, 3.8, 3.2, 3.7, 3.3, 3.2, 3.2, 3.1, 2.3, 2.8, 2.8, 3.3, 2.4, 2.9, 2.7, 2.0, 3.0, 2.2, 2.9, 2.9, 3.1, 3.0, 2.7, 2.2, 2.5, 3.2, 2.8, 2.5, 2.8, 2.9, 3.0, 2.8, 3.0, 2.9, 2.6, 2.4, 2.4, 2.7, 2.7, 3.0, 3.4, 3.1, 2.3, 3.0, 2.5, 2.6, 3.0, 2.6, 2.3, 2.7, 3.0, 2.9, 2.9, 2.5, 2.8, 3.3, 2.7, 3.0, 2.9, 3.0, 3.0, 2.5, 2.9, 2.5, 3.6, 3.2, 2.7, 3.0, 2.5, 2.8, 3.2, 3.0, 3.8, 2.6, 2.2, 3.2, 2.8, 2.8, 2.7, 3.3, 3.2, 2.8, 3.0, 2.8, 3.0, 2.8, 3.8, 2.8, 2.8, 2.6, 3.0, 3.4, 3.1, 3.0, 3.1, 3.1, 3.1, 2.7, 3.2, 3.3, 3.0, 2.5, 3.0, 3.4, 3.0]\n"
     ]
    }
   ],
   "source": [
    "# 2. inspect data\n",
    "print(iris[0:5]) # slice operator to print the header of 5 rows\n",
    "\n",
    "# practice slice operator for 2d list\n",
    "print(f'''\n",
    "First row: {iris[0]}\n",
    "First two rows: {iris[0:2]}\n",
    "First cell: {iris[0][0]}\n",
    "''')\n",
    "\n",
    "# get 2nd column for sepal.width values\n",
    "sepal_width = [ row[1] for row in iris]\n",
    "print(f'sepal.width: {sepal_width}')"
   ]
  },
  {
   "cell_type": "code",
   "execution_count": 25,
   "id": "f80291cb-d5ef-4725-8a23-eb173cadb189",
   "metadata": {},
   "outputs": [
    {
     "name": "stdout",
     "output_type": "stream",
     "text": [
      "\n",
      "Number of iris samples: 150\n",
      "Number of variables/attributes: 5\n",
      "\n"
     ]
    }
   ],
   "source": [
    "# 3. Data size\n",
    "row_count = len(iris)\n",
    "col_count = len(iris[0])\n",
    "\n",
    "print(f'''\n",
    "Number of iris samples: {row_count}\n",
    "Number of variables/attributes: {col_count}\n",
    "''') "
   ]
  },
  {
   "cell_type": "code",
   "execution_count": 26,
   "id": "c7ef42d6-b341-4328-ad2a-649821efcc96",
   "metadata": {},
   "outputs": [
    {
     "name": "stdout",
     "output_type": "stream",
     "text": [
      "\n",
      "sepal_length summary:\n",
      "maximum : 7.900\n",
      "minimum : 4.300\n",
      "average : 5.843\n",
      "\n"
     ]
    }
   ],
   "source": [
    "# 4. Analyze sepal.length column\n",
    "sepal_length = [flower[0] for flower in iris]\n",
    "\n",
    "s_max = max(sepal_length)\n",
    "s_min = min(sepal_length)\n",
    "s_avg = sum(sepal_length)/len(sepal_length)\n",
    "\n",
    "print(f'''\n",
    "sepal_length summary:\n",
    "maximum : {s_max:.3f}\n",
    "minimum : {s_min:.3f}\n",
    "average : {s_avg:.3f}\n",
    "''')"
   ]
  },
  {
   "cell_type": "code",
   "execution_count": 27,
   "id": "ecb0120b-6dfe-46c7-8a16-b1b71e836715",
   "metadata": {},
   "outputs": [
    {
     "name": "stdout",
     "output_type": "stream",
     "text": [
      "\n",
      "Variety name(s) having maximum sepal_length: ['virginica']\n",
      "\n"
     ]
    }
   ],
   "source": [
    "# 5. Search variety name(s) having max sepal_length\n",
    "variety_with_max_sepal_length = [flower[-1] for flower in iris if flower[0] == s_max]\n",
    "\n",
    "print(f'''\n",
    "Variety name(s) having maximum sepal_length: {variety_with_max_sepal_length}\n",
    "''')"
   ]
  },
  {
   "cell_type": "code",
   "execution_count": 28,
   "id": "2b357627-da3e-4767-99a5-74414deb6173",
   "metadata": {},
   "outputs": [
    {
     "data": {
      "image/png": "[encoded data removed]",
      "text/plain": [
       "<Figure size 640x480 with 1 Axes>"
      ]
     },
     "metadata": {},
     "output_type": "display_data"
    },
    {
     "data": {
      "text/plain": [
       "<Figure size 640x480 with 0 Axes>"
      ]
     },
     "metadata": {},
     "output_type": "display_data"
    }
   ],
   "source": [
    "# 6. Plot distribution of variety column in bar chart\n",
    "# and save plot to file\n",
    "\n",
    "# get variety column to a list\n",
    "variety = [flower[-1] for flower in iris]\n",
    "\n",
    "# frequency of each variety histgram\n",
    "x = ['setosa', 'versicolor','virginica']\n",
    "y = [0] * len(x) # list of three zeros\n",
    "\n",
    "for v in variety:\n",
    "    if v == x[0]:\n",
    "        y[0] += 1\n",
    "    elif v == x[1]:\n",
    "        y[1] += 1\n",
    "    else:\n",
    "        y[2] += 1\n",
    "\n",
    "# visualization\n",
    "plt.bar(x, y, color=('y','g','k'))\n",
    "plt.title('Histogram of Iris Variety')\n",
    "plt.xlabel('Variety')\n",
    "plt.ylabel('Count/frequency')\n",
    "plt.show()\n",
    "plt.savefig('iris_histogram.png')"
   ]
  },
  {
   "cell_type": "code",
   "execution_count": null,
   "id": "29dbcd78",
   "metadata": {},
   "outputs": [],
   "source": []
  }
 ],
 "metadata": {
  "kernelspec": {
   "display_name": "Python 3 (ipykernel)",
   "language": "python",
   "name": "python3"
  },
  "language_info": {
   "codemirror_mode": {
    "name": "ipython",
    "version": 3
   },
   "file_extension": ".py",
   "mimetype": "text/x-python",
   "name": "python",
   "nbconvert_exporter": "python",
   "pygments_lexer": "ipython3",
   "version": "3.9.13"
  }
 },
 "nbformat": 4,
 "nbformat_minor": 5
}
