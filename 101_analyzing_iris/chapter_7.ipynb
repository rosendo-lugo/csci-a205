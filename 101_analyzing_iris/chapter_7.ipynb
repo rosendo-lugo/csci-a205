{
 "cells": [
  {
   "cell_type": "code",
   "execution_count": 16,
   "metadata": {},
   "outputs": [
    {
     "name": "stdout",
     "output_type": "stream",
     "text": [
      "0\n",
      "1\n",
      "2\n",
      "3\n"
     ]
    }
   ],
   "source": [
    "names = ['Jenny', 'Kelly', 'Chloe', 'Aubrey']\n",
    "\n",
    "for index in range(len(names)):\n",
    "    print(index)\n",
    "names = ['Jenny', 'Kelly', 'Chloe', 'Aubrey']\n",
    "\n"
   ]
  },
  {
   "cell_type": "code",
   "execution_count": 17,
   "metadata": {},
   "outputs": [
    {
     "name": "stdout",
     "output_type": "stream",
     "text": [
      "Jenny\n",
      "Kelly\n",
      "Chloe\n",
      "Aubrey\n"
     ]
    }
   ],
   "source": [
    "for name in names:\n",
    "    print(name)\n",
    "numbers = [0] * 5\n",
    "\n"
   ]
  },
  {
   "cell_type": "code",
   "execution_count": 18,
   "metadata": {},
   "outputs": [
    {
     "name": "stdout",
     "output_type": "stream",
     "text": [
      "[99, 0, 0, 0, 0]\n",
      "[99, 99, 0, 0, 0]\n",
      "[99, 99, 99, 0, 0]\n",
      "[99, 99, 99, 99, 0]\n",
      "[99, 99, 99, 99, 99]\n"
     ]
    }
   ],
   "source": [
    "for index in range(len(numbers)):\n",
    "    numbers[index] = 99\n",
    "    print(numbers)\n"
   ]
  },
  {
   "cell_type": "code",
   "execution_count": 19,
   "metadata": {},
   "outputs": [
    {
     "name": "stdout",
     "output_type": "stream",
     "text": [
      "[10, 20, 30, 40, 50, 60, 70, 80, 90, 100]\n"
     ]
    }
   ],
   "source": [
    "plist = list(range(10, 110, 10))\n",
    "print(plist)\n"
   ]
  },
  {
   "cell_type": "code",
   "execution_count": 20,
   "metadata": {},
   "outputs": [
    {
     "name": "stdout",
     "output_type": "stream",
     "text": [
      "[0, 1, 2, 3, 4, 5, 6, 7, 8, 9, 10, 11, 12, 13, 14, 15, 16, 17, 18, 19, 20, 21, 22, 23, 24, 25, 26, 27, 28, 34]\n"
     ]
    }
   ],
   "source": [
    "plist = list(range(30))\n",
    "plist[-1] += 5\n",
    "print(plist)\n"
   ]
  },
  {
   "cell_type": "code",
   "execution_count": 21,
   "metadata": {},
   "outputs": [
    {
     "name": "stdout",
     "output_type": "stream",
     "text": [
      "[1, 2, 3, 4, 5, 6, 7, 8, 9, 10, 11, 12, 13, 14, 15, 16, 17, 18, 19, 20, 21, 22, 23, 24, 25, 26, 27, 28, 29, 30]\n"
     ]
    }
   ],
   "source": [
    "plist = list(range(1, 31))\n",
    "print(plist)"
   ]
  },
  {
   "cell_type": "code",
   "execution_count": 22,
   "metadata": {},
   "outputs": [
    {
     "name": "stdout",
     "output_type": "stream",
     "text": [
      "[48, 20, 23, 40, 24]\n"
     ]
    }
   ],
   "source": [
    "play_list = [10, 20, 23, 40, 24]\n",
    "play_list[0] = 2 * play_list[-1]\n",
    "print(play_list)"
   ]
  },
  {
   "cell_type": "code",
   "execution_count": 23,
   "metadata": {},
   "outputs": [
    {
     "name": "stdout",
     "output_type": "stream",
     "text": [
      "[[67, 45, 11, 23, 45, 98, 1001, 450, 26, 786, 67, 45, 11, 23, 45, 98, 1001, 450, 26, 786], [67, 45, 11, 23, 45, 98, 1001, 450, 26, 786]]\n"
     ]
    }
   ],
   "source": [
    "play_list = [[10, 20, 23, 40, 24],[67, 45, 11, 23, 45, 98, 1001, 450, 26, 786]]\n",
    "play_list[0] = 2 * play_list[-1]\n",
    "print(play_list)"
   ]
  },
  {
   "cell_type": "code",
   "execution_count": 24,
   "metadata": {},
   "outputs": [
    {
     "name": "stdout",
     "output_type": "stream",
     "text": [
      "[2, 3]\n"
     ]
    }
   ],
   "source": [
    "numbers = [1, 2, 3, 4, 5]\n",
    "my_list = numbers[1:3]\n",
    "print(my_list)\n"
   ]
  },
  {
   "cell_type": "code",
   "execution_count": 25,
   "metadata": {},
   "outputs": [
    {
     "name": "stdout",
     "output_type": "stream",
     "text": [
      "[2, 3, 4, 5]\n"
     ]
    }
   ],
   "source": [
    "numbers = [1, 2, 3, 4, 5]\n",
    "my_list = numbers [1:]\n",
    "print(my_list)"
   ]
  },
  {
   "cell_type": "code",
   "execution_count": 26,
   "metadata": {},
   "outputs": [
    {
     "name": "stdout",
     "output_type": "stream",
     "text": [
      "[1]\n"
     ]
    }
   ],
   "source": [
    "numbers = [1, 2, 3, 4, 5]\n",
    "my_list = numbers[:1]\n",
    "print(my_list)"
   ]
  },
  {
   "cell_type": "code",
   "execution_count": 27,
   "metadata": {},
   "outputs": [
    {
     "name": "stdout",
     "output_type": "stream",
     "text": [
      "[1, 2, 3, 4, 5]\n"
     ]
    }
   ],
   "source": [
    "numbers = [1, 2, 3, 4, 5]\n",
    "my_list = numbers[:]\n",
    "print(my_list)"
   ]
  },
  {
   "cell_type": "code",
   "execution_count": 28,
   "metadata": {},
   "outputs": [
    {
     "name": "stdout",
     "output_type": "stream",
     "text": [
      "[3, 4, 5]\n"
     ]
    }
   ],
   "source": [
    "numbers = [1, 2, 3, 4, 5]\n",
    "my_list = numbers[-3:]\n",
    "print(my_list)"
   ]
  },
  {
   "cell_type": "code",
   "execution_count": 29,
   "metadata": {},
   "outputs": [
    {
     "name": "stdout",
     "output_type": "stream",
     "text": [
      "[3, 4, 5]\n"
     ]
    }
   ],
   "source": [
    "mylist = [1, 2, 3, 4, 5]\n",
    "print(mylist[2:])"
   ]
  },
  {
   "cell_type": "code",
   "execution_count": 30,
   "metadata": {},
   "outputs": [
    {
     "name": "stdout",
     "output_type": "stream",
     "text": [
      "['mercury', 'earth', 'jupiter', 'uranus']\n"
     ]
    }
   ],
   "source": [
    "mylist = ['mercury', 'venus', 'earth', 'mars',\n",
    "          'jupiter', 'saturn', 'uranus', 'neptune']\n",
    "print(mylist[0::2])"
   ]
  },
  {
   "cell_type": "code",
   "execution_count": null,
   "metadata": {},
   "outputs": [],
   "source": [
    "# def main():\n",
    "# Create a list of product numbers.\n",
    "prod_nums = ['V475', 'F987', 'Q143', 'R688']\n",
    "\n",
    "# Get a product number to search for. \n",
    "search = input('Enter a product number: ')\n",
    "\n",
    "# Determine whether the product number is in the list.\n",
    "if search in prod_nums:\n",
    "    print(f'{search} was found in the list.')\n",
    "else:\n",
    "    print(f'{search} was not found in the list.')\n",
    "\n",
    "# Call the main function.\n",
    "# if __name__ == '__main__':\n",
    "#     main()"
   ]
  },
  {
   "cell_type": "code",
   "execution_count": 1,
   "metadata": {},
   "outputs": [
    {
     "name": "stdout",
     "output_type": "stream",
     "text": [
      "Jasmine's family:\n",
      "['Jim', 'Jill', 'John', 'Jasmine']\n"
     ]
    }
   ],
   "source": [
    "names = ['Jim', 'Jill', 'John', 'Jasmine']\n",
    "if \"Jasmine\" not in names:\n",
    "    print('Cannot find Jasmine.')\n",
    "else:\n",
    "    print(\"Jasmine's family:\")\n",
    "    print(names)"
   ]
  },
  {
   "cell_type": "code",
   "execution_count": 2,
   "metadata": {},
   "outputs": [
    {
     "name": "stdout",
     "output_type": "stream",
     "text": [
      "Kilimanjaro is not on the top five list.\n",
      "['Everest', 'K2', 'Kangchenjunga', 'Lhotse', 'Makalu']\n"
     ]
    }
   ],
   "source": [
    "top_five = ['Everest', 'K2', 'Kangchenjunga', 'Lhotse', 'Makalu']\n",
    "\n",
    "# Fill in the missing if statement here.\n",
    "if 'Kilimanjaro' not in top_five:\n",
    "    print('Kilimanjaro is not on the top five list.')\n",
    "else:\n",
    "    print('Kilimanjaro is one of the top five tallest mountains.')\n",
    "print(top_five)"
   ]
  },
  {
   "cell_type": "code",
   "execution_count": null,
   "metadata": {},
   "outputs": [],
   "source": []
  },
  {
   "cell_type": "code",
   "execution_count": 2,
   "metadata": {},
   "outputs": [],
   "source": [
    "# def main1():\n",
    "name_list = []\n",
    "\n",
    "# Create a variable to control the loop.\n",
    "again = 'y'\n",
    "\n",
    "# Add some names to the list\n",
    "while again == 'y':\n",
    "    # Get a name from the user. \n",
    "    name = input('Enter a name: ')\n",
    "\n",
    "    # Append the name to the list. \n",
    "    name_list.append(name)\n",
    "\n",
    "    # Add another one?\n",
    "    print('Do you want to add another name?')\n",
    "    again = input('y = yes, anything else = no: ')\n",
    "    print()\n",
    "\n",
    "# Display the names that were entered. \n",
    "print('Here are the names you entered.')\n",
    "\n",
    "for name in name_list:\n",
    "    print(name)\n",
    "\n",
    "# # Call the main1 function.\n",
    "# if __name__ == '__main1__':\n",
    "#     main1()"
   ]
  },
  {
   "cell_type": "code",
   "execution_count": 5,
   "metadata": {},
   "outputs": [
    {
     "name": "stdout",
     "output_type": "stream",
     "text": [
      "The list before the insert:\n",
      "['James', 'Kathryn', 'Bill']\n",
      "The list after the insert: \n",
      "['Joe', 'James', 'Kathryn', 'Bill']\n"
     ]
    }
   ],
   "source": [
    "names = ['James', 'Kathryn', 'Bill']\n",
    "\n",
    "print('The list before the insert:')\n",
    "print(names)\n",
    "\n",
    "names.insert(0, 'Joe')\n",
    "\n",
    "print('The list after the insert: ')\n",
    "print(names)"
   ]
  },
  {
   "cell_type": "code",
   "execution_count": 7,
   "metadata": {},
   "outputs": [
    {
     "name": "stdout",
     "output_type": "stream",
     "text": [
      "Original order: [9, 1, 0, 2, 8, 6, 7, 4, 5, 3]\n",
      "Sorted order: [0, 1, 2, 3, 4, 5, 6, 7, 8, 9]\n"
     ]
    }
   ],
   "source": [
    "my_list = [9, 1, 0, 2, 8, 6, 7, 4, 5, 3]\n",
    "print('Original order:', my_list)\n",
    "my_list.sort()\n",
    "print('Sorted order:', my_list)"
   ]
  },
  {
   "cell_type": "code",
   "execution_count": 8,
   "metadata": {},
   "outputs": [
    {
     "name": "stdout",
     "output_type": "stream",
     "text": [
      "Original order: ['beta', 'alpha', 'delta', 'gamma']\n",
      "Sorted order: ['alpha', 'beta', 'delta', 'gamma']\n"
     ]
    }
   ],
   "source": [
    "my_list = ['beta', 'alpha', 'delta', 'gamma']\n",
    "print('Original order:', my_list)\n",
    "my_list.sort()\n",
    "print('Sorted order:', my_list)"
   ]
  },
  {
   "cell_type": "code",
   "execution_count": 16,
   "metadata": {},
   "outputs": [
    {
     "name": "stdout",
     "output_type": "stream",
     "text": [
      "Here are the items in the food list:\n",
      "['Pizza', 'Burgers', 'Chips']\n",
      "That item was not found in the list.\n"
     ]
    }
   ],
   "source": [
    "food = ['Pizza', 'Burgers', 'Chips']\n",
    "\n",
    "print('Here are the items in the food list:')\n",
    "print(food)\n",
    "\n",
    "item = input('Which item should I remove? ')\n",
    "\n",
    "try:\n",
    "    food.remove(item)\n",
    "    print('Here is the revised list:')\n",
    "    print(food)\n",
    "\n",
    "except ValueError:\n",
    "    print('That item was not found in the list.')\n"
   ]
  },
  {
   "cell_type": "code",
   "execution_count": 19,
   "metadata": {},
   "outputs": [
    {
     "name": "stdout",
     "output_type": "stream",
     "text": [
      "[1, 2, 3, 4]\n",
      "[1, 2, 3, 4]\n",
      "[99, 2, 3, 4]\n",
      "[99, 2, 3, 4]\n"
     ]
    }
   ],
   "source": [
    "# Create a list\n",
    "list1 = [1, 2, 3, 4]\n",
    "list2 = list1\n",
    "print(list1)\n",
    "print(list2)\n",
    "list1[0] = 99\n",
    "print(list1)\n",
    "print(list2)"
   ]
  },
  {
   "cell_type": "code",
   "execution_count": 21,
   "metadata": {},
   "outputs": [
    {
     "name": "stdout",
     "output_type": "stream",
     "text": [
      "[1, 2, 3, 4]\n"
     ]
    }
   ],
   "source": [
    "# Create a list with values.\n",
    "list1 = [1, 2, 3, 4]\n",
    "\n",
    "# Create an empty list.\n",
    "list2 = []\n",
    "\n",
    "# Copy the elements of list1 to list2. \n",
    "for item in list1:\n",
    "    list2.append(item)\n",
    "print(list2)"
   ]
  },
  {
   "cell_type": "code",
   "execution_count": 22,
   "metadata": {},
   "outputs": [
    {
     "name": "stdout",
     "output_type": "stream",
     "text": [
      "[1, 2, 3, 4]\n"
     ]
    }
   ],
   "source": [
    "# Create a list with values.\n",
    "list1 = [1, 2, 3, 4]\n",
    "\n",
    "# Create a copy of list1. \n",
    "list2 = [ ] + list1\n",
    "print(list2)"
   ]
  },
  {
   "cell_type": "code",
   "execution_count": null,
   "metadata": {},
   "outputs": [],
   "source": []
  }
 ],
 "metadata": {
  "kernelspec": {
   "display_name": "base",
   "language": "python",
   "name": "python3"
  },
  "language_info": {
   "codemirror_mode": {
    "name": "ipython",
    "version": 3
   },
   "file_extension": ".py",
   "mimetype": "text/x-python",
   "name": "python",
   "nbconvert_exporter": "python",
   "pygments_lexer": "ipython3",
   "version": "3.9.13"
  },
  "orig_nbformat": 4
 },
 "nbformat": 4,
 "nbformat_minor": 2
}
