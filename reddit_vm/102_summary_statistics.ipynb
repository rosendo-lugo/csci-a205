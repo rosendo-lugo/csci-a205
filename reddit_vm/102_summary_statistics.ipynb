{
 "cells": [
  {
   "cell_type": "code",
   "execution_count": 1,
   "metadata": {
    "id": "TCIgbRDg7wt_"
   },
   "outputs": [
    {
     "name": "stdout",
     "output_type": "stream",
     "text": [
      "--2023-09-08 01:39:14--  https://raw.githubusercontent.com/remjw/data/master/py_programming_data/reddit_vm.csv\n",
      "Resolving raw.githubusercontent.com (raw.githubusercontent.com)... 185.199.109.133, 185.199.110.133, 185.199.111.133, ...\n",
      "Connecting to raw.githubusercontent.com (raw.githubusercontent.com)|185.199.109.133|:443... connected.\n",
      "HTTP request sent, awaiting response... 200 OK\n",
      "Length: 607300 (593K) [text/plain]\n",
      "Saving to: 'reddit_vm.csv.1'\n",
      "\n",
      "reddit_vm.csv.1     100%[===================>] 593.07K  --.-KB/s    in 0.1s    \n",
      "\n",
      "2023-09-08 01:39:14 (4.44 MB/s) - 'reddit_vm.csv.1' saved [607300/607300]\n",
      "\n"
     ]
    }
   ],
   "source": [
    "# for Colab only: run this cell to get data\n",
    "!wget https://raw.githubusercontent.com/remjw/data/master/py_programming_data/reddit_vm.csv\n",
    "# after run the cell, confirm reddit.csv in Files on left column bar\n",
    "# double click the name to view the data having 1531 records."
   ]
  },
  {
   "cell_type": "code",
   "execution_count": 2,
   "metadata": {
    "id": "oHwthx-o19XE"
   },
   "outputs": [],
   "source": [
    "# 0. load dependencies\n",
    "import os, csv\n",
    "# No need to install (pip install matlplotlib)\n",
    "import matplotlib.pyplot as plt"
   ]
  },
  {
   "cell_type": "markdown",
   "metadata": {
    "id": "V07onf7qNv4M"
   },
   "source": [
    "### You work in this cell to\n",
    "\n",
    "- Complete `analyze_base_python(entries)`\n",
    "\n",
    "- Only use Python Base in the function `analyze_base_python` to perform the same analysis and display the expected output.\n",
    "\n",
    "- Run the cell to display the analysis result."
   ]
  },
  {
   "cell_type": "code",
   "execution_count": 3,
   "metadata": {
    "colab": {
     "base_uri": "https://localhost:8080/"
    },
    "id": "yBDde-qu7zEt",
    "outputId": "bd98da61-2db1-4c79-e19a-9f951d5674a3"
   },
   "outputs": [],
   "source": [
    "# user-defined function\n",
    "def analyze_base_python(entries):\n",
    "    '''to-be-completed, only use Python base library\n",
    "    analyze entries to answer the questions'''\n",
    "\n",
    "    # inspect first tuple values in a record\n",
    "    print(f'first entry: {entries[0]}')\n",
    "\n",
    "    report = f'The program only uses Python Base.\\n'\n",
    "\n",
    "    # average number of comments\n",
    "    avg_num_comments = 0\n",
    "    avg_score = 0\n",
    "    \n",
    "    # highest score\n",
    "    max_score = 0\n",
    "    top_post_title_by_score = None\n",
    "    \n",
    "    # lowest score\n",
    "    min_score = 0\n",
    "    last_post_title_by_score = None\n",
    "    \n",
    "    # most commented\n",
    "    max_comms = 0\n",
    "    most_commented_post_title = None\n",
    "\n",
    "    # -------\n",
    "    # write code to calculate the values above\n",
    "    # --------   \n",
    "    # Calculate average number of comments\n",
    "    comms_length = [entry[2] for entry in entries]\n",
    "    avg_num_comments = sum(comms_length) / len(comms_length)\n",
    "\n",
    "    # Calculate average score\n",
    "    score_length = [entry[1] for entry in entries]\n",
    "    avg_score = sum(score_length) / len(score_length)\n",
    "\n",
    "    # Analyze score column\n",
    "    max_score = max(score_length)\n",
    "    min_score = min(score_length)\n",
    "    index_of_max_score = score_length.index(max_score)\n",
    "    index_of_min_score = score_length.index(min_score)\n",
    "    top_post_title_by_score = entries[index_of_max_score][3]\n",
    "    last_post_title_by_score = entries[index_of_min_score][3]\n",
    "\n",
    "    # Analyze comms_num column\n",
    "    max_comms = max(comms_length)\n",
    "    index_of_max_comms = comms_length.index(max_comms)\n",
    "    most_commented_post_title = entries[index_of_max_comms][3]\n",
    "    # --------\n",
    "    ...\n",
    "    ...\n",
    "\n",
    "    report += f'\\nAverage number of comments per post: {avg_num_comments:15,.3f}'\n",
    "    report += f'\\nAverage score per post: {avg_score:15,.3f}'\n",
    "    report += f'\\nTop Post title (score {max_score:.3f}): {top_post_title_by_score}'\n",
    "    report += f'\\nLast Post title (score {min_score:.3f}): {last_post_title_by_score}'\n",
    "    report += f'\\nMost Commented title ({max_comms} comments): {most_commented_post_title}'\n",
    "    return report"
   ]
  },
  {
   "cell_type": "code",
   "execution_count": 4,
   "metadata": {
    "colab": {
     "base_uri": "https://localhost:8080/"
    },
    "id": "yBDde-qu7zEt",
    "outputId": "bd98da61-2db1-4c79-e19a-9f951d5674a3",
    "tags": []
   },
   "outputs": [
    {
     "name": "stdout",
     "output_type": "stream",
     "text": [
      "first entry: ('lt74vw', 7, 0, 'Health Canada approves AstraZeneca COVID-19 vaccine')\n",
      "The program only uses Python Base.\n",
      "\n",
      "Average number of comments per post:           1.895\n",
      "Average score per post:           3.743\n",
      "Top Post title (score 1189.000): I would rage if this was handed to me...\n",
      "Last Post title (score -12.000): Comment\n",
      "Most Commented title (596 comments): I would rage if this was handed to me...\n"
     ]
    }
   ],
   "source": [
    "def main():\n",
    "    # read csv into a tuple list\n",
    "    with open(\"reddit_vm.csv\", \"r\", encoding='UTF-8', errors=\"ignore\") as f:\n",
    "        # read data into a list of tuples\n",
    "        entries = [\n",
    "            (e['id'], int(e['score']), int(e['comms_num']), e['title'])\n",
    "            for e in csv.DictReader(f)\n",
    "        ]\n",
    "    # print(entries)\n",
    "\n",
    "    print(analyze_base_python(entries))\n",
    "\n",
    "main()"
   ]
  }
 ],
 "metadata": {
  "colab": {
   "provenance": []
  },
  "kernelspec": {
   "display_name": "Python 3 (ipykernel)",
   "language": "python",
   "name": "python3"
  },
  "language_info": {
   "codemirror_mode": {
    "name": "ipython",
    "version": 3
   },
   "file_extension": ".py",
   "mimetype": "text/x-python",
   "name": "python",
   "nbconvert_exporter": "python",
   "pygments_lexer": "ipython3",
   "version": "3.9.13"
  }
 },
 "nbformat": 4,
 "nbformat_minor": 4
}
