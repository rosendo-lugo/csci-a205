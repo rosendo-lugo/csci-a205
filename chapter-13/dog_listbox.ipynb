{
 "cells": [
  {
   "cell_type": "code",
   "execution_count": 2,
   "id": "4545a8e5-0d93-4aa8-a1f6-99979d259b75",
   "metadata": {},
   "outputs": [],
   "source": [
    "# This program gets the user's selection from a listbox.\n",
    "import tkinter\n",
    "import tkinter.messagebox\n",
    "\n",
    "class ListBoxSelection:\n",
    "    def __init__(self):\n",
    "        # Create the main window.\n",
    "        self.main_window = tkinter.Tk()\n",
    "        \n",
    "        # Create a Listbox widget.\n",
    "        self.dog_listbox = tkinter.Listbox(\n",
    "        self.main_window, width=0, height=0)\n",
    "        self.dog_listbox.pack(padx=10, pady=5)\n",
    "        \n",
    "        # Creata a list with the names of doy breeds.\n",
    "        dogs = ['Labrador', 'Poodle', 'Great Dane', 'Terrier']\n",
    "        \n",
    "        # Populate the Listbox with the list contents.\n",
    "        for dog in dogs:\n",
    "            self.dog_listbox.insert(tkinter.END, dog)\n",
    "            \n",
    "        # Create a button to get the selected item.\n",
    "        self.get_button = tkinter.Button(\n",
    "            self.main_window, text='Get Item',\n",
    "            command=self.__retrieve_dog)\n",
    "        self.get_button.pack(padx=10, pady=5)\n",
    "        \n",
    "        # Start the main loop.\n",
    "        tkinter.mainloop()\n",
    "        \n",
    "    def __retrieve_dog(self):\n",
    "        # Get the index of the selected item.\n",
    "        indexes = self.dog_listbox.curselection()\n",
    "        \n",
    "        # if an tiem is selected, display it.\n",
    "        if (len(indexes) > 0):\n",
    "            tkinter.messagebox.showinfo(\n",
    "            message=self.dog_listbox.get(indexes[0]))\n",
    "        else:\n",
    "            tkinter.messagebox.showinfo(\n",
    "                message='No item selected.')\n",
    "            \n",
    "# Create an instance of the ListBoxSelection class.\n",
    "if __name__ == '__main__':\n",
    "    listbox_selection = ListBoxSelection()\n",
    "        "
   ]
  },
  {
   "cell_type": "code",
   "execution_count": 1,
   "id": "dfe60ae6-3000-4426-b43f-b68dd8a18169",
   "metadata": {},
   "outputs": [
    {
     "ename": "NameError",
     "evalue": "name 'self' is not defined",
     "output_type": "error",
     "traceback": [
      "\u001b[0;31m---------------------------------------------------------------------------\u001b[0m",
      "\u001b[0;31mNameError\u001b[0m                                 Traceback (most recent call last)",
      "Input \u001b[0;32mIn [1]\u001b[0m, in \u001b[0;36m<cell line: 2>\u001b[0;34m()\u001b[0m\n\u001b[1;32m      1\u001b[0m \u001b[38;5;66;03m# Deleting items from a Listbox\u001b[39;00m\n\u001b[0;32m----> 2\u001b[0m \u001b[38;5;28;43mself\u001b[39;49m\u001b[38;5;241m.\u001b[39mlistbox\u001b[38;5;241m.\u001b[39mdelete(\u001b[38;5;241m0\u001b[39m)\n",
      "\u001b[0;31mNameError\u001b[0m: name 'self' is not defined"
     ]
    }
   ],
   "source": [
    "# Deleting items from a Listbox\n",
    "self.listbox.delete(0)\n",
    "# After this statement executes, the first tiem in the Listbox (at index 0)\n",
    "# will be deleted."
   ]
  },
  {
   "cell_type": "code",
   "execution_count": null,
   "id": "da948a88-f27f-4c0b-b06b-bf8d28b97790",
   "metadata": {},
   "outputs": [],
   "source": []
  }
 ],
 "metadata": {
  "kernelspec": {
   "display_name": "Python 3 (ipykernel)",
   "language": "python",
   "name": "python3"
  },
  "language_info": {
   "codemirror_mode": {
    "name": "ipython",
    "version": 3
   },
   "file_extension": ".py",
   "mimetype": "text/x-python",
   "name": "python",
   "nbconvert_exporter": "python",
   "pygments_lexer": "ipython3",
   "version": "3.9.13"
  }
 },
 "nbformat": 4,
 "nbformat_minor": 5
}
