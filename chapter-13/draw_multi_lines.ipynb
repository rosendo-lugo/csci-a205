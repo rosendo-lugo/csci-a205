{
 "cells": [
  {
   "cell_type": "code",
   "execution_count": 4,
   "id": "bf583c40-a972-4cc3-9ea5-950b19727dfe",
   "metadata": {},
   "outputs": [],
   "source": [
    "# This program connects multiple points with a line.\n",
    "import tkinter\n",
    "\n",
    "class MyGUI:\n",
    "    def __init__(self):\n",
    "        # Create the main window.\n",
    "        self.main_window = tkinter.Tk()\n",
    "        \n",
    "        # Create the Canvas widget.\n",
    "        self.canvas = tkinter.Canvas(self.main_window, width=200, height=200)\n",
    "        \n",
    "        # Draw a line connecting multiple points.\n",
    "        self.canvas.create_line(10, 10, 189, 10, 100, 189, 10 ,10)\n",
    "        \n",
    "        # Pack the canvas.\n",
    "        self.canvas.pack()\n",
    "        \n",
    "        # Start the mainloop.\n",
    "        tkinter.mainloop()\n",
    "        \n",
    "# Create an instance of the MyGUI class.\n",
    "if __name__ == '__main__':\n",
    "    my_gui = MyGUI()"
   ]
  },
  {
   "cell_type": "code",
   "execution_count": null,
   "id": "9fb66bfa-cc45-4d02-974a-15f0814015c6",
   "metadata": {},
   "outputs": [],
   "source": []
  }
 ],
 "metadata": {
  "kernelspec": {
   "display_name": "Python 3 (ipykernel)",
   "language": "python",
   "name": "python3"
  },
  "language_info": {
   "codemirror_mode": {
    "name": "ipython",
    "version": 3
   },
   "file_extension": ".py",
   "mimetype": "text/x-python",
   "name": "python",
   "nbconvert_exporter": "python",
   "pygments_lexer": "ipython3",
   "version": "3.9.13"
  }
 },
 "nbformat": 4,
 "nbformat_minor": 5
}
