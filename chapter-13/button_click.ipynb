{
 "cells": [
  {
   "cell_type": "code",
   "execution_count": 4,
   "id": "91329d1f-f74b-4a9e-907a-05bf8ca71f82",
   "metadata": {},
   "outputs": [],
   "source": [
    "# This program demonstrates a Button widget.\n",
    "# When the user clicks the Button, an\n",
    "# info dialog box is displayed.\n",
    "\n",
    "import tkinter\n",
    "import tkinter.messagebox\n",
    "\n",
    "class MyGUI:\n",
    "    def __init__(self):\n",
    "        # Create the main window widget.\n",
    "        self.main_window = tkinter.Tk()\n",
    "        \n",
    "        # Create a Button widget. The text 'Click Me!'\n",
    "        # should appear on the face of the Button. The\n",
    "        # do_something method should be executed when\n",
    "        # the user clicks the Button.\n",
    "        self.my_button = tkinter.Button(self.main_window, \\\n",
    "                                       text = 'Click Me!', \\\n",
    "                                       command = self.do_something)\n",
    "      \n",
    "        # Call both Label widgets' pack method.\n",
    "        self.my_button.pack()\n",
    "        \n",
    "        # Enter the tkinter main loop.\n",
    "        tkinter.mainloop()\n",
    "        \n",
    "    # The do_something method is a callback function\n",
    "    # for the Button widget.\n",
    "    def do_something(self):\n",
    "        # Display an info dialog box.\n",
    "        tkinter.messagebox.showinfo('Response', \\\n",
    "                                   'Thanks for clicking the button.')\n",
    "        \n",
    "# Create an instance of the MyGUI class.\n",
    "if __name__ == '__main__':\n",
    "    my_gui = MyGUI()"
   ]
  },
  {
   "cell_type": "code",
   "execution_count": null,
   "id": "5580ccc9-b8c0-4698-878b-359f379cb153",
   "metadata": {},
   "outputs": [],
   "source": []
  }
 ],
 "metadata": {
  "kernelspec": {
   "display_name": "Python 3 (ipykernel)",
   "language": "python",
   "name": "python3"
  },
  "language_info": {
   "codemirror_mode": {
    "name": "ipython",
    "version": 3
   },
   "file_extension": ".py",
   "mimetype": "text/x-python",
   "name": "python",
   "nbconvert_exporter": "python",
   "pygments_lexer": "ipython3",
   "version": "3.9.13"
  }
 },
 "nbformat": 4,
 "nbformat_minor": 5
}
