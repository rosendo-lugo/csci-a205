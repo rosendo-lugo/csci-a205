{
 "cells": [
  {
   "cell_type": "code",
   "execution_count": 1,
   "id": "3f199a18-7694-40dc-ab71-c19dc47d6ff1",
   "metadata": {},
   "outputs": [],
   "source": [
    "# This program displays two labels with text.\n",
    "\n",
    "import tkinter\n",
    "\n",
    "class MyGUI:\n",
    "    def __init__(self):\n",
    "        # Create the main window widget.\n",
    "        self.main_window = tkinter.Tk()\n",
    "        \n",
    "        # Create two Label widgets.\n",
    "        self.label1 = tkinter.Label(self.main_window,\n",
    "                                   text = 'Hello World!',\n",
    "                                   borderwidth = 1,\n",
    "                                   relief = 'solid')\n",
    "        self.label2 = tkinter.Label(self.main_window,\n",
    "                                   text = 'This is my GUI program.',\n",
    "                                    borderwidth = 1,\n",
    "                                    relief = 'solid')\n",
    "        \n",
    "        # Call both Label widgets' pack method.\n",
    "        self.label1.pack(ipadx = 20, ipady = 20)\n",
    "        self.label2.pack(ipadx = 20, ipady = 20)\n",
    "        \n",
    "        # Enter the tkinter main loop.\n",
    "        tkinter.mainloop()\n",
    "        \n",
    "# Create an instance of the MyGUI class.\n",
    "if __name__ == '__main__':\n",
    "    my_gui = MyGUI()"
   ]
  },
  {
   "cell_type": "code",
   "execution_count": null,
   "id": "ac74a6c6-89a0-4133-9b53-dc08df7fc6bc",
   "metadata": {},
   "outputs": [],
   "source": []
  }
 ],
 "metadata": {
  "kernelspec": {
   "display_name": "Python 3 (ipykernel)",
   "language": "python",
   "name": "python3"
  },
  "language_info": {
   "codemirror_mode": {
    "name": "ipython",
    "version": 3
   },
   "file_extension": ".py",
   "mimetype": "text/x-python",
   "name": "python",
   "nbconvert_exporter": "python",
   "pygments_lexer": "ipython3",
   "version": "3.9.13"
  }
 },
 "nbformat": 4,
 "nbformat_minor": 5
}
