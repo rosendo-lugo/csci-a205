{
 "cells": [
  {
   "cell_type": "code",
   "execution_count": 2,
   "id": "0d19dc24-785b-4dd6-99c1-5ca6d0925db9",
   "metadata": {},
   "outputs": [],
   "source": [
    "# This program connects multiple points with a line.\n",
    "import tkinter\n",
    "\n",
    "class MyGUI:\n",
    "    def __init__(self):\n",
    "        # Create the main window.\n",
    "        self.main_window = tkinter.Tk()\n",
    "        \n",
    "        # Create the Canvas widget.\n",
    "        self.canvas = tkinter.Canvas(self.main_window, width=200, height=200)\n",
    "        \n",
    "        # Draw a line connecting multiple points.\n",
    "        self.canvas.create_oval(20, 20, 70, 70)\n",
    "        self.canvas.create_oval(100, 100, 180, 130)\n",
    "        \n",
    "        # Pack the canvas.\n",
    "        self.canvas.pack()\n",
    "        \n",
    "        # Start the mainloop.\n",
    "        tkinter.mainloop()\n",
    "        \n",
    "# Create an instance of the MyGUI class.\n",
    "if __name__ == '__main__':\n",
    "    my_gui = MyGUI()"
   ]
  },
  {
   "cell_type": "code",
   "execution_count": null,
   "id": "16794fc8-872c-4cec-9574-93547e1c5e58",
   "metadata": {},
   "outputs": [],
   "source": []
  }
 ],
 "metadata": {
  "kernelspec": {
   "display_name": "Python 3 (ipykernel)",
   "language": "python",
   "name": "python3"
  },
  "language_info": {
   "codemirror_mode": {
    "name": "ipython",
    "version": 3
   },
   "file_extension": ".py",
   "mimetype": "text/x-python",
   "name": "python",
   "nbconvert_exporter": "python",
   "pygments_lexer": "ipython3",
   "version": "3.9.13"
  }
 },
 "nbformat": 4,
 "nbformat_minor": 5
}
