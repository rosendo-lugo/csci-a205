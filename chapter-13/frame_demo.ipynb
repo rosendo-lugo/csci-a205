{
 "cells": [
  {
   "cell_type": "code",
   "execution_count": 1,
   "id": "19eee2b8-09cf-4d61-b5dc-253ae8fc9671",
   "metadata": {},
   "outputs": [],
   "source": [
    "# This program displays two labels with text.\n",
    "\n",
    "import tkinter\n",
    "\n",
    "class MyGUI:\n",
    "    def __init__(self):\n",
    "        # Create the main window widget.\n",
    "        self.main_window = tkinter.Tk()\n",
    "        \n",
    "        # Create two frames, one for the top of the \n",
    "        # window, and one for the bottom.\n",
    "        self.top_frame = tkinter.Frame(self.main_window)\n",
    "        self.bottom_frame = tkinter.Frame(self.main_window)\n",
    "        \n",
    "        # Create three Label widgets.\n",
    "        self.label1 = tkinter.Label(self.top_frame,\n",
    "                                   text = 'Winken',)\n",
    "        self.label2 = tkinter.Label(self.top_frame,\n",
    "                                   text = 'Blinken')\n",
    "        self.label3 = tkinter.Label(self.top_frame,\n",
    "                                   text = 'Nod')\n",
    "        \n",
    "        # Pack the labels that are in the top frame.\n",
    "        # Use the side = 'top' argument to stach them\n",
    "        # one on top of the other.\n",
    "        self.label1.pack(side = 'top')\n",
    "        self.label2.pack(side = 'top')\n",
    "        self.label3.pack(side = 'top')\n",
    "        \n",
    "        # Create three Label widgets for the\n",
    "        # bottom frame.\n",
    "        self.label4 = tkinter.Label(self.bottom_frame,\n",
    "                                   text = 'Winken')\n",
    "        self.label5 = tkinter.Label(self.bottom_frame,\n",
    "                                   text = 'Blinken')\n",
    "        self.label6 = tkinter.Label(self.bottom_frame,\n",
    "                                   text = 'Nod')\n",
    "        \n",
    "        # Pack the lables that are in the bottom frame.\n",
    "        # Use the side='left' argument to arrange them\n",
    "        # horizontally from the left to the frame.\n",
    "        self.label4.pack(side = 'left')\n",
    "        self.label5.pack(side = 'left')\n",
    "        self.label6.pack(side = 'left')\n",
    "        \n",
    "        # Yes, we have to pack the frames too!\n",
    "        self.top_frame.pack()\n",
    "        self.bottom_frame.pack()\n",
    "        \n",
    "        # Enter the tkinter main loop.\n",
    "        tkinter.mainloop()\n",
    "        \n",
    "# Create an instance of the MyGUI class.\n",
    "if __name__ == '__main__':\n",
    "    my_gui = MyGUI()"
   ]
  },
  {
   "cell_type": "code",
   "execution_count": null,
   "id": "af1b0459-6d64-4f44-a619-a54975782dff",
   "metadata": {},
   "outputs": [],
   "source": []
  }
 ],
 "metadata": {
  "kernelspec": {
   "display_name": "Python 3 (ipykernel)",
   "language": "python",
   "name": "python3"
  },
  "language_info": {
   "codemirror_mode": {
    "name": "ipython",
    "version": 3
   },
   "file_extension": ".py",
   "mimetype": "text/x-python",
   "name": "python",
   "nbconvert_exporter": "python",
   "pygments_lexer": "ipython3",
   "version": "3.9.13"
  }
 },
 "nbformat": 4,
 "nbformat_minor": 5
}
