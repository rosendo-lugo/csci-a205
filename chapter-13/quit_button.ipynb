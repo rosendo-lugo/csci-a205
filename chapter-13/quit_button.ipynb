{
 "cells": [
  {
   "cell_type": "code",
   "execution_count": 1,
   "id": "03cff9cf-6ac3-4733-ae8e-2cdef449b7c4",
   "metadata": {},
   "outputs": [],
   "source": [
    "# This program has a Quit Button that calls\n",
    "# the Tk class's destroy method when clicked.\n",
    "\n",
    "import tkinter\n",
    "import tkinter.messagebox\n",
    "\n",
    "class MyGUI:\n",
    "    def __init__(self):\n",
    "        # Create the main window widget.\n",
    "        self.main_window = tkinter.Tk()\n",
    "        \n",
    "        # Create a Button widget. The text 'Click Me!'\n",
    "        # should appear on the face of the Button. The\n",
    "        # do_something method should be executed when\n",
    "        # the user clicks the Button.\n",
    "        self.my_button = tkinter.Button(self.main_window, \\\n",
    "                                       text = 'Click Me!', \\\n",
    "                                       command = self.do_something)\n",
    "        \n",
    "        # Create a Quit button. When this button is clicked\n",
    "        # the root widget's destroy method is called.\n",
    "        # (The main_window variable references tha root widget,\n",
    "        # So the callback function is self.main_window.destroy.)\n",
    "        self.quit_button = tkinter.Button(self.main_window,\n",
    "                                         text = 'Quit',\n",
    "                                         command = self.main_window.destroy)\n",
    "      \n",
    "        # Pack the Buttons.\n",
    "        self.my_button.pack()\n",
    "        self.quit_button.pack()\n",
    "        \n",
    "        # Enter the tkinter main loop.\n",
    "        tkinter.mainloop()\n",
    "        \n",
    "    # The do_something method is a callback function\n",
    "    # for the Button widget.\n",
    "    def do_something(self):\n",
    "        # Display an info dialog box.\n",
    "        tkinter.messagebox.showinfo('Response', \\\n",
    "                                   'Thanks for clicking the button.')\n",
    "        \n",
    "# Create an instance of the MyGUI class.\n",
    "if __name__ == '__main__':\n",
    "    my_gui = MyGUI()"
   ]
  },
  {
   "cell_type": "code",
   "execution_count": null,
   "id": "0604ff67-0122-434b-87ef-90e39ae33d4b",
   "metadata": {},
   "outputs": [],
   "source": []
  }
 ],
 "metadata": {
  "kernelspec": {
   "display_name": "Python 3 (ipykernel)",
   "language": "python",
   "name": "python3"
  },
  "language_info": {
   "codemirror_mode": {
    "name": "ipython",
    "version": 3
   },
   "file_extension": ".py",
   "mimetype": "text/x-python",
   "name": "python",
   "nbconvert_exporter": "python",
   "pygments_lexer": "ipython3",
   "version": "3.9.13"
  }
 },
 "nbformat": 4,
 "nbformat_minor": 5
}
