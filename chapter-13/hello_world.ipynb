{
 "cells": [
  {
   "cell_type": "code",
   "execution_count": 1,
   "id": "cf74614f-d75b-44a5-b0ce-e424b06ad0c0",
   "metadata": {},
   "outputs": [],
   "source": [
    "# This program displays a label with text.\n",
    "\n",
    "import tkinter\n",
    "\n",
    "class MyGUI:\n",
    "    def __init__(self):\n",
    "        # Create the main window widget.\n",
    "        self.main_window = tkinter.Tk()\n",
    "        \n",
    "        # Create two Label widgets.\n",
    "        self.label = tkinter.Label(self.main_window,\n",
    "                                   text = 'Hello World!')\n",
    "      \n",
    "        # Call both Label widgets' pack method.\n",
    "        self.label.pack()\n",
    "        \n",
    "        # Enter the tkinter main loop.\n",
    "        tkinter.mainloop()\n",
    "        \n",
    "# Create an instance of the MyGUI class.\n",
    "if __name__ == '__main__':\n",
    "    my_gui = MyGUI()"
   ]
  },
  {
   "cell_type": "code",
   "execution_count": 2,
   "id": "16cf5bb4-132c-4dd2-bcf5-791340f70f86",
   "metadata": {},
   "outputs": [],
   "source": [
    "# This program displays two labels with text.\n",
    "\n",
    "import tkinter\n",
    "\n",
    "class MyGUI:\n",
    "    def __init__(self):\n",
    "        # Create the main window widget.\n",
    "        self.main_window = tkinter.Tk()\n",
    "        \n",
    "        # Create two Label widgets.\n",
    "        self.label1 = tkinter.Label(self.main_window,\n",
    "                                   text = 'Hello World!')\n",
    "        self.label2 = tkinter.Label(self.main_window,\n",
    "                                   text = 'This is my GUI program.')\n",
    "        \n",
    "        # Call both Label widgets' pack method.\n",
    "        self.label1.pack()\n",
    "        self.label2.pack()\n",
    "        \n",
    "        # Enter the tkinter main loop.\n",
    "        tkinter.mainloop()\n",
    "        \n",
    "# Create an instance of the MyGUI class.\n",
    "if __name__ == '__main__':\n",
    "    my_gui = MyGUI()\n",
    "        "
   ]
  },
  {
   "cell_type": "code",
   "execution_count": null,
   "id": "2066cbb8-74cb-4e14-9985-5c35d2c06f15",
   "metadata": {},
   "outputs": [],
   "source": []
  }
 ],
 "metadata": {
  "kernelspec": {
   "display_name": "Python 3 (ipykernel)",
   "language": "python",
   "name": "python3"
  },
  "language_info": {
   "codemirror_mode": {
    "name": "ipython",
    "version": 3
   },
   "file_extension": ".py",
   "mimetype": "text/x-python",
   "name": "python",
   "nbconvert_exporter": "python",
   "pygments_lexer": "ipython3",
   "version": "3.9.13"
  }
 },
 "nbformat": 4,
 "nbformat_minor": 5
}
