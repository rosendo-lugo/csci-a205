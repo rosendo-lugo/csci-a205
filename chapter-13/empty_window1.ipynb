{
 "cells": [
  {
   "cell_type": "code",
   "execution_count": 1,
   "id": "c4688b17-76c9-4497-b58a-072ff8873e64",
   "metadata": {},
   "outputs": [],
   "source": [
    "# This program displays an empty window.\n",
    "\n",
    "import tkinter\n",
    "\n",
    "def main():\n",
    "    # Create the main window widget.\n",
    "    main_window = tkinter.Tk()\n",
    "    \n",
    "    # Enter the tkinter main loop.\n",
    "    tkinter.mainloop()\n",
    "    \n",
    "# Call the main function.\n",
    "if __name__ == '__main__':\n",
    "    main()"
   ]
  }
 ],
 "metadata": {
  "kernelspec": {
   "display_name": "Python 3 (ipykernel)",
   "language": "python",
   "name": "python3"
  },
  "language_info": {
   "codemirror_mode": {
    "name": "ipython",
    "version": 3
   },
   "file_extension": ".py",
   "mimetype": "text/x-python",
   "name": "python",
   "nbconvert_exporter": "python",
   "pygments_lexer": "ipython3",
   "version": "3.9.13"
  }
 },
 "nbformat": 4,
 "nbformat_minor": 5
}
