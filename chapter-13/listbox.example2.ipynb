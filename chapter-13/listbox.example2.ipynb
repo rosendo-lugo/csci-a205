{
 "cells": [
  {
   "cell_type": "code",
   "execution_count": 1,
   "id": "59186203-d642-4ace-be64-e2e79fefc080",
   "metadata": {},
   "outputs": [],
   "source": [
    "# This program demonstrates a simple Listbox.\n",
    "import tkinter\n",
    "\n",
    "class ListboxExample:\n",
    "    def __init__(self):\n",
    "        # Create the main window.\n",
    "        self.main_window = tkinter.Tk()\n",
    "        \n",
    "        # Create a Listbox widget.\n",
    "        self.listbox = tkinter.Listbox(\n",
    "            self.main_window, height=0, width=0)\n",
    "        self.listbox.pack(padx=10, pady=10)\n",
    "        \n",
    "        \n",
    "        # Create a lsit with the days of the week.\n",
    "        days = ['Monday', 'Tuesday', 'Wednesday',\n",
    "                'Thursday', 'Friday', 'Saturday',\n",
    "                'Sunday']\n",
    "        \n",
    "        # Populate the Listbox with the data.\n",
    "        for day in days:\n",
    "            self.listbox.insert(tkinter.END, day)\n",
    "        \n",
    "        # Start the main loop.\n",
    "        tkinter.mainloop()\n",
    "        \n",
    "# Create an instance of the ListboxExample class.\n",
    "if __name__ == '__main__':\n",
    "    listbox_example = ListboxExample()"
   ]
  },
  {
   "cell_type": "code",
   "execution_count": null,
   "id": "d1adfd09-8a68-4a10-a577-2399297d1040",
   "metadata": {},
   "outputs": [],
   "source": []
  }
 ],
 "metadata": {
  "kernelspec": {
   "display_name": "Python 3 (ipykernel)",
   "language": "python",
   "name": "python3"
  },
  "language_info": {
   "codemirror_mode": {
    "name": "ipython",
    "version": 3
   },
   "file_extension": ".py",
   "mimetype": "text/x-python",
   "name": "python",
   "nbconvert_exporter": "python",
   "pygments_lexer": "ipython3",
   "version": "3.9.13"
  }
 },
 "nbformat": 4,
 "nbformat_minor": 5
}
