{
 "cells": [
  {
   "cell_type": "code",
   "execution_count": 1,
   "id": "2b96bd48-8a85-4acd-90d8-49a27d4228d4",
   "metadata": {},
   "outputs": [],
   "source": [
    "# This program displays two labels with text.\n",
    "\n",
    "import tkinter\n",
    "\n",
    "class MyGUI:\n",
    "    def __init__(self):\n",
    "        # Create the main window widget.\n",
    "        self.main_window = tkinter.Tk()\n",
    "        \n",
    "        # Create two Label widgets.\n",
    "        self.label1 = tkinter.Label(self.main_window,\n",
    "                                   text = 'Hello World!',\n",
    "                                   borderwidth = 1,\n",
    "                                   relief = 'solid')\n",
    "        self.label2 = tkinter.Label(self.main_window,\n",
    "                                   text = 'This is my GUI program.',\n",
    "                                    borderwidth = 1,\n",
    "                                    relief = 'solid')\n",
    "        \n",
    "        # Call both Label widgets' pack method.\n",
    "        self.label1.pack(padx = 20, pady = 20)\n",
    "        self.label2.pack(padx = 20, pady = 20)\n",
    "        \n",
    "        # Enter the tkinter main loop.\n",
    "        tkinter.mainloop()\n",
    "        \n",
    "# Create an instance of the MyGUI class.\n",
    "if __name__ == '__main__':\n",
    "    my_gui = MyGUI()"
   ]
  },
  {
   "cell_type": "code",
   "execution_count": null,
   "id": "a27796f5-d5d4-4f86-86e3-021b564aed49",
   "metadata": {},
   "outputs": [],
   "source": []
  }
 ],
 "metadata": {
  "kernelspec": {
   "display_name": "Python 3 (ipykernel)",
   "language": "python",
   "name": "python3"
  },
  "language_info": {
   "codemirror_mode": {
    "name": "ipython",
    "version": 3
   },
   "file_extension": ".py",
   "mimetype": "text/x-python",
   "name": "python",
   "nbconvert_exporter": "python",
   "pygments_lexer": "ipython3",
   "version": "3.9.13"
  }
 },
 "nbformat": 4,
 "nbformat_minor": 5
}
