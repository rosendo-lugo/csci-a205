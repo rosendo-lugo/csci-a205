{
 "cells": [
  {
   "cell_type": "code",
   "execution_count": 3,
   "id": "59186203-d642-4ace-be64-e2e79fefc080",
   "metadata": {},
   "outputs": [],
   "source": [
    "# This program demonstrates a simple Listbox.\n",
    "import tkinter\n",
    "\n",
    "class ListboxExample:\n",
    "    def __init__(self):\n",
    "        # Create the main window.\n",
    "        self.main_window = tkinter.Tk()\n",
    "        \n",
    "        # Create a Listbox widget.\n",
    "        self.listbox = tkinter.Listbox(self.main_window)\n",
    "        self.listbox.pack(padx=10, pady=10)\n",
    "        \n",
    "        # Populate the Listbox with the data.\n",
    "        self.listbox.insert(0, 'Monday')\n",
    "        self.listbox.insert(1, 'Tuesday')\n",
    "        self.listbox.insert(2, 'Wednesday')\n",
    "        self.listbox.insert(3, 'Thursday')\n",
    "        self.listbox.insert(4, 'Friday')\n",
    "        self.listbox.insert(5, 'Saturday')\n",
    "        self.listbox.insert(6, 'Sunday')\n",
    "        \n",
    "        # Start the main loop.\n",
    "        tkinter.mainloop()\n",
    "        \n",
    "# Create an instance of the ListboxExample class.\n",
    "if __name__ == '__main__':\n",
    "    listbox_example = ListboxExample()"
   ]
  },
  {
   "cell_type": "code",
   "execution_count": null,
   "id": "d1adfd09-8a68-4a10-a577-2399297d1040",
   "metadata": {},
   "outputs": [],
   "source": []
  }
 ],
 "metadata": {
  "kernelspec": {
   "display_name": "Python 3 (ipykernel)",
   "language": "python",
   "name": "python3"
  },
  "language_info": {
   "codemirror_mode": {
    "name": "ipython",
    "version": 3
   },
   "file_extension": ".py",
   "mimetype": "text/x-python",
   "name": "python",
   "nbconvert_exporter": "python",
   "pygments_lexer": "ipython3",
   "version": "3.9.13"
  }
 },
 "nbformat": 4,
 "nbformat_minor": 5
}
