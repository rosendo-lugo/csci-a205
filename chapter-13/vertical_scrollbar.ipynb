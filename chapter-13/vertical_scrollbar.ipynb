{
 "cells": [
  {
   "cell_type": "code",
   "execution_count": 1,
   "id": "5c3b8ac4-e487-4aae-a5da-275e551cf397",
   "metadata": {},
   "outputs": [],
   "source": [
    "# This program demonstrates a Listbox with a vertical scrollbar.\n",
    "import tkinter\n",
    "\n",
    "class VerticalScrollbarExample:\n",
    "    def __init__(self):\n",
    "        # Create the main window.\n",
    "        self.main_window = tkinter.Tk()\n",
    "        \n",
    "        # Create a frame for the Listbox and vertical scrollbar.\n",
    "        self.listbox_frame = tkinter.Frame(self.main_window)\n",
    "        self.listbox_frame.pack(padx=20, pady=20)\n",
    "        \n",
    "        # Create a Listbox widget in the listbox_frame.\n",
    "        self.listbox = tkinter.Listbox(\n",
    "            self.listbox_frame, height=6, width=0)\n",
    "        self.listbox.pack(side='left')\n",
    "        \n",
    "        # Create a vertical Scrollbar in the listbox_frame.\n",
    "        self.scrollbar = tkinter.Scrollbar(\n",
    "            self.listbox_frame, orient=tkinter.VERTICAL)\n",
    "        self.scrollbar.pack(side='right', fill=tkinter.Y)\n",
    "        \n",
    "        # Configure the Scrollbar and Listbox to work together.\n",
    "        self.scrollbar.config(command=self.listbox.yview)\n",
    "        self.listbox.config(yscrollcommand=self.scrollbar.set)\n",
    "        \n",
    "        # Create a list with the names of the months.\n",
    "        months = ['January', 'February', 'March', 'April',\n",
    "                  'May', 'June', 'July', 'August', 'September',\n",
    "                  'October', 'November', 'December']\n",
    "        \n",
    "        # Populate the Listbox with the data.\n",
    "        for month in months:\n",
    "            self.listbox.insert(tkinter.END, month)\n",
    "            \n",
    "       # Start the main loop.\n",
    "        tkinter.mainloop()    \n",
    "            \n",
    "            \n",
    "# Create an instance of the TimeZoneclass\n",
    "if __name__ == '__main__':\n",
    "    scrollbar_example = VerticalScrollbarExample()"
   ]
  },
  {
   "cell_type": "code",
   "execution_count": null,
   "id": "19426c65-97ad-43eb-84bf-be6fa43fb38a",
   "metadata": {},
   "outputs": [],
   "source": []
  }
 ],
 "metadata": {
  "kernelspec": {
   "display_name": "Python 3 (ipykernel)",
   "language": "python",
   "name": "python3"
  },
  "language_info": {
   "codemirror_mode": {
    "name": "ipython",
    "version": 3
   },
   "file_extension": ".py",
   "mimetype": "text/x-python",
   "name": "python",
   "nbconvert_exporter": "python",
   "pygments_lexer": "ipython3",
   "version": "3.9.13"
  }
 },
 "nbformat": 4,
 "nbformat_minor": 5
}
