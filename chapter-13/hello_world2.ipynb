{
 "cells": [
  {
   "cell_type": "code",
   "execution_count": 1,
   "id": "93d0df0d-cb19-4acc-89f9-6cf1be13e52a",
   "metadata": {},
   "outputs": [],
   "source": [
    "# This program displays two labels with text.\n",
    "\n",
    "import tkinter\n",
    "\n",
    "class MyGUI:\n",
    "    def __init__(self):\n",
    "        # Create the main window widget.\n",
    "        self.main_window = tkinter.Tk()\n",
    "        \n",
    "        # Create two Label widgets.\n",
    "        self.label1 = tkinter.Label(self.main_window,\n",
    "                                   text = 'Hello World!')\n",
    "        self.label2 = tkinter.Label(self.main_window,\n",
    "                                   text = 'This is my GUI program.')\n",
    "        \n",
    "        # Call both Label widgets' pack method.\n",
    "        self.label1.pack()\n",
    "        self.label2.pack()\n",
    "        \n",
    "        # Enter the tkinter main loop.\n",
    "        tkinter.mainloop()\n",
    "        \n",
    "# Create an instance of the MyGUI class.\n",
    "if __name__ == '__main__':\n",
    "    my_gui = MyGUI()"
   ]
  },
  {
   "cell_type": "code",
   "execution_count": null,
   "id": "2d300588-60f3-40d5-a1ea-41fbcf0ec8f1",
   "metadata": {},
   "outputs": [],
   "source": []
  }
 ],
 "metadata": {
  "kernelspec": {
   "display_name": "Python 3 (ipykernel)",
   "language": "python",
   "name": "python3"
  },
  "language_info": {
   "codemirror_mode": {
    "name": "ipython",
    "version": 3
   },
   "file_extension": ".py",
   "mimetype": "text/x-python",
   "name": "python",
   "nbconvert_exporter": "python",
   "pygments_lexer": "ipython3",
   "version": "3.9.13"
  }
 },
 "nbformat": 4,
 "nbformat_minor": 5
}
