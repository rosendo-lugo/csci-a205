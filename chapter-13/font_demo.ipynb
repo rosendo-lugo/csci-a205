{
 "cells": [
  {
   "cell_type": "code",
   "execution_count": 2,
   "id": "79dc7ef5-6e94-4fe7-a852-bf766ffcc6d7",
   "metadata": {},
   "outputs": [],
   "source": [
    "# This program connects multiple points with a line.\n",
    "import tkinter\n",
    "import tkinter.font\n",
    "\n",
    "class MyGUI:\n",
    "    def __init__(self):\n",
    "        # Create the main window.\n",
    "        self.main_window = tkinter.Tk()\n",
    "        \n",
    "        # Create the Canvas widget.\n",
    "        self.canvas = tkinter.Canvas(self.main_window, width=200, height=200)\n",
    "        \n",
    "        # Create a Font object.\n",
    "        myfont = tkinter.font.Font(family='Helvetica', size=18, weight='bold')\n",
    "        \n",
    "        # Display some text.\n",
    "        self.canvas.create_text(100, 100, text='Hello World')\n",
    "        \n",
    "        # Pack the canvas.\n",
    "        self.canvas.pack()\n",
    "        \n",
    "        # Start the mainloop.\n",
    "        tkinter.mainloop()\n",
    "        \n",
    "# Create an instance of the MyGUI class.\n",
    "if __name__ == '__main__':\n",
    "    my_gui = MyGUI()"
   ]
  },
  {
   "cell_type": "code",
   "execution_count": null,
   "id": "bf4104d8-0d5b-422f-a98b-cfbb84391988",
   "metadata": {},
   "outputs": [],
   "source": []
  }
 ],
 "metadata": {
  "kernelspec": {
   "display_name": "Python 3 (ipykernel)",
   "language": "python",
   "name": "python3"
  },
  "language_info": {
   "codemirror_mode": {
    "name": "ipython",
    "version": 3
   },
   "file_extension": ".py",
   "mimetype": "text/x-python",
   "name": "python",
   "nbconvert_exporter": "python",
   "pygments_lexer": "ipython3",
   "version": "3.9.13"
  }
 },
 "nbformat": 4,
 "nbformat_minor": 5
}
