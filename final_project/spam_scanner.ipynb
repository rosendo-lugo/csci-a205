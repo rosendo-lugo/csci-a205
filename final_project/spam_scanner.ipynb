{
 "cells": [
  {
   "cell_type": "code",
   "execution_count": null,
   "id": "96848908-659e-44d3-9780-64720c0d903c",
   "metadata": {},
   "outputs": [
    {
     "name": "stdin",
     "output_type": "stream",
     "text": [
      "\n",
      "Enter the email content (or type 'exit' to quit):\n",
      " Dear Friend,  Are you ready to earn extra cash and achieve financial freedom? This is a once in a lifetime opportunity to be your own boss and join the ranks of those who have already earned big bucks!  🌟 100% Free, No Obligation! 🌟  With our exclusive program, you can double your income, eliminate bad credit, and enjoy risk-free investments! Here's what we offer:  Special Promotion: Sign up today and get 100% more on your first investment. Free Membership: Access our resources and community at no cost. Cash Bonus: Earn a cash bonus just for joining. No Hidden Fees: What you see is what you get. 🚀 Act Now for a Limited Time!  This isn't just any offer - it's your chance to save big money and consolidate debt. Plus, with our satisfaction guaranteed policy, you have nothing to lose.  Click Here to unlock your potential and start earning today! Remember, this incredible deal won’t last forever.  Free Gift awaits the first 100 members! Don’t miss out - apply now!\n"
     ]
    },
    {
     "name": "stdout",
     "output_type": "stream",
     "text": [
      "\n",
      "Spam Score: 39\n",
      "Ham Score: 97\n",
      "Likelihood of Spam: Highly likely to be spam\n"
     ]
    },
    {
     "name": "stdin",
     "output_type": "stream",
     "text": [
      "\n",
      "Enter the email content (or type 'exit' to quit):\n",
      " I'm 100% satisfied with our team's performance this quarter, and as a token of appreciation, the company has decided to offer a special promotion. For those who have consistently exceeded their targets, there will be an extra cash bonus. Also, we are introducing a free trial of our new wellness program to support your health and well-being. Remember, this initiative is about acknowledging your hard work and dedication – it's our way of saying thank you!\n"
     ]
    },
    {
     "name": "stdout",
     "output_type": "stream",
     "text": [
      "\n",
      "Spam Score: 8\n",
      "Ham Score: 38\n",
      "Likelihood of Spam: Possibly spam\n"
     ]
    },
    {
     "name": "stdin",
     "output_type": "stream",
     "text": [
      "\n",
      "Enter the email content (or type 'exit' to quit):\n",
      " Dear Team,  I'm pleased to report our recent project is advancing well, thanks to everyone's hard work and collaborative spirit. As we move into the next phase, let's focus on refining our strategies to meet our goals efficiently. Your innovative ideas and feedback are always welcome and valued. Please remember to balance your workload to maintain productivity and personal well-being. Looking forward to our continued success.\n"
     ]
    },
    {
     "name": "stdout",
     "output_type": "stream",
     "text": [
      "\n",
      "Spam Score: 0\n",
      "Ham Score: 41\n",
      "Likelihood of Spam: Unlikely to be spam\n"
     ]
    }
   ],
   "source": [
    "import re\n",
    "\n",
    "# Class for reading and storing spam keywords from a file\n",
    "class SpamWordsReader:\n",
    "    def __init__(self, file_path):\n",
    "        \"\"\"Initialize the SpamWordsReader with the path to the spam words file.\"\"\"\n",
    "        self.file_path = file_path\n",
    "        # Load spam words from the specified file\n",
    "        self.spam_words = self.read_spam_keywords()\n",
    "\n",
    "    # Reads spam keywords from a file and returns them as a set\n",
    "    def read_spam_keywords(self):\n",
    "        \"\"\"Read spam keywords from a file and return them as a set.\"\"\"\n",
    "        with open(self.file_path, 'r') as file:\n",
    "            # Create a set of spam words for efficient look-up\n",
    "            return set(line.strip().lower() for line in file if line.strip())\n",
    "\n",
    "# Class representing an email with content processing capabilities\n",
    "class Email:\n",
    "    \"\"\"Initialize the Email object with the email content.\"\"\"\n",
    "    def __init__(self, content):\n",
    "        self.content = content\n",
    "        # Preprocess the content for spam detection\n",
    "        self.cleaned_content = self.preprocess_content()\n",
    "\n",
    "    # Preprocesses the email content for spam detection (e.g., lowercasing, removing punctuation)\n",
    "    def preprocess_content(self):\n",
    "        \"\"\"Preprocess the email content for spam detection (lowercasing, removing punctuation).\"\"\"\n",
    "        content = self.content.lower()\n",
    "        # Remove punctuation and special characters, replace with space\n",
    "        content = re.sub(r'[^a-z0-9\\'w\\s]', ' ', content)\n",
    "        return content\n",
    "\n",
    "# Class for detecting spam in an email\n",
    "class SpamDetector:\n",
    "    def __init__(self, spam_words):\n",
    "        \"\"\"Initialize the SpamDetector with a set of spam words.\"\"\"\n",
    "        self.spam_words = spam_words\n",
    "\n",
    "    # Calculates the spam score based on the occurrences of spam words\n",
    "    def calculate_spam_score(self, email):\n",
    "        \"\"\"\n",
    "        Calculate the spam score based on the occurrences of spam words.\n",
    "        Returns the count of spam words and non-stop (ham) words in the email.\n",
    "        \"\"\"\n",
    "        # Normalize the email to search for whole words/phrases\n",
    "        normalized_email = ' ' + email + ' '\n",
    "        spam_count = 0\n",
    "        # Count the frequency of each spam word in the email\n",
    "        for spam_word in self.spam_words:\n",
    "            count = normalized_email.count(' ' + spam_word + ' ')\n",
    "            spam_count += count\n",
    "\n",
    "        # Define a comprehensive list of stop words\n",
    "        stop_words = {'a', 'by', 'the', 'of', 'and', 'in', 'on', 'for', 'with', \n",
    "                    'about', 'above', 'after', 'again', 'against', 'all', 'am', 'an', 'any', 'are', \"aren't\", \n",
    "                    'as', 'at', 'be', 'because', 'been', 'before', 'being', 'below', 'between', 'both', \n",
    "                    'but', 'can', \"can't\", 'cannot', 'could', \"couldn't\", 'did', \"didn't\", 'do', 'does', \n",
    "                    \"doesn't\", 'doing', \"don't\", 'down', 'during', 'each', 'few', 'from', 'further', 'had', \n",
    "                    \"hadn't\", 'has', \"hasn't\", 'have', \"haven't\", 'having', 'he', \"he'd\", \"he'll\", \"he's\", \n",
    "                    'her', 'here', \"here's\", 'hers', 'herself', 'him', 'himself', 'his', 'how', \"how's\", \n",
    "                    'i', \"i'd\", \"i'll\", \"i'm\", \"i've\", 'if', 'into', 'is', \"isn't\", 'it', \"it's\", 'its', \n",
    "                    'itself', 'let', \"let's\", 'me', 'more', 'most', \"mustn't\", 'my', 'myself', 'no', 'nor', \n",
    "                    'not', 'off', 'once', 'only', 'or', 'other', 'ought', 'our', 'ours', 'ourselves', 'out', \n",
    "                    'over', 'own', 'same', \"shan't\", 'she', \"she'd\", \"she'll\", \"she's\", 'should', \"shouldn't\", \n",
    "                    'so', 'some', 'such', 'than', 'that', \"that's\", 'their', 'theirs', 'them', 'themselves', \n",
    "                    'then', 'there', \"there's\", 'these', 'they', \"they'd\", \"they'll\", \"they're\", \"they've\", \n",
    "                    'this', 'those', 'through', 'to', 'too', 'under', 'until', 'up', 'very', 'was', \"wasn't\", \n",
    "                    'we', \"we'd\", \"we'll\", \"we're\", \"we've\", 'were', \"weren't\", 'what', \"what's\", 'when', \n",
    "                    \"when's\", 'where', \"where's\", 'which', 'while', 'who', \"who's\", 'whom', 'why', \"why's\", \n",
    "                    'won', \"won't\", 'would', \"wouldn't\", 'you', \"you'd\", \"you'll\", \"you're\", \"you've\", 'your', \n",
    "                    'yours', 'yourself', 'yourselves', 't' , 's'} \n",
    "\n",
    "        # Split normalized email into words\n",
    "        words = normalized_email.split()\n",
    "        ham_count = 0\n",
    "        # Count the words that are not stop words as ham\n",
    "        for word in words:\n",
    "            if word not in stop_words:\n",
    "                ham_count += 1\n",
    "        return spam_count, ham_count\n",
    "\n",
    "    # Evaluates the likelihood of an email being spam based on spam and ham scores\n",
    "    def evaluate_spam_likelihood(self, spam_score, ham_score):\n",
    "        \"\"\"\n",
    "        Evaluate the likelihood of an email being spam based on spam and ham scores.\n",
    "        Returns a string indicating the likelihood of the email being spam.\n",
    "        \"\"\"\n",
    "        # Check if there are no non-stop words\n",
    "        if ham_score == 0:\n",
    "            return \"Unable to determine (no ham words)\"\n",
    "        # Calculate the ratio of spam words to ham words\n",
    "        ratio = spam_score / ham_score\n",
    "        # Classify the email based on the calculated ratio\n",
    "        if ratio > 0.4:\n",
    "            return \"Highly likely to be spam\"\n",
    "        elif ratio > 0.2:\n",
    "            return \"Possibly spam\"\n",
    "        else:\n",
    "            return \"Unlikely to be spam\"\n",
    "\n",
    "# Main execution loop for spam detection\n",
    "if __name__ == \"__main__\":\n",
    "    # Initialize the SpamWordsReader with the path to the spam words file.\n",
    "    spam_reader = SpamWordsReader(\"spam_words.txt\")\n",
    "    \n",
    "    # Start an infinite loop to continuously process email content.\n",
    "    while True:\n",
    "        # Prompt the user to enter email content or exit the program.\n",
    "        email_content = input(\"\\nEnter the email content (or type 'exit' to quit):\\n\")\n",
    "        \n",
    "        # Check if the user wants to exit the program.\n",
    "        if email_content.lower() == 'exit':\n",
    "            break  # Exit the loop, thus ending the program.\n",
    "\n",
    "        # Create an Email object with the provided content.\n",
    "        email = Email(email_content)\n",
    "\n",
    "        # Initialize the SpamDetector with the spam words from the reader.\n",
    "        detector = SpamDetector(spam_reader.spam_words)\n",
    "\n",
    "        # Calculate the spam and ham scores for the provided email content.\n",
    "        spam_score, ham_score = detector.calculate_spam_score(email.cleaned_content)\n",
    "\n",
    "        # Evaluate the likelihood of the email being spam based on the scores.\n",
    "        likelihood = detector.evaluate_spam_likelihood(spam_score, ham_score)\n",
    "\n",
    "        # Print the results: spam score, ham score, and spam likelihood.\n",
    "        print(f\"\\nSpam Score: {spam_score}\")\n",
    "        print(f\"Ham Score: {ham_score}\")\n",
    "        print(f\"Likelihood of Spam: {likelihood}\")"
   ]
  },
  {
   "cell_type": "markdown",
   "id": "e003050a-53ef-40da-8686-af6cc6cd21b1",
   "metadata": {},
   "source": [
    "## Spam email\n",
    "Dear Friend,\n",
    "\n",
    "Are you ready to earn extra cash and achieve financial freedom? This is a once in a lifetime opportunity to be your own boss and join the ranks of those who have already earned big bucks!\n",
    "\n",
    "🌟 100% Free, No Obligation! 🌟\n",
    "\n",
    "With our exclusive program, you can double your income, eliminate bad credit, and enjoy risk-free investments! Here's what we offer:\n",
    "\n",
    "Special Promotion: Sign up today and get 100% more on your first investment.\n",
    "Free Membership: Access our resources and community at no cost.\n",
    "Cash Bonus: Earn a cash bonus just for joining.\n",
    "No Hidden Fees: What you see is what you get.\n",
    "🚀 Act Now for a Limited Time!\n",
    "\n",
    "This isn't just any offer - it's your chance to save big money and consolidate debt. Plus, with our satisfaction guaranteed policy, you have nothing to lose.\n",
    "\n",
    "Click Here to unlock your potential and start earning today! Remember, this incredible deal won’t last forever.\n",
    "\n",
    "Free Gift awaits the first 100 members! Don’t miss out - apply now!"
   ]
  },
  {
   "cell_type": "markdown",
   "id": "02d64b2a-73f8-4eb5-88f5-d70f021625ed",
   "metadata": {},
   "source": [
    "## Possibily Spam Email\n",
    "I'm 100% satisfied with our team's performance this quarter, and as a token of    \n",
    "appreciation, the company has decided to offer a special promotion. For those who    \n",
    "have consistently exceeded their targets, there will be an extra cash bonus. Also, we    \n",
    "are introducing a free trial of our new wellness program to support your health and    \n",
    "well-being. Remember, this initiative is about acknowledging your hard work and     \n",
    "dedication – it's our way of saying thank you!    "
   ]
  },
  {
   "cell_type": "markdown",
   "id": "d4211135-2986-4a6b-8849-555129d696b7",
   "metadata": {},
   "source": [
    "## Regural Email\n",
    "Dear Team,\n",
    "\n",
    "I'm pleased to report our recent project is advancing well, thanks to everyone's hard    \n",
    "work and collaborative spirit. As we move into the next phase, let's focus on refining    \n",
    "our strategies to meet our goals efficiently. Your innovative ideas and feedback are    \n",
    "always welcome and valued. Please remember to balance your workload to maintain    \n",
    "productivity and personal well-being. Looking forward to our continued success.     "
   ]
  },
  {
   "cell_type": "code",
   "execution_count": null,
   "id": "910cd933-e624-4f9e-9f05-ea60a37346af",
   "metadata": {},
   "outputs": [],
   "source": []
  }
 ],
 "metadata": {
  "kernelspec": {
   "display_name": "Python 3 (ipykernel)",
   "language": "python",
   "name": "python3"
  },
  "language_info": {
   "codemirror_mode": {
    "name": "ipython",
    "version": 3
   },
   "file_extension": ".py",
   "mimetype": "text/x-python",
   "name": "python",
   "nbconvert_exporter": "python",
   "pygments_lexer": "ipython3",
   "version": "3.9.13"
  }
 },
 "nbformat": 4,
 "nbformat_minor": 5
}
