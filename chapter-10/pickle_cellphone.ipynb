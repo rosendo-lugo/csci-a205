{
 "cells": [
  {
   "cell_type": "code",
   "execution_count": 1,
   "id": "420093c1-666f-4259-b65c-93eb9777d57b",
   "metadata": {},
   "outputs": [
    {
     "name": "stdin",
     "output_type": "stream",
     "text": [
      "Enter the manufacturer:  Acme\n",
      "Enter the model number:  M100\n",
      "Enter the retail price:  199.99\n",
      "Enter more phone data? (y/n):  y\n",
      "Enter the manufacturer:  Sonic\n",
      "Enter the model number:  X99\n",
      "Enter the retail price:  899.99\n",
      "Enter more phone data? (y/n):  n\n"
     ]
    },
    {
     "name": "stdout",
     "output_type": "stream",
     "text": [
      "The data was written to cellphones.dat.\n"
     ]
    }
   ],
   "source": [
    "# This program pickles CellPhone objects.\n",
    "import pickle\n",
    "import cellphone\n",
    "\n",
    "# Constant for the filename.\n",
    "FILENAME = 'cellphones.dat'\n",
    "\n",
    "def main():\n",
    "    # Initialize a variable to control the loop.\n",
    "    again = 'y'\n",
    "    \n",
    "    # Open a file for binary writing.\n",
    "    with open(FILENAME, 'wb') as output_file:\n",
    "        # Get dat from the user.\n",
    "        while again.lower() == 'y':\n",
    "                man = input('Enter the manufacturer: ')\n",
    "                mod = input('Enter the model number: ')\n",
    "                retail = float(input('Enter the retail price: '))\n",
    "\n",
    "                # Create an instance of the CellPhone class.\n",
    "                phone = cellphone.CellPhone(man, mod, retail)\n",
    "                \n",
    "                # Pickle the object and write it to the file.\n",
    "                pickle.dump(phone, output_file)\n",
    "                \n",
    "                # Get more cell phone data?\n",
    "                again = input('Enter more phone data? (y/n): ')\n",
    "                \n",
    "    print(f'The data was written to {FILENAME}.')\n",
    "\n",
    "# Call the main function.\n",
    "if __name__ == '__main__':\n",
    "    main()"
   ]
  },
  {
   "cell_type": "code",
   "execution_count": null,
   "id": "8b20bac8-e29b-4f9f-bfd1-5362f1224343",
   "metadata": {},
   "outputs": [],
   "source": []
  }
 ],
 "metadata": {
  "kernelspec": {
   "display_name": "Python 3 (ipykernel)",
   "language": "python",
   "name": "python3"
  },
  "language_info": {
   "codemirror_mode": {
    "name": "ipython",
    "version": 3
   },
   "file_extension": ".py",
   "mimetype": "text/x-python",
   "name": "python",
   "nbconvert_exporter": "python",
   "pygments_lexer": "ipython3",
   "version": "3.9.13"
  }
 },
 "nbformat": 4,
 "nbformat_minor": 5
}
