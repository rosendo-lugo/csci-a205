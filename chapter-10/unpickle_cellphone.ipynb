{
 "cells": [
  {
   "cell_type": "code",
   "execution_count": 1,
   "id": "74e0c8b3-5bcb-444e-856a-df841bb29afd",
   "metadata": {},
   "outputs": [
    {
     "name": "stdout",
     "output_type": "stream",
     "text": [
      "Here is the data that you entered:\n",
      "Manufacturer: Acme\n",
      "Model Number: M100\n",
      "Retail Price: $199.99\n",
      "\n",
      "Here is the data that you entered:\n",
      "Manufacturer: Sonic\n",
      "Model Number: X99\n",
      "Retail Price: $899.99\n",
      "\n"
     ]
    }
   ],
   "source": [
    "# This program pickles CellPhone objects.\n",
    "import pickle\n",
    "import cellphone\n",
    "\n",
    "# Constant for the filename.\n",
    "FILENAME = 'cellphones.dat'\n",
    "\n",
    "def main():\n",
    "    end_of_file = False # To indicate end of file\n",
    "    \n",
    "    # Open the file.\n",
    "    with open(FILENAME, 'rb') as input_file:\n",
    "        # Read to the end of the file.\n",
    "        while not end_of_file:\n",
    "            try:\n",
    "                # Unpickle the next object.\n",
    "                phone = pickle.load(input_file)\n",
    "                \n",
    "                # Display the cell phone data.\n",
    "                display_data(phone)\n",
    "            except EOFError:\n",
    "                # Set the flag to indicate the end\n",
    "                # of the file has been reached.\n",
    "                end_of_file = True\n",
    "                \n",
    "# The display_data function display the data\n",
    "# from the CellPhone object passed as an argument.\n",
    "def display_data(phone):\n",
    "    print('Here is the data that you entered:')\n",
    "    print(f'Manufacturer: {phone.get_manufact()}')\n",
    "    print(f'Model Number: {phone.get_model()}')\n",
    "    print(f'Retail Price: ${phone.get_retail_price():,.2f}')\n",
    "    print()\n",
    "\n",
    "\n",
    "# Call the main function.\n",
    "if __name__ == '__main__':\n",
    "    main()"
   ]
  },
  {
   "cell_type": "code",
   "execution_count": null,
   "id": "8acf2914-fb39-4fc0-81c4-7d4b0e668056",
   "metadata": {},
   "outputs": [],
   "source": []
  }
 ],
 "metadata": {
  "kernelspec": {
   "display_name": "Python 3 (ipykernel)",
   "language": "python",
   "name": "python3"
  },
  "language_info": {
   "codemirror_mode": {
    "name": "ipython",
    "version": 3
   },
   "file_extension": ".py",
   "mimetype": "text/x-python",
   "name": "python",
   "nbconvert_exporter": "python",
   "pygments_lexer": "ipython3",
   "version": "3.9.13"
  }
 },
 "nbformat": 4,
 "nbformat_minor": 5
}
