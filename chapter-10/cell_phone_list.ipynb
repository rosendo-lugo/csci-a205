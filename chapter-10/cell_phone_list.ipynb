{
 "cells": [
  {
   "cell_type": "code",
   "execution_count": null,
   "id": "8b8ed8fd-b32b-4377-97ab-5ffbf6066575",
   "metadata": {},
   "outputs": [],
   "source": [
    "# This program creates five CellPhone objects and\n",
    "# stores them in a list.\n",
    "\n",
    "import cellphone\n",
    "\n",
    "def main():\n",
    "    # Get a list of CellPhone objects.\n",
    "    phones = make_list()\n",
    "    \n",
    "    # Display the data in the list.\n",
    "    print('Here is the data you entered:')\n",
    "    display_list(phones)\n",
    "    \n",
    "# The make_list function gets data from the user\n",
    "# for five phones. The function returns a list\n",
    "# of CellPhone objects containing the data.\n",
    "\n",
    "def make_list():\n",
    "    \n",
    "    # Create an empty list.\n",
    "    phone_list = []\n",
    "    \n",
    "    # Add five CellPhone objects to the list.\n",
    "    print('Enter data for five phones.')\n",
    "    for count in range(1, 6):\n",
    "        # Get the phone data.\n",
    "        print('Phone number ' + str(count) + ':')\n",
    "        man = input('Enter the manufacturer: ')\n",
    "        mod = input('Enter the model number: ')\n",
    "        retail = float(input('Enter the retail price: '))\n",
    "        print()\n",
    "    \n",
    "        # Create a new CellPhone object in memory and\n",
    "        # assing it to the phone variable.\n",
    "        phone = cellphone.CellPhone(man, mod, retail)\n",
    "        \n",
    "        # Add the object to the list.\n",
    "        phone_list.append(phone)\n",
    "        \n",
    "    # Return the list.\n",
    "    return phone_list\n",
    "    \n",
    "    \n",
    "# The display_list function accepts a list containing\n",
    "# CellPhone objects as an argument and displays the\n",
    "# data stored in each object.\n",
    "\n",
    "def display_list(phone_list):\n",
    "    for item in phone_list:\n",
    "        print(item.get_manufact())\n",
    "        print(item.get_model())\n",
    "        print(item.get_retail_price())\n",
    "        print()\n",
    "    \n",
    "# Call the main function:\n",
    "if __name__ == '__main__':\n",
    "    main()"
   ]
  },
  {
   "cell_type": "code",
   "execution_count": 1,
   "id": "7145ff09-22f6-4905-a3fa-d08834684cb8",
   "metadata": {},
   "outputs": [
    {
     "name": "stdout",
     "output_type": "stream",
     "text": [
      "Enter data for two persons.\n"
     ]
    },
    {
     "name": "stdin",
     "output_type": "stream",
     "text": [
      "Enter the first name:  Alexis\n",
      "Enter the last name:  Martinez\n",
      "Enter the job title:  Web Application Programmer\n"
     ]
    },
    {
     "name": "stdout",
     "output_type": "stream",
     "text": [
      "\n"
     ]
    },
    {
     "name": "stdin",
     "output_type": "stream",
     "text": [
      "Enter the first name:  Harris\n",
      "Enter the last name:  LeBlanc\n",
      "Enter the job title:  Pen Tester\n"
     ]
    },
    {
     "name": "stdout",
     "output_type": "stream",
     "text": [
      "\n",
      "Alexis Martinez\n",
      "Web Application Programmer\n",
      "\n",
      "Harris LeBlanc\n",
      "Pen Tester\n",
      "\n"
     ]
    }
   ],
   "source": [
    "class Techie:\n",
    "    def __init__(self, first_name, last_name, job_title):\n",
    "        self.first = first_name\n",
    "        self.last = last_name\n",
    "        self.title = job_title\n",
    "        \n",
    "    # Create a function to return the Person's first name\n",
    "    def get_first(self):\n",
    "        return self.first\n",
    "    \n",
    "    # Create a function to return the Person's last name\n",
    "    def get_last(self):\n",
    "        return self.last\n",
    "    \n",
    "    # Create a function to return the Person's profession     \n",
    "    def get_title(self):\n",
    "        return self.title\n",
    "\n",
    "def main():\n",
    "    techie_list = []\n",
    "    print('Enter data for two persons.')\n",
    "    for count in range(1, 3):\n",
    "        fname = input('Enter the first name: ')\n",
    "        lname = input('Enter the last name: ')\n",
    "        job = input('Enter the job title: ')\n",
    "        print()\n",
    "        \n",
    "        # Instantiate a techie object of type Techie\n",
    "        techie = Techie(fname, lname, job)\n",
    "        \n",
    "        # Add the techie object to the techie_list\n",
    "        techie_list.append(techie)\n",
    "                    \n",
    "    for techie in techie_list:\n",
    "        print(f'{techie.get_first()} {techie.get_last()}')\n",
    "        print(techie.get_title())\n",
    "        print()\n",
    "        \n",
    "if __name__ == '__main__':\n",
    "    main()"
   ]
  },
  {
   "cell_type": "code",
   "execution_count": null,
   "id": "3f4f0d59-1de4-4148-8f8a-af70e856759c",
   "metadata": {},
   "outputs": [],
   "source": []
  }
 ],
 "metadata": {
  "kernelspec": {
   "display_name": "Python 3 (ipykernel)",
   "language": "python",
   "name": "python3"
  },
  "language_info": {
   "codemirror_mode": {
    "name": "ipython",
    "version": 3
   },
   "file_extension": ".py",
   "mimetype": "text/x-python",
   "name": "python",
   "nbconvert_exporter": "python",
   "pygments_lexer": "ipython3",
   "version": "3.9.13"
  }
 },
 "nbformat": 4,
 "nbformat_minor": 5
}
