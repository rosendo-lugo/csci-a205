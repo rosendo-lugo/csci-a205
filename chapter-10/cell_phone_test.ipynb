{
 "cells": [
  {
   "cell_type": "code",
   "execution_count": 1,
   "id": "48f45b8a-2ff6-4232-9376-e3f32626c059",
   "metadata": {},
   "outputs": [
    {
     "name": "stdin",
     "output_type": "stream",
     "text": [
      "Enter the manufacturer:  Acme Electronics\n",
      "Enter the model number:  M1000\n",
      "Enter the retail price:  199.99\n"
     ]
    },
    {
     "name": "stdout",
     "output_type": "stream",
     "text": [
      "Here is the data that you entered:\n",
      "Manufacturer: Acme Electronics\n",
      "Model Number: M1000\n",
      "Retail Price: $199.99\n"
     ]
    }
   ],
   "source": [
    "# This program tests the CellPhone class.\n",
    "\n",
    "import cellphone\n",
    "\n",
    "def main():\n",
    "    # Get the phone data.\n",
    "    man = input('Enter the manufacturer: ')\n",
    "    mod = input('Enter the model number: ')\n",
    "    retail = float(input('Enter the retail price: '))\n",
    "    \n",
    "    # Create an instance of the CellPhone class.\n",
    "    phone = cellphone.CellPhone(man, mod, retail)\n",
    "    \n",
    "    # Display the data that was entered.\n",
    "    print('Here is the data that you entered:')\n",
    "    print(f'Manufacturer: {phone.get_manufact()}')\n",
    "    print(f'Model Number: {phone.get_model()}')\n",
    "    print(f'Retail Price: ${phone.get_retail_price():,.2f}')\n",
    "    \n",
    "# Call the main function:\n",
    "if __name__ == '__main__':\n",
    "    main()"
   ]
  },
  {
   "cell_type": "code",
   "execution_count": null,
   "id": "a3f7ef5f-020b-4759-bfe2-89d42d7f66ec",
   "metadata": {},
   "outputs": [],
   "source": []
  }
 ],
 "metadata": {
  "kernelspec": {
   "display_name": "Python 3 (ipykernel)",
   "language": "python",
   "name": "python3"
  },
  "language_info": {
   "codemirror_mode": {
    "name": "ipython",
    "version": 3
   },
   "file_extension": ".py",
   "mimetype": "text/x-python",
   "name": "python",
   "nbconvert_exporter": "python",
   "pygments_lexer": "ipython3",
   "version": "3.9.13"
  }
 },
 "nbformat": 4,
 "nbformat_minor": 5
}
