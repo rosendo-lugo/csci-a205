{
 "cells": [
  {
   "cell_type": "code",
   "execution_count": null,
   "id": "3bab1f93-cbae-4157-bffd-d9727c9a5942",
   "metadata": {},
   "outputs": [],
   "source": [
    "# This program demonstrates the BankAccount class.\n",
    "\n",
    "import bankaccount2\n",
    "\n",
    "def main():\n",
    "    \n",
    "    # Get the starting balance.\n",
    "    start_bal = float(input('Enter your starting balance: '))\n",
    "    \n",
    "    # Create a BankAccount object.\n",
    "    savings = bankaccount.BankAccount(start_bal)\n",
    "    \n",
    "    # Deposit the user's paycheck.\n",
    "    pay = float(input('How much were you paid this week? '))\n",
    "    print('I will deposit that into your account.')\n",
    "    savings.deposit(pay)\n",
    "    \n",
    "    # Display the balance.\n",
    "    print(f'Your account balance is ${savings.get_balance():,.2f}.')\n",
    "    \n",
    "    # Get the amount to withdraw.\n",
    "    cash = float(input('How much would you like to withdraw? '))\n",
    "    print('I will withdraw that from your account.')\n",
    "    savings.withdraw(cash)\n",
    "    \n",
    "    # Display the balance.\n",
    "    print(f'Your account balance is ${savings.get_balance():,.2f}.')\n",
    "    \n",
    "# Call the main function.\n",
    "if __name__ == '__main__':\n",
    "    main()"
   ]
  },
  {
   "cell_type": "code",
   "execution_count": null,
   "id": "279434f1-6dac-4aec-a633-6c01335e8041",
   "metadata": {},
   "outputs": [],
   "source": []
  }
 ],
 "metadata": {
  "kernelspec": {
   "display_name": "Python 3 (ipykernel)",
   "language": "python",
   "name": "python3"
  },
  "language_info": {
   "codemirror_mode": {
    "name": "ipython",
    "version": 3
   },
   "file_extension": ".py",
   "mimetype": "text/x-python",
   "name": "python",
   "nbconvert_exporter": "python",
   "pygments_lexer": "ipython3",
   "version": "3.9.13"
  }
 },
 "nbformat": 4,
 "nbformat_minor": 5
}
