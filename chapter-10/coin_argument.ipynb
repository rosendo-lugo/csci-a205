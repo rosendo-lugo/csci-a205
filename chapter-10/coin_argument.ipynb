{
 "cells": [
  {
   "cell_type": "code",
   "execution_count": 5,
   "id": "b7c78c8c-4edf-4db3-ac6d-c87e7d16473d",
   "metadata": {},
   "outputs": [
    {
     "name": "stdout",
     "output_type": "stream",
     "text": [
      "Heads\n",
      "Tails\n"
     ]
    }
   ],
   "source": [
    "# This program passes a Coin object as\n",
    "# an argument to a function\n",
    "import coin\n",
    "\n",
    "# main function\n",
    "def main():\n",
    "    # Create a Coin object.\n",
    "    my_coin = coin.Coin()\n",
    "    \n",
    "    # This will display 'Heads'.\n",
    "    print(my_coin.get_sideup())\n",
    "    \n",
    "    # Pass the object to the flip function.\n",
    "    flip(my_coin)\n",
    "    \n",
    "    # This might display 'Heads', or it might\n",
    "    # display 'Tails'.\n",
    "    print(my_coin.get_sideup())\n",
    "    \n",
    "# The flip function flips a coin.\n",
    "def flip(coin_obj):\n",
    "    coin_obj.toss()\n",
    "    \n",
    "# Call the main function.\n",
    "if __name__ == '__main__':\n",
    "    main()"
   ]
  },
  {
   "cell_type": "code",
   "execution_count": null,
   "id": "9b0f763e-f9ee-4487-be49-9f3292d96d54",
   "metadata": {},
   "outputs": [],
   "source": []
  }
 ],
 "metadata": {
  "kernelspec": {
   "display_name": "Python 3 (ipykernel)",
   "language": "python",
   "name": "python3"
  },
  "language_info": {
   "codemirror_mode": {
    "name": "ipython",
    "version": 3
   },
   "file_extension": ".py",
   "mimetype": "text/x-python",
   "name": "python",
   "nbconvert_exporter": "python",
   "pygments_lexer": "ipython3",
   "version": "3.9.13"
  }
 },
 "nbformat": 4,
 "nbformat_minor": 5
}
