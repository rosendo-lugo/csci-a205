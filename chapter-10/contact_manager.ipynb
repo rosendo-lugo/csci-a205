{
 "cells": [
  {
   "cell_type": "code",
   "execution_count": 9,
   "id": "01183a2e-fad4-48e7-890e-20349006fa8a",
   "metadata": {},
   "outputs": [],
   "source": [
    "# This program manages contacts.\n",
    "import contact\n",
    "import pickle\n",
    "\n",
    "# Global constrants for menu choices\n",
    "LOOK_UP = 1\n",
    "ADD = 2\n",
    "CHANGE = 3\n",
    "DELETE = 4\n",
    "QUIT = 5\n",
    "\n",
    "# Global constant for the filename\n",
    "FILENAME = 'contacts.dat'\n",
    "\n",
    "# main function\n",
    "def main():\n",
    "    # Load the existing contact dictionary and \n",
    "    # assign it to mycontacts.\n",
    "    mycontacts = load_contacts()\n",
    "    \n",
    "    # Initialize a variable for the user's choice. \n",
    "    choice = 0 \n",
    "    \n",
    "    # Process menu selections until the user\n",
    "    # wants to quit the program.\n",
    "    while choice != QUIT:\n",
    "        # Get the user's menu choice.\n",
    "        choice = get_menu_choice()\n",
    "        \n",
    "        # Process the choice.\n",
    "        if choice == LOOK_UP:\n",
    "            look_up(mycontacts)\n",
    "        elif choice == ADD:\n",
    "            add(mycontacts)\n",
    "        elif choice == CHANGE:\n",
    "            change(mycontacts)\n",
    "        elif choice == DELETE:\n",
    "            delete(mycontacts)\n",
    "            \n",
    "    # Save the mycontacts dictionary to a file\n",
    "    save_contacts(mycontacts)"
   ]
  },
  {
   "cell_type": "code",
   "execution_count": 10,
   "id": "644c4130-60b4-441e-bc18-bf2d6e997ef1",
   "metadata": {},
   "outputs": [],
   "source": [
    "def load_contacts():\n",
    "    try:\n",
    "        # Open the contacts.dat file for binary reading.\n",
    "        with open(FILENAME, 'rb') as input_file:\n",
    "            # Unpickle the dictionary\n",
    "            contact_dct = pickle.load(input_file)\n",
    "            \n",
    "    except FileNotFoundError:\n",
    "        # The file was not found, so create\n",
    "        # an empty dictionary. \n",
    "        contact_dct = {}\n",
    "        \n",
    "    # Return the dictionary.\n",
    "    return contact_dct"
   ]
  },
  {
   "cell_type": "code",
   "execution_count": 11,
   "id": "d48971dc-eab5-4e82-a70a-111d6f27797a",
   "metadata": {},
   "outputs": [],
   "source": [
    "# The get_menu_choice function displays the menu\n",
    "# add gets a validated choice from the user.\n",
    "def get_menu_choice():\n",
    "    print()\n",
    "    print('Menu')\n",
    "    print('----------------------')\n",
    "    print('1. Look up a contact')\n",
    "    print('2. Add a new contact')\n",
    "    print('3. Change an existing contact')\n",
    "    print('4. Delete a contact')\n",
    "    print('5. Quit the program')\n",
    "    print()\n",
    "    \n",
    "    # Get the user's choice.\n",
    "    choice = int(input('Enter your choice: '))\n",
    "    \n",
    "    # Validate the choice.\n",
    "    while choice < LOOK_UP or choice > QUIT:\n",
    "        choice = int(input('Enter a valid choice: '))\n",
    "        \n",
    "    # return the user's choice.\n",
    "    return choice"
   ]
  },
  {
   "cell_type": "code",
   "execution_count": 12,
   "id": "8bd4d84c-7f7a-41a6-98b0-db0390606be9",
   "metadata": {},
   "outputs": [],
   "source": [
    "# The look_up function looks up an item in the\n",
    "# specified dictionary.\n",
    "def look_up(mycontacts):\n",
    "    # Get a name to look up.\n",
    "    name = input('Enter a name: ')\n",
    "    \n",
    "    # Look it up in the dictionary.\n",
    "    print(mycontacts.get(name, 'That name is not found.'))"
   ]
  },
  {
   "cell_type": "code",
   "execution_count": 13,
   "id": "e9b57650-2b9c-4773-99a4-8564fe13c381",
   "metadata": {},
   "outputs": [],
   "source": [
    "# The add function adds a new entry into the\n",
    "# specified dictionary.\n",
    "def add(mycontacts):\n",
    "    # Get the contact info.\n",
    "    name = input('Name: ')\n",
    "    phone = input('Phone: ')\n",
    "    email = input('Email: ')\n",
    "    \n",
    "    # Create a Contact object named entry.\n",
    "    entry = contact.Contact(name, phone, email)\n",
    "    \n",
    "    # if the name does not exist in the dictionary,\n",
    "    # add it as a key with the entry object as the\n",
    "    # associated value.\n",
    "    if name not in mycontacts:\n",
    "        mycontacts[name] = entry\n",
    "        print('The entry has been added.')\n",
    "    else: \n",
    "        print('That name already exists.')"
   ]
  },
  {
   "cell_type": "code",
   "execution_count": 14,
   "id": "4ccd239c-5b9b-4e9b-83ac-a29b6b9d255f",
   "metadata": {},
   "outputs": [],
   "source": [
    "# The change function changes an existing\n",
    "# entry in the specifed dictionary.\n",
    "def change(mycontacts):\n",
    "    # Get a name to look up.\n",
    "    name = input('Enter a name: ')\n",
    "    \n",
    "    if name in mycontacts:\n",
    "        # Get a new phone number.\n",
    "        phone = input('Enter the new phone number: ')\n",
    "        \n",
    "        # Get a new email address.\n",
    "        email = input('Enter the new email address: ')\n",
    "        \n",
    "        # Create a contact object named entry.\n",
    "        entry = contact.Contact(name, phone, email)\n",
    "        \n",
    "        # Update the entry.\n",
    "        mycontacts[name] = entry\n",
    "        print('Information updated.')\n",
    "    else: \n",
    "        print('That name is not found.')"
   ]
  },
  {
   "cell_type": "code",
   "execution_count": 15,
   "id": "5dece591-3c5d-4e73-95f5-d290193824d2",
   "metadata": {},
   "outputs": [],
   "source": [
    "# The delete function deletes an entry from the\n",
    "# specified dictionary.\n",
    "def delete(mycontacts):\n",
    "    # Get a name to look up.\n",
    "    name = input('Enter a name: ')\n",
    "    \n",
    "    # If the name is found, delete the entry.\n",
    "    if name in mycontacts:\n",
    "        del mycontacts[name]\n",
    "        print('Entry deleted.')\n",
    "    else:\n",
    "        print('That name is not found.')"
   ]
  },
  {
   "cell_type": "code",
   "execution_count": 17,
   "id": "fe3201c6-b301-4ac7-88b7-fa9ac77d481a",
   "metadata": {},
   "outputs": [
    {
     "name": "stdout",
     "output_type": "stream",
     "text": [
      "\n",
      "Menu\n",
      "----------------------\n",
      "1. Look up a contact\n",
      "2. Add a new contact\n",
      "3. Change an existing contact\n",
      "4. Delete a contact\n",
      "5. Quit the program\n",
      "\n"
     ]
    },
    {
     "name": "stdin",
     "output_type": "stream",
     "text": [
      "Enter your choice:  1\n",
      "Enter a name:  Jorge Ruiz\n"
     ]
    },
    {
     "name": "stdout",
     "output_type": "stream",
     "text": [
      "Name: Jorge Ruiz\n",
      "Name: 919-555-1212\n",
      "Name: jorge@fakecompany.com\n",
      "\n",
      "Menu\n",
      "----------------------\n",
      "1. Look up a contact\n",
      "2. Add a new contact\n",
      "3. Change an existing contact\n",
      "4. Delete a contact\n",
      "5. Quit the program\n",
      "\n"
     ]
    },
    {
     "name": "stdin",
     "output_type": "stream",
     "text": [
      "Enter your choice:  5\n"
     ]
    }
   ],
   "source": [
    "# The save_contacts function pickles the specifed\n",
    "# odject and saves it to the contacts file.\n",
    "def save_contacts(mycontacts):\n",
    "    # Open the file for binary writing.\n",
    "    with open(FILENAME, 'wb') as output_file:\n",
    "        # Pickle the dictionary and save it.\n",
    "        pickle.dump(mycontacts, output_file)\n",
    "        \n",
    "# Call the main function.\n",
    "if __name__ == '__main__':\n",
    "    main()"
   ]
  },
  {
   "cell_type": "code",
   "execution_count": null,
   "id": "cf645f03-0825-4f13-85d8-9986e827ac92",
   "metadata": {},
   "outputs": [],
   "source": []
  }
 ],
 "metadata": {
  "kernelspec": {
   "display_name": "Python 3 (ipykernel)",
   "language": "python",
   "name": "python3"
  },
  "language_info": {
   "codemirror_mode": {
    "name": "ipython",
    "version": 3
   },
   "file_extension": ".py",
   "mimetype": "text/x-python",
   "name": "python",
   "nbconvert_exporter": "python",
   "pygments_lexer": "ipython3",
   "version": "3.9.13"
  }
 },
 "nbformat": 4,
 "nbformat_minor": 5
}
