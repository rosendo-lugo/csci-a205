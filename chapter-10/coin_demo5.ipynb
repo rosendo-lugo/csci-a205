{
 "cells": [
  {
   "cell_type": "code",
   "execution_count": 2,
   "id": "3151b83e-c0f3-4eeb-b170-00443eebfa57",
   "metadata": {},
   "outputs": [
    {
     "name": "stdout",
     "output_type": "stream",
     "text": [
      "I have three coins with these sides up:\n",
      "Heads\n",
      "Heads\n",
      "Heads\n",
      "\n",
      "I am tossing all three coins...\n",
      "\n",
      "Now here are the sides that are up:\n",
      "Tails\n",
      "Tails\n",
      "Heads\n",
      "\n"
     ]
    }
   ],
   "source": [
    "# This program imports the simulation module and\n",
    "# creates three instances of the Coin class.\n",
    "\n",
    "import coin\n",
    "\n",
    "# The main function.\n",
    "def main():\n",
    "    \n",
    "    # Create a object from the Coin class.\n",
    "    coin1 = coin.Coin()\n",
    "    coin2 = coin.Coin()\n",
    "    coin3 = coin.Coin()\n",
    "    \n",
    "    # Display the side of the coin that is facing up.\n",
    "    print('I have three coins with these sides up:')\n",
    "    print(coin1.get_sideup())\n",
    "    print(coin2.get_sideup())\n",
    "    print(coin3.get_sideup())\n",
    "    print()\n",
    "    \n",
    "    # Toss the coin.\n",
    "    print('I am tossing all three coins...')\n",
    "    print()\n",
    "    coin1.toss()\n",
    "    coin2.toss()\n",
    "    coin3.toss()\n",
    "        \n",
    "    # Display the side of each coin that is facing up.\n",
    "    print('Now here are the sides that are up:')\n",
    "    print(coin1.get_sideup())\n",
    "    print(coin2.get_sideup())\n",
    "    print(coin3.get_sideup())\n",
    "    print()\n",
    "\n",
    "    \n",
    "# Call the main function.\n",
    "if __name__ == '__main__':\n",
    "    main()"
   ]
  },
  {
   "cell_type": "code",
   "execution_count": null,
   "id": "f3f7b76d-b67c-4f92-b883-9f4749dd99fd",
   "metadata": {},
   "outputs": [],
   "source": []
  }
 ],
 "metadata": {
  "kernelspec": {
   "display_name": "Python 3 (ipykernel)",
   "language": "python",
   "name": "python3"
  },
  "language_info": {
   "codemirror_mode": {
    "name": "ipython",
    "version": 3
   },
   "file_extension": ".py",
   "mimetype": "text/x-python",
   "name": "python",
   "nbconvert_exporter": "python",
   "pygments_lexer": "ipython3",
   "version": "3.9.13"
  }
 },
 "nbformat": 4,
 "nbformat_minor": 5
}
