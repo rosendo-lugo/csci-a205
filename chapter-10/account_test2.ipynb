{
 "cells": [
  {
   "cell_type": "code",
   "execution_count": 1,
   "id": "f878fbe1-7668-4b25-9f31-a435e8d28a9c",
   "metadata": {},
   "outputs": [
    {
     "name": "stdin",
     "output_type": "stream",
     "text": [
      "Enter your starting balance:  1000.00\n",
      "How much were you paid this week?  500.00\n"
     ]
    },
    {
     "name": "stdout",
     "output_type": "stream",
     "text": [
      "I will deposit that into your account.\n",
      "Your account balance is $1,500.00.\n"
     ]
    },
    {
     "name": "stdin",
     "output_type": "stream",
     "text": [
      "How much would you like to withdraw?  1200.00\n"
     ]
    },
    {
     "name": "stdout",
     "output_type": "stream",
     "text": [
      "I will withdraw that from your account.\n",
      "Your account balance is $300.00.\n"
     ]
    }
   ],
   "source": [
    "# This program demonstrates the BankAccount class.\n",
    "\n",
    "import bankaccount2\n",
    "\n",
    "def main():\n",
    "    \n",
    "    # Get the starting balance.\n",
    "    start_bal = float(input('Enter your starting balance: '))\n",
    "    \n",
    "    # Create a BankAccount object.\n",
    "    savings = bankaccount2.BankAccount(start_bal)\n",
    "    \n",
    "    # Deposit the user's paycheck.\n",
    "    pay = float(input('How much were you paid this week? '))\n",
    "    print('I will deposit that into your account.')\n",
    "    savings.deposit(pay)\n",
    "    \n",
    "    # Display the balance.\n",
    "    print(f'Your account balance is ${savings.get_balance():,.2f}.')\n",
    "    \n",
    "    # Get the amount to withdraw.\n",
    "    cash = float(input('How much would you like to withdraw? '))\n",
    "    print('I will withdraw that from your account.')\n",
    "    savings.withdraw(cash)\n",
    "    \n",
    "    # Display the balance.\n",
    "    print(f'Your account balance is ${savings.get_balance():,.2f}.')\n",
    "    \n",
    "# Call the main function.\n",
    "if __name__ == '__main__':\n",
    "    main()"
   ]
  },
  {
   "cell_type": "code",
   "execution_count": null,
   "id": "4b365adb-29ad-4e96-9aaa-4246f9068a2c",
   "metadata": {},
   "outputs": [],
   "source": []
  }
 ],
 "metadata": {
  "kernelspec": {
   "display_name": "Python 3 (ipykernel)",
   "language": "python",
   "name": "python3"
  },
  "language_info": {
   "codemirror_mode": {
    "name": "ipython",
    "version": 3
   },
   "file_extension": ".py",
   "mimetype": "text/x-python",
   "name": "python",
   "nbconvert_exporter": "python",
   "pygments_lexer": "ipython3",
   "version": "3.9.13"
  }
 },
 "nbformat": 4,
 "nbformat_minor": 5
}
