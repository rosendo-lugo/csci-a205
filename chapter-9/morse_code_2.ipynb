{
 "cells": [
  {
   "cell_type": "markdown",
   "id": "e0987465-e837-4fca-99c8-fcbc5cf56c1d",
   "metadata": {},
   "source": [
    "# 09-Revisit Morse Code"
   ]
  },
  {
   "cell_type": "markdown",
   "id": "23867023-86da-4843-8b9c-93974be53618",
   "metadata": {},
   "source": [
    "## Requirements\n",
    "   ### PYP 126  Morse Code 2\n",
    "    Rewrite your Morse code program by storing the code table in a dictionary.\n",
    "\n",
    "    upload script and screencast."
   ]
  },
  {
   "cell_type": "code",
   "execution_count": 1,
   "id": "36c08d81-5905-41c7-95b7-2b027efa324f",
   "metadata": {},
   "outputs": [],
   "source": [
    "def read_morse_code_two(file):\n",
    "    '''\n",
    "    Read morse code from file to a dictionary\n",
    "    Parameters\n",
    "    ---------\n",
    "    file : string\n",
    "      file path of the Lookup table\n",
    "    Returns\n",
    "    -------\n",
    "    Lookup : dict\n",
    "      Dictionary where each key is a character and the value is its Morse code.\n",
    "    '''\n",
    "    Lookup = dict()\n",
    "    with open(file, 'r') as f:\n",
    "        for line in f:\n",
    "            char, code = line.strip().split('\\t')\n",
    "            Lookup[char] = code\n",
    "    return Lookup"
   ]
  },
  {
   "cell_type": "code",
   "execution_count": 2,
   "id": "529a7908-32d6-47c1-a5e6-472752b3def0",
   "metadata": {},
   "outputs": [],
   "source": [
    "def convert_to_morse_two(Lookup, S):\n",
    "    '''\n",
    "    Map each character in S to its Morse code according to the Lookup table\n",
    "    Parameter\n",
    "    ---------\n",
    "    Lookup : dict\n",
    "      A Lookup table of Morse code in dictionary form\n",
    "    S : str\n",
    "      A string to be encrypted\n",
    "    Returns\n",
    "    -------\n",
    "    S_morse : str\n",
    "      Encrypted S in a string\n",
    "    '''\n",
    "    S_morse = ''\n",
    "    for char in S:\n",
    "        morse = Lookup.get(char)\n",
    "        if morse:\n",
    "            S_morse += morse + ' '\n",
    "    return S_morse.strip()"
   ]
  },
  {
   "cell_type": "code",
   "execution_count": 5,
   "id": "7c02a551-611a-4484-bf2d-bcc8897bd9a2",
   "metadata": {},
   "outputs": [
    {
     "name": "stdin",
     "output_type": "stream",
     "text": [
      "Enter a string to convert to Morse code:  two\n"
     ]
    },
    {
     "name": "stdout",
     "output_type": "stream",
     "text": [
      "Morse Code: - .-- ---\n"
     ]
    }
   ],
   "source": [
    "def main():\n",
    "    # Read Morse code from file\n",
    "    Lookup = read_morse_code_two('morse_code.txt')\n",
    "    \n",
    "    # Prompt user for input\n",
    "    S = input('Enter a string to convert to Morse code: ')\n",
    "    \n",
    "    # Convert string to Morse code\n",
    "    S_morse = convert_to_morse_two(Lookup, S.upper())\n",
    "    \n",
    "    # Display the Morse code\n",
    "    print('Morse Code:', S_morse)\n",
    "\n",
    "main()"
   ]
  },
  {
   "cell_type": "code",
   "execution_count": null,
   "id": "cc9f5855-d5d0-4be0-b8e5-82732057b01a",
   "metadata": {},
   "outputs": [],
   "source": []
  }
 ],
 "metadata": {
  "kernelspec": {
   "display_name": "Python 3 (ipykernel)",
   "language": "python",
   "name": "python3"
  },
  "language_info": {
   "codemirror_mode": {
    "name": "ipython",
    "version": 3
   },
   "file_extension": ".py",
   "mimetype": "text/x-python",
   "name": "python",
   "nbconvert_exporter": "python",
   "pygments_lexer": "ipython3",
   "version": "3.9.13"
  }
 },
 "nbformat": 4,
 "nbformat_minor": 5
}
