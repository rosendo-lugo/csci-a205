{
 "cells": [
  {
   "cell_type": "code",
   "execution_count": 1,
   "id": "f9ad3ef5-8fcf-4bcc-a30c-538d622d9b63",
   "metadata": {},
   "outputs": [],
   "source": [
    "def read_morse_code(file):\n",
    "    '''\n",
    "    Read morse code from file to a list of tuples\n",
    "    Parameters\n",
    "    ---------\n",
    "    file : string\n",
    "      file path of the Lookup table\n",
    "    Returns\n",
    "    -------\n",
    "    Lookup : list of tuples\n",
    "      Each tuple element has two string values; the first value is a character and the second value is its Morse code.\n",
    "    '''\n",
    "    Lookup = list()\n",
    "    with open(file, 'r') as f:\n",
    "        for line in f:\n",
    "            t = tuple(line.strip().split('\\t'))\n",
    "            Lookup.append(t)\n",
    "    return Lookup"
   ]
  },
  {
   "cell_type": "code",
   "execution_count": 2,
   "id": "9f09b7f2-05f0-4f82-93b3-9681b94c3f1b",
   "metadata": {},
   "outputs": [],
   "source": [
    "def convert_to_morse(Lookup, S):\n",
    "    '''\n",
    "    Map each character in S to its Morse code according to the Lookup table\n",
    "    Parameter\n",
    "    ---------\n",
    "    Lookup : list of tuples\n",
    "      A Lookup table of Morse code\n",
    "    S : str\n",
    "      A string to be encrypted\n",
    "    Returns\n",
    "    -------\n",
    "    S_morse : str\n",
    "      Encrypted S in a string\n",
    "    '''\n",
    "    S_morse = ''\n",
    "    for char in S:\n",
    "        morse = None\n",
    "        for ch, code in Lookup:\n",
    "            if ch == char:\n",
    "                morse = code\n",
    "                break\n",
    "        if morse:\n",
    "            S_morse += morse + ' '\n",
    "    return S_morse.strip()\n"
   ]
  },
  {
   "cell_type": "code",
   "execution_count": null,
   "id": "9f8a7874-5436-4722-86ae-9ee954bdc4a1",
   "metadata": {},
   "outputs": [],
   "source": [
    "def main():\n",
    "    # Read Morse code from file\n",
    "    Lookup = read_morse_code('morse_code.txt')\n",
    "    \n",
    "    # Prompt user for input\n",
    "    S = input('Enter a string to convert to Morse code: ')\n",
    "    \n",
    "    # Convert string to Morse code\n",
    "    S_morse = convert_to_morse(Lookup, S.upper())\n",
    "    \n",
    "    # Display the Morse code\n",
    "    print('Morse Code:', S_morse)\n",
    "\n",
    "main()"
   ]
  },
  {
   "cell_type": "code",
   "execution_count": null,
   "id": "53b60538-89b9-45e1-987c-6784b75993cd",
   "metadata": {},
   "outputs": [],
   "source": []
  }
 ],
 "metadata": {
  "kernelspec": {
   "display_name": "Python 3 (ipykernel)",
   "language": "python",
   "name": "python3"
  },
  "language_info": {
   "codemirror_mode": {
    "name": "ipython",
    "version": 3
   },
   "file_extension": ".py",
   "mimetype": "text/x-python",
   "name": "python",
   "nbconvert_exporter": "python",
   "pygments_lexer": "ipython3",
   "version": "3.9.13"
  }
 },
 "nbformat": 4,
 "nbformat_minor": 5
}
