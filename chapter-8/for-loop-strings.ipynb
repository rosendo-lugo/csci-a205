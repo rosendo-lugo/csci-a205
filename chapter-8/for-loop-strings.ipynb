{
 "cells": [
  {
   "cell_type": "code",
   "execution_count": 3,
   "id": "d7afa138-1b05-455d-89f5-74fc0a572a0f",
   "metadata": {},
   "outputs": [
    {
     "name": "stdin",
     "output_type": "stream",
     "text": [
      "Enter a sentence:  Tom\n"
     ]
    },
    {
     "name": "stdout",
     "output_type": "stream",
     "text": [
      "The letter T appears 1 times.\n"
     ]
    }
   ],
   "source": [
    "def main():\n",
    "    count = 0\n",
    "    my_string = input('Enter a sentence: ')\n",
    "    for ch in my_string:\n",
    "        if ch == 'T' or ch == 't':\n",
    "            count +=1\n",
    "            \n",
    "    print(f'The letter T appears {count} times.')\n",
    "\n",
    "if __name__ == '__main__':\n",
    "    main()"
   ]
  },
  {
   "cell_type": "code",
   "execution_count": 5,
   "id": "c15f1800-0790-4826-853b-0ef751255ec5",
   "metadata": {},
   "outputs": [],
   "source": [
    "my_string = 'Roses are red'\n",
    "ch = my_string[6]"
   ]
  },
  {
   "cell_type": "code",
   "execution_count": 6,
   "id": "0856aa59-785e-43d2-8b72-7bd80d79c402",
   "metadata": {},
   "outputs": [
    {
     "name": "stdout",
     "output_type": "stream",
     "text": [
      "a\n"
     ]
    }
   ],
   "source": [
    "print(ch)"
   ]
  },
  {
   "cell_type": "code",
   "execution_count": 7,
   "id": "8d64a046-ec7d-4583-b09c-b407d12c26b6",
   "metadata": {},
   "outputs": [
    {
     "name": "stdout",
     "output_type": "stream",
     "text": [
      "R a r\n"
     ]
    }
   ],
   "source": [
    "my_string = 'Roses are red'\n",
    "print(my_string[0], my_string[6], my_string[10])\n"
   ]
  },
  {
   "cell_type": "code",
   "execution_count": 8,
   "id": "2e5a813a-e585-49f8-af8a-46f3c890fbad",
   "metadata": {},
   "outputs": [
    {
     "name": "stdout",
     "output_type": "stream",
     "text": [
      "d e R\n"
     ]
    }
   ],
   "source": [
    "print(my_string[-1], my_string[-2], my_string[-13])"
   ]
  },
  {
   "cell_type": "code",
   "execution_count": 9,
   "id": "0754b7f0-eb11-4938-8dfb-a278f2d35383",
   "metadata": {},
   "outputs": [
    {
     "ename": "IndexError",
     "evalue": "string index out of range",
     "output_type": "error",
     "traceback": [
      "\u001b[0;31m---------------------------------------------------------------------------\u001b[0m",
      "\u001b[0;31mIndexError\u001b[0m                                Traceback (most recent call last)",
      "Input \u001b[0;32mIn [9]\u001b[0m, in \u001b[0;36m<cell line: 2>\u001b[0;34m()\u001b[0m\n\u001b[1;32m      1\u001b[0m city \u001b[38;5;241m=\u001b[39m \u001b[38;5;124m'\u001b[39m\u001b[38;5;124mBoston\u001b[39m\u001b[38;5;124m'\u001b[39m\n\u001b[0;32m----> 2\u001b[0m \u001b[38;5;28mprint\u001b[39m(\u001b[43mcity\u001b[49m\u001b[43m[\u001b[49m\u001b[38;5;241;43m6\u001b[39;49m\u001b[43m]\u001b[49m)\n",
      "\u001b[0;31mIndexError\u001b[0m: string index out of range"
     ]
    }
   ],
   "source": [
    "city = 'Boston'\n",
    "print(city[6])"
   ]
  },
  {
   "cell_type": "code",
   "execution_count": 10,
   "id": "1cbf5912-04f4-4d0d-ac83-ac81698d9f84",
   "metadata": {},
   "outputs": [
    {
     "name": "stdout",
     "output_type": "stream",
     "text": [
      "B\n",
      "o\n",
      "s\n",
      "t\n",
      "o\n",
      "n\n"
     ]
    },
    {
     "ename": "IndexError",
     "evalue": "string index out of range",
     "output_type": "error",
     "traceback": [
      "\u001b[0;31m---------------------------------------------------------------------------\u001b[0m",
      "\u001b[0;31mIndexError\u001b[0m                                Traceback (most recent call last)",
      "Input \u001b[0;32mIn [10]\u001b[0m, in \u001b[0;36m<cell line: 3>\u001b[0;34m()\u001b[0m\n\u001b[1;32m      2\u001b[0m index \u001b[38;5;241m=\u001b[39m \u001b[38;5;241m0\u001b[39m\n\u001b[1;32m      3\u001b[0m \u001b[38;5;28;01mwhile\u001b[39;00m index \u001b[38;5;241m<\u001b[39m \u001b[38;5;241m7\u001b[39m:\n\u001b[0;32m----> 4\u001b[0m     \u001b[38;5;28mprint\u001b[39m(\u001b[43mcity\u001b[49m\u001b[43m[\u001b[49m\u001b[43mindex\u001b[49m\u001b[43m]\u001b[49m)\n\u001b[1;32m      5\u001b[0m     index \u001b[38;5;241m+\u001b[39m\u001b[38;5;241m=\u001b[39m \u001b[38;5;241m1\u001b[39m\n",
      "\u001b[0;31mIndexError\u001b[0m: string index out of range"
     ]
    }
   ],
   "source": [
    "city = 'Boston'\n",
    "index = 0\n",
    "while index < 7:\n",
    "    print(city[index])\n",
    "    index += 1"
   ]
  },
  {
   "cell_type": "code",
   "execution_count": 11,
   "id": "a4da40fa-48ba-4d2d-9702-432f929a5ae7",
   "metadata": {},
   "outputs": [],
   "source": [
    "city = 'Boston'\n",
    "size = len(city)"
   ]
  },
  {
   "cell_type": "code",
   "execution_count": 12,
   "id": "023025c6-0b1f-4f5a-bcb2-7cc6d8fdbf06",
   "metadata": {},
   "outputs": [
    {
     "data": {
      "text/plain": [
       "6"
      ]
     },
     "execution_count": 12,
     "metadata": {},
     "output_type": "execute_result"
    }
   ],
   "source": [
    "size"
   ]
  },
  {
   "cell_type": "code",
   "execution_count": 13,
   "id": "cf6c09a7-2acc-4478-8c46-116d6402c211",
   "metadata": {},
   "outputs": [
    {
     "name": "stdout",
     "output_type": "stream",
     "text": [
      "B\n",
      "o\n",
      "s\n",
      "t\n",
      "o\n",
      "n\n"
     ]
    }
   ],
   "source": [
    "city = 'Boston'\n",
    "index = 0 \n",
    "while index < len(city):\n",
    "    print(city[index])\n",
    "    index +=1"
   ]
  },
  {
   "cell_type": "code",
   "execution_count": 14,
   "id": "99c34d87-ae7d-4873-98c3-114c4ac06f30",
   "metadata": {},
   "outputs": [
    {
     "name": "stdout",
     "output_type": "stream",
     "text": [
      "PyCharm\n"
     ]
    }
   ],
   "source": [
    "IDE = 'PyCharm'  \n",
    "index = 0  \n",
    "while index < len(IDE):  \n",
    "    print(IDE[index], end = '')  \n",
    "    index += 1  \n",
    "print()"
   ]
  },
  {
   "cell_type": "code",
   "execution_count": 15,
   "id": "bbd5e5a6-5fd4-4c16-8a1d-a68638c78bec",
   "metadata": {},
   "outputs": [
    {
     "ename": "IndentationError",
     "evalue": "unexpected indent (4220151817.py, line 4)",
     "output_type": "error",
     "traceback": [
      "\u001b[0;36m  Input \u001b[0;32mIn [15]\u001b[0;36m\u001b[0m\n\u001b[0;31m    print(IDE[index], end = '')\u001b[0m\n\u001b[0m    ^\u001b[0m\n\u001b[0;31mIndentationError\u001b[0m\u001b[0;31m:\u001b[0m unexpected indent\n"
     ]
    }
   ],
   "source": [
    "IDE = 'PyCharm'\n",
    "index = 0\n",
    "# Write a while loop using len function to print the IDE string\n",
    "    print(IDE[index], end = '')\n",
    "    index += 1"
   ]
  },
  {
   "cell_type": "code",
   "execution_count": 16,
   "id": "d0909f56-bdfe-4952-8e92-9220f8bb63ca",
   "metadata": {},
   "outputs": [
    {
     "name": "stdout",
     "output_type": "stream",
     "text": [
      "Helloworld\n"
     ]
    }
   ],
   "source": [
    "message = 'Hello'+'world'\n",
    "print(message)"
   ]
  },
  {
   "cell_type": "code",
   "execution_count": 17,
   "id": "193409b0-dab0-4f6f-bfb1-9176baa236dc",
   "metadata": {},
   "outputs": [
    {
     "name": "stdout",
     "output_type": "stream",
     "text": [
      "Emily Yeager\n"
     ]
    }
   ],
   "source": [
    "first_name = 'Emily'\n",
    "last_name = 'Yeager'\n",
    "full_name = first_name + ' '+ last_name\n",
    "print(full_name)"
   ]
  },
  {
   "cell_type": "code",
   "execution_count": 18,
   "id": "e1031efc-8027-47a6-9a5d-b57bb01a37b1",
   "metadata": {},
   "outputs": [
    {
     "name": "stdout",
     "output_type": "stream",
     "text": [
      "abcdef\n"
     ]
    }
   ],
   "source": [
    "letters = 'abc'\n",
    "letters += 'def'\n",
    "print(letters)"
   ]
  },
  {
   "cell_type": "code",
   "execution_count": 20,
   "id": "2ccfaad3-bba9-4721-8f59-2ba6a9c7d745",
   "metadata": {},
   "outputs": [
    {
     "name": "stdout",
     "output_type": "stream",
     "text": [
      "Kelly Yvonne Smith\n"
     ]
    }
   ],
   "source": [
    "name = 'Kelly'   # name is 'Kelly'\n",
    "name += ' '      # name is 'Kelly '\n",
    "name += 'Yvonne' # name is 'Kelly Yvonne'\n",
    "name += ' '      # name is 'Kelly Yvonne '\n",
    "name += 'Smith'  # name is 'Kelly Yvonne Smith'\n",
    "print(name)"
   ]
  },
  {
   "cell_type": "code",
   "execution_count": 21,
   "id": "b1593869-e593-4d93-8759-84107bbef75f",
   "metadata": {},
   "outputs": [
    {
     "name": "stdout",
     "output_type": "stream",
     "text": [
      "yesterday it worked\n",
      "today it is not working\n",
      "coding is like that\n"
     ]
    }
   ],
   "source": [
    "haiku = 'yesterday it worked\\n' \n",
    "# Add the second line of the haiku to the string.\n",
    "haiku += 'today it is not working\\n'\n",
    "# Add the third line of the haiku to the string.\n",
    "haiku += 'coding is like that'\n",
    "# Print the haiku.\n",
    "print(haiku)"
   ]
  },
  {
   "cell_type": "code",
   "execution_count": 23,
   "id": "0959c12c-77cc-4096-be6f-15cf768cf93e",
   "metadata": {},
   "outputs": [
    {
     "name": "stdout",
     "output_type": "stream",
     "text": [
      "The name is: Carmen\n",
      "Now the name is: Carmen Brown\n"
     ]
    }
   ],
   "source": [
    "def main():\n",
    "    name = 'Carmen'\n",
    "    print(f'The name is: {name}')\n",
    "    name = name + ' Brown'\n",
    "    print(f'Now the name is: {name}')\n",
    "    \n",
    "if __name__ == '__main__':\n",
    "    main()"
   ]
  },
  {
   "cell_type": "code",
   "execution_count": 24,
   "id": "1e5847e5-2030-4a58-a1dc-c18f26d72f93",
   "metadata": {},
   "outputs": [
    {
     "ename": "TypeError",
     "evalue": "'str' object does not support item assignment",
     "output_type": "error",
     "traceback": [
      "\u001b[0;31m---------------------------------------------------------------------------\u001b[0m",
      "\u001b[0;31mTypeError\u001b[0m                                 Traceback (most recent call last)",
      "Input \u001b[0;32mIn [24]\u001b[0m, in \u001b[0;36m<cell line: 2>\u001b[0;34m()\u001b[0m\n\u001b[1;32m      1\u001b[0m friend \u001b[38;5;241m=\u001b[39m \u001b[38;5;124m'\u001b[39m\u001b[38;5;124mBill\u001b[39m\u001b[38;5;124m'\u001b[39m\n\u001b[0;32m----> 2\u001b[0m friend[\u001b[38;5;241m0\u001b[39m] \u001b[38;5;241m=\u001b[39m \u001b[38;5;124m'\u001b[39m\u001b[38;5;124mJ\u001b[39m\u001b[38;5;124m'\u001b[39m\n",
      "\u001b[0;31mTypeError\u001b[0m: 'str' object does not support item assignment"
     ]
    }
   ],
   "source": [
    "friend = 'Bill'\n",
    "friend[0] = 'J'"
   ]
  },
  {
   "cell_type": "code",
   "execution_count": 27,
   "id": "e7194f74-170c-4b82-aa6a-98e36786def2",
   "metadata": {},
   "outputs": [
    {
     "name": "stdout",
     "output_type": "stream",
     "text": [
      "Lynn\n"
     ]
    }
   ],
   "source": [
    "full_name = \"Patty Lynn Smith\"\n",
    "middle_name = full_name[6:10]\n",
    "print(middle_name)"
   ]
  },
  {
   "cell_type": "code",
   "execution_count": 28,
   "id": "b4737ba5-085d-4285-8e63-a9366b47d04a",
   "metadata": {},
   "outputs": [
    {
     "name": "stdout",
     "output_type": "stream",
     "text": [
      "Patty\n"
     ]
    }
   ],
   "source": [
    "first_name = full_name[:5]\n",
    "print(first_name)"
   ]
  },
  {
   "cell_type": "code",
   "execution_count": 29,
   "id": "93c1a57f-55eb-47f7-8946-7c797e49b738",
   "metadata": {},
   "outputs": [
    {
     "name": "stdout",
     "output_type": "stream",
     "text": [
      "Smith\n"
     ]
    }
   ],
   "source": [
    "last_name = full_name[11:]\n",
    "print(last_name)"
   ]
  },
  {
   "cell_type": "code",
   "execution_count": 30,
   "id": "f9a1ad1c-a51f-4ce6-afc0-03c5e763cdaa",
   "metadata": {},
   "outputs": [],
   "source": [
    "my_string = full_name[:]"
   ]
  },
  {
   "cell_type": "code",
   "execution_count": 31,
   "id": "f5308951-573e-4325-9365-031243003041",
   "metadata": {},
   "outputs": [
    {
     "name": "stdout",
     "output_type": "stream",
     "text": [
      "Patty Lynn Smith\n"
     ]
    }
   ],
   "source": [
    "print(my_string)"
   ]
  },
  {
   "cell_type": "code",
   "execution_count": 32,
   "id": "4c73fd7a-aae4-4cd3-9d56-9085921e04ec",
   "metadata": {},
   "outputs": [],
   "source": [
    "my_string = full_name[0: len(full_name)]"
   ]
  },
  {
   "cell_type": "code",
   "execution_count": 33,
   "id": "8f222ef1-5761-408e-9794-62c44917bf6d",
   "metadata": {},
   "outputs": [
    {
     "name": "stdout",
     "output_type": "stream",
     "text": [
      "Patty Lynn Smith\n"
     ]
    }
   ],
   "source": [
    "print(my_string)"
   ]
  },
  {
   "cell_type": "code",
   "execution_count": 34,
   "id": "26614a1d-0cac-4345-86a8-07f79e7b713d",
   "metadata": {},
   "outputs": [
    {
     "name": "stdout",
     "output_type": "stream",
     "text": [
      "ACEGIKMOQSUWY\n"
     ]
    }
   ],
   "source": [
    "letters = 'ABCDEFGHIJKLMNOPQRSTUVWXYZ'\n",
    "print(letters[0:26:2])"
   ]
  },
  {
   "cell_type": "code",
   "execution_count": 35,
   "id": "7e196905-fd54-4a62-b95d-16d9a79502d8",
   "metadata": {},
   "outputs": [
    {
     "name": "stdout",
     "output_type": "stream",
     "text": [
      "Smith\n"
     ]
    }
   ],
   "source": [
    "last_name = full_name[-5:]\n",
    "print(last_name)"
   ]
  },
  {
   "cell_type": "code",
   "execution_count": 36,
   "id": "ee183bd1-e6ab-4ac4-abe7-a585586d11d2",
   "metadata": {},
   "outputs": [
    {
     "name": "stdout",
     "output_type": "stream",
     "text": [
      "defg\n"
     ]
    }
   ],
   "source": [
    "mystring = 'abcdefg'\n",
    "print(mystring[3:])"
   ]
  },
  {
   "cell_type": "code",
   "execution_count": 37,
   "id": "79e63e4b-93f1-45b1-be61-f6859f7f2afb",
   "metadata": {},
   "outputs": [
    {
     "name": "stdout",
     "output_type": "stream",
     "text": [
      "abc\n"
     ]
    }
   ],
   "source": [
    "mystring = 'abcdefg'\n",
    "print(mystring[:3])"
   ]
  },
  {
   "cell_type": "code",
   "execution_count": 38,
   "id": "d0cd7332-5425-4d36-8a8d-b6e1753c4e95",
   "metadata": {},
   "outputs": [],
   "source": [
    "def get_login_name(first, last, idnumber):\n",
    "    set1 = first[0:3]\n",
    "    set2 = last[0:3]\n",
    "    set3 = idnumber[-3:]\n",
    "    login_name = set1+set2+set3\n",
    "    return login_name"
   ]
  },
  {
   "cell_type": "code",
   "execution_count": 40,
   "id": "8eb024ff-dc60-491e-a1d4-533dceb02bc4",
   "metadata": {},
   "outputs": [
    {
     "name": "stdin",
     "output_type": "stream",
     "text": [
      "Enter your first name:  Rosendo\n",
      "Enter your last name:  Lugo\n",
      "Enter your ID number:  Jpn2001\n"
     ]
    },
    {
     "name": "stdout",
     "output_type": "stream",
     "text": [
      "Your system login name is: \n",
      "RosLug001\n"
     ]
    }
   ],
   "source": [
    "def main():\n",
    "    first = input('Enter your first name: ')\n",
    "    last = input('Enter your last name: ')\n",
    "    idnumber = input('Enter your ID number: ')\n",
    "    print('Your system login name is: ')\n",
    "    print(get_login_name(first, last, idnumber))\n",
    "    \n",
    "if __name__ == '__main__':\n",
    "    main()"
   ]
  },
  {
   "cell_type": "code",
   "execution_count": 42,
   "id": "08be79ae-69d3-4e7b-9971-28f7ecc88ef8",
   "metadata": {},
   "outputs": [
    {
     "name": "stdin",
     "output_type": "stream",
     "text": [
      "Enter your credit card number:  1212343456567878\n",
      "Enter the expiration date with two digits for the month and two digits for the year, as in 0924:  0125\n"
     ]
    },
    {
     "name": "stdout",
     "output_type": "stream",
     "text": [
      "The last four digits of your number are 7878.\n",
      "The card expiration date is 01/2025.\n"
     ]
    }
   ],
   "source": [
    "card_num = input('Enter your credit card number: ')\n",
    "exp_date = input('Enter the expiration date with two digits for the month and two digits for the year, as in 0924: ')\n",
    "\n",
    "print(f'The last four digits of your number are {card_num[-4:]}.')\n",
    "print(f'The card expiration date is {exp_date[:2]}/20{exp_date[-2:]}.')"
   ]
  },
  {
   "cell_type": "code",
   "execution_count": 45,
   "id": "8111c58b-9247-4e88-91b7-51ed6bd81969",
   "metadata": {},
   "outputs": [
    {
     "name": "stdout",
     "output_type": "stream",
     "text": [
      "Enter the time in the format hours:minutes:seconds\n"
     ]
    },
    {
     "name": "stdin",
     "output_type": "stream",
     "text": [
      " 16:30:42\n"
     ]
    },
    {
     "name": "stdout",
     "output_type": "stream",
     "text": [
      "You entered 16 hours, 30 minutes, and 42 seconds.\n"
     ]
    }
   ],
   "source": [
    "print('Enter the time in the format hours:minutes:seconds')\n",
    "time = input()\n",
    "print(f'You entered {time[:2]} hours, {time[3:5]} minutes, and {time[-2:]} seconds.')"
   ]
  },
  {
   "cell_type": "code",
   "execution_count": 46,
   "id": "1d94ddf4-7077-4cc9-8609-180ae2242cd9",
   "metadata": {},
   "outputs": [
    {
     "name": "stdout",
     "output_type": "stream",
     "text": [
      "cde\n",
      "defg\n",
      "abc\n",
      "abcdefg\n"
     ]
    }
   ],
   "source": [
    "mystring = 'abcdefg'\n",
    "print(mystring[2:5])\n",
    "print(mystring[3:])\n",
    "print(mystring[:3])\n",
    "print(mystring[:])"
   ]
  },
  {
   "cell_type": "code",
   "execution_count": 48,
   "id": "1f685a9a-a5a5-4e19-9b79-0421070806d6",
   "metadata": {},
   "outputs": [
    {
     "name": "stdout",
     "output_type": "stream",
     "text": [
      "The string \"seven\" was found.\n"
     ]
    }
   ],
   "source": [
    "text = 'Four score and seven years ago'\n",
    "if 'seven' in text:\n",
    "    print('The string \"seven\" was found.')\n",
    "else: \n",
    "    print('The string \"seven\" was not found')"
   ]
  },
  {
   "cell_type": "code",
   "execution_count": 49,
   "id": "179e14c0-bf8e-4337-844a-cdd94240d359",
   "metadata": {},
   "outputs": [
    {
     "name": "stdout",
     "output_type": "stream",
     "text": [
      "Pierre was not found.\n"
     ]
    }
   ],
   "source": [
    "names = 'Bill Joanne Susan Chris Juan Katie'\n",
    "if 'Pierre' not in names:\n",
    "    print('Pierre was not found.')\n",
    "else:\n",
    "    print('Pierre was found.')"
   ]
  },
  {
   "cell_type": "code",
   "execution_count": 50,
   "id": "4f8e9853-e924-4fcc-b38d-6cd3f44c34bd",
   "metadata": {},
   "outputs": [
    {
     "name": "stdout",
     "output_type": "stream",
     "text": [
      "1200 contains only digits.\n"
     ]
    }
   ],
   "source": [
    "string1 = '1200'\n",
    "if string1.isdigit():\n",
    "    print(f'{string1} contains only digits.')\n",
    "else:\n",
    "    print(f'{string1} contains characters other than digits.')"
   ]
  },
  {
   "cell_type": "code",
   "execution_count": 51,
   "id": "0ef22ab9-c87e-4fd9-a7f0-45d125241ca5",
   "metadata": {},
   "outputs": [
    {
     "name": "stdout",
     "output_type": "stream",
     "text": [
      "123abc contains characters other than digits.\n"
     ]
    }
   ],
   "source": [
    "string2 = '123abc'\n",
    "if string2.isdigit():\n",
    "    print(f'{string2} contains only digits.')\n",
    "else:\n",
    "    print(f'{string2} contains characters other than digits.')"
   ]
  },
  {
   "cell_type": "code",
   "execution_count": 54,
   "id": "7466d53a-4536-4221-b93c-ac302652d974",
   "metadata": {},
   "outputs": [
    {
     "name": "stdin",
     "output_type": "stream",
     "text": [
      "Enter a string:  abc\n"
     ]
    },
    {
     "name": "stdout",
     "output_type": "stream",
     "text": [
      "This is what I found about that string:\n",
      "The string is alphanumeric.\n",
      "The string contains only alphabetic characters.\n",
      "The letters in the string are all lowercase.\n"
     ]
    }
   ],
   "source": [
    "def main():\n",
    "    user_string = input('Enter a string: ')\n",
    "    print('This is what I found about that string:')\n",
    "    \n",
    "    if user_string.isalnum():\n",
    "        print('The string is alphanumeric.')\n",
    "    if user_string.isdigit():\n",
    "        print('The string contains only digits.')\n",
    "    if user_string.isalpha():\n",
    "        print('The string contains only alphabetic characters.')\n",
    "    if user_string.isspace():\n",
    "        print('The string contains only whitespace characters.')\n",
    "    if user_string.islower():\n",
    "        print('The letters in the string are all lowercase.')\n",
    "    if user_string.isupper():\n",
    "        print('The letters in the string are all uppercase.')\n",
    "        \n",
    "if __name__ == '__main__':\n",
    "    main()"
   ]
  },
  {
   "cell_type": "code",
   "execution_count": 55,
   "id": "cf47757c-88d4-449c-a0df-7151151612fe",
   "metadata": {},
   "outputs": [
    {
     "name": "stdout",
     "output_type": "stream",
     "text": [
      "WXYZ wxyz\n"
     ]
    }
   ],
   "source": [
    "letters = 'WXYZ'\n",
    "print(letters, letters.lower())"
   ]
  },
  {
   "cell_type": "code",
   "execution_count": 56,
   "id": "b4b2bb5e-c292-47fc-911a-3564877fe2f8",
   "metadata": {},
   "outputs": [
    {
     "name": "stdout",
     "output_type": "stream",
     "text": [
      "abcd ABCD\n"
     ]
    }
   ],
   "source": [
    "letters = 'abcd'\n",
    "print(letters, letters.upper())"
   ]
  },
  {
   "cell_type": "code",
   "execution_count": 58,
   "id": "e3bb0fb9-c440-4e24-aefa-22020cb07a0c",
   "metadata": {},
   "outputs": [
    {
     "name": "stdout",
     "output_type": "stream",
     "text": [
      "Hello\n",
      "Do you want to see that again?\n"
     ]
    },
    {
     "name": "stdin",
     "output_type": "stream",
     "text": [
      "y = yes, anything else = no:  y\n"
     ]
    },
    {
     "name": "stdout",
     "output_type": "stream",
     "text": [
      "Hello\n",
      "Do you want to see that again?\n"
     ]
    },
    {
     "name": "stdin",
     "output_type": "stream",
     "text": [
      "y = yes, anything else = no:  n\n"
     ]
    }
   ],
   "source": [
    "again = 'y'\n",
    "while again.lower() == 'y':\n",
    "    print('Hello')\n",
    "    print('Do you want to see that again?')\n",
    "    again = input('y = yes, anything else = no: ')"
   ]
  },
  {
   "cell_type": "code",
   "execution_count": 59,
   "id": "4b852b17-247b-489c-a179-d718297138a0",
   "metadata": {},
   "outputs": [
    {
     "name": "stdin",
     "output_type": "stream",
     "text": [
      "Enter the filename:  text\n"
     ]
    },
    {
     "name": "stdout",
     "output_type": "stream",
     "text": [
      "Unknow file type.\n"
     ]
    }
   ],
   "source": [
    "filename = input('Enter the filename: ')\n",
    "if filename.endswith(' .txt'):\n",
    "    print('That is the name of a text file.')\n",
    "elif filename.endswith(' .py'):\n",
    "    print('That is sthe name of a Python source file.')\n",
    "elif filename.endswith(' .doc'):\n",
    "    print('That is the name of a word processing document.')\n",
    "else: \n",
    "    print('Unknow file type.')"
   ]
  },
  {
   "cell_type": "code",
   "execution_count": 63,
   "id": "2868e32c-ec0f-4982-b8f9-f022e836a74f",
   "metadata": {},
   "outputs": [
    {
     "name": "stdout",
     "output_type": "stream",
     "text": [
      "The word \"seven\" was found at index 15.\n"
     ]
    }
   ],
   "source": [
    "string = 'Four score and seven years ago'\n",
    "position = string.find('seven')\n",
    "if position != -1:\n",
    "    print(f'The word \"seven\" was found at index {position}.')\n",
    "else:\n",
    "    print('The word \"seven\" was not found.')"
   ]
  },
  {
   "cell_type": "code",
   "execution_count": 65,
   "id": "e90367dc-3f82-45f1-807d-40889e7e9da4",
   "metadata": {},
   "outputs": [
    {
     "name": "stdout",
     "output_type": "stream",
     "text": [
      "Four score and seven days ago\n"
     ]
    }
   ],
   "source": [
    "string = 'Four score and seven years ago'\n",
    "new_string = string.replace('years', 'days')\n",
    "print(new_string)"
   ]
  },
  {
   "cell_type": "code",
   "execution_count": 66,
   "id": "64b49f4b-b73e-4a23-b111-6b33731f4727",
   "metadata": {},
   "outputs": [],
   "source": [
    "def get_login_name(first, last, idnumber):\n",
    "    set1 = first[0:3]\n",
    "    set2 = last[0:3]\n",
    "    set3 = idnumber[-3:]\n",
    "    login_name = set1 + set2 + set3\n",
    "    return login_name\n",
    "\n",
    "def valid_password(password):\n",
    "    correct_length = False\n",
    "    has_uppercase = False\n",
    "    has_lowercase = False\n",
    "    has_digit = False\n",
    "    \n",
    "    if len(password) >= 7:\n",
    "        correct_length = True\n",
    "        \n",
    "        for ch in password:\n",
    "            if ch.isupper():\n",
    "                has_uppercase = True\n",
    "            if ch.islower():\n",
    "                has_lowercase = True\n",
    "            if ch.isdigit():\n",
    "                has_digit = True\n",
    "        \n",
    "        if correct_length and has_uppercase and \\\n",
    "            has_lowercase and has_digit:\n",
    "            is_valid = True\n",
    "        else:\n",
    "            is_valid = False\n",
    "            \n",
    "        return is_valid"
   ]
  },
  {
   "cell_type": "code",
   "execution_count": 68,
   "id": "45657cd0-9a24-4c64-bcdf-b6218bc539d0",
   "metadata": {},
   "outputs": [
    {
     "name": "stdin",
     "output_type": "stream",
     "text": [
      "Enter your password:  asdkf\n"
     ]
    },
    {
     "name": "stdout",
     "output_type": "stream",
     "text": [
      "That password is not valid.\n"
     ]
    },
    {
     "name": "stdin",
     "output_type": "stream",
     "text": [
      "Enter your password:  klasdjf\n"
     ]
    },
    {
     "name": "stdout",
     "output_type": "stream",
     "text": [
      "That password is not valid.\n"
     ]
    },
    {
     "name": "stdin",
     "output_type": "stream",
     "text": [
      "Enter your password:  Tvalid\n"
     ]
    },
    {
     "name": "stdout",
     "output_type": "stream",
     "text": [
      "That password is not valid.\n"
     ]
    },
    {
     "name": "stdin",
     "output_type": "stream",
     "text": [
      "Enter your password:  bozo\n"
     ]
    },
    {
     "name": "stdout",
     "output_type": "stream",
     "text": [
      "That password is not valid.\n"
     ]
    },
    {
     "name": "stdin",
     "output_type": "stream",
     "text": [
      "Enter your password:  Leopard6\n"
     ]
    },
    {
     "name": "stdout",
     "output_type": "stream",
     "text": [
      "That is a valid password.\n"
     ]
    }
   ],
   "source": [
    "def main():\n",
    "    password = input('Enter your password: ')\n",
    "    \n",
    "    while not valid_password(password):\n",
    "        print('That password is not valid.')\n",
    "        password = input('Enter your password: ')\n",
    "        \n",
    "    print('That is a valid password.')\n",
    "    \n",
    "if __name__ == '__main__':\n",
    "    main()"
   ]
  },
  {
   "cell_type": "code",
   "execution_count": 79,
   "id": "5c2413e5-6e3a-42ce-8d34-556cea33fb97",
   "metadata": {},
   "outputs": [
    {
     "name": "stdout",
     "output_type": "stream",
     "text": [
      "The word CODE was found.\n"
     ]
    }
   ],
   "source": [
    "quote = 'Talk is cheap. Show me the code.'\n",
    "if 'code' in quote:\n",
    "    print(f'The word {quote[-5:-1].upper()} was found.')\n",
    "else:\n",
    "    print(f'The word {quote[-5:-1].upper()} was not found.')\n",
    "    "
   ]
  },
  {
   "cell_type": "code",
   "execution_count": 81,
   "id": "1af3da32-8731-4507-a511-5baf9377513f",
   "metadata": {},
   "outputs": [
    {
     "name": "stdout",
     "output_type": "stream",
     "text": [
      "The word CODE was found at index 27.\n"
     ]
    }
   ],
   "source": [
    "quote = 'Talk is cheap. Show me the code.'\n",
    "# Fill in the missing code to find the index here.\n",
    "index = quote.find('code')\n",
    "if index != -1:\n",
    "    print(f'The word {quote[-5:-1].upper()} was found at index {index}.')\n",
    "else:\n",
    "    print(f'The word {quote[-5:-1].upper()} was not found at index {index}.')"
   ]
  },
  {
   "cell_type": "code",
   "execution_count": 83,
   "id": "8d2ad255-6063-4916-987e-b657d615895b",
   "metadata": {},
   "outputs": [
    {
     "name": "stdout",
     "output_type": "stream",
     "text": [
      "www.python.org/\n",
      "http://www.python.org/\n"
     ]
    }
   ],
   "source": [
    "url = 'www.python.org/'\n",
    "print(url)\n",
    "# Create a new string named new_url with 'https://' preceding 'www'.\n",
    "new_url = url.replace('www', 'http://www')\n",
    "print(new_url)"
   ]
  },
  {
   "cell_type": "code",
   "execution_count": 84,
   "id": "a6b2f827-a0d9-4af6-a64c-3f044ca9a5e7",
   "metadata": {},
   "outputs": [],
   "source": [
    "my_string = 'w' * 5"
   ]
  },
  {
   "cell_type": "code",
   "execution_count": 85,
   "id": "0d76dd1b-ff0c-4104-ad5b-e1912d0d30eb",
   "metadata": {},
   "outputs": [
    {
     "name": "stdout",
     "output_type": "stream",
     "text": [
      "wwwww\n"
     ]
    }
   ],
   "source": [
    "print(my_string)"
   ]
  },
  {
   "cell_type": "code",
   "execution_count": 86,
   "id": "1456cb5a-1efa-4f68-a277-cd7d347dc9b0",
   "metadata": {},
   "outputs": [
    {
     "name": "stdout",
     "output_type": "stream",
     "text": [
      "HelloHelloHelloHelloHello\n"
     ]
    }
   ],
   "source": [
    "print('Hello' * 5)"
   ]
  },
  {
   "cell_type": "code",
   "execution_count": 87,
   "id": "09289b14-fa65-41b6-bc48-5317a0463b03",
   "metadata": {},
   "outputs": [
    {
     "name": "stdout",
     "output_type": "stream",
     "text": [
      "z\n",
      "zz\n",
      "zzz\n",
      "zzzz\n",
      "zzzzz\n",
      "zzzzzz\n",
      "zzzzzzz\n",
      "zzzzzzzz\n",
      "zzzzzzzzz\n",
      "zzzzzzzz\n",
      "zzzzzzz\n",
      "zzzzzz\n",
      "zzzzz\n",
      "zzzz\n",
      "zzz\n",
      "zz\n",
      "z\n"
     ]
    }
   ],
   "source": [
    "def main():\n",
    "    for count in range(1, 10):\n",
    "        print('z' * count)\n",
    "    for count in range(8, 0, -1):\n",
    "        print('z' * count)\n",
    "\n",
    "if __name__ == '__main__':\n",
    "    main()"
   ]
  },
  {
   "cell_type": "code",
   "execution_count": 90,
   "id": "bb61effd-d123-4c66-b95b-0ffb985e2707",
   "metadata": {},
   "outputs": [
    {
     "name": "stdout",
     "output_type": "stream",
     "text": [
      "['One', 'two', 'three', 'four']\n"
     ]
    }
   ],
   "source": [
    "def main():\n",
    "    my_string = 'One two three four'\n",
    "    \n",
    "    word_list = my_string.split()\n",
    "    \n",
    "    print(word_list)\n",
    "    \n",
    "if __name__ == '__main__':\n",
    "    main()\n",
    "    "
   ]
  },
  {
   "cell_type": "code",
   "execution_count": 91,
   "id": "2252e6be-1024-4114-9d54-4f901531785a",
   "metadata": {},
   "outputs": [],
   "source": [
    "date_string = '11/26/2023'"
   ]
  },
  {
   "cell_type": "code",
   "execution_count": 92,
   "id": "768c8fcd-3ff7-4ec1-bd2a-614193a437dd",
   "metadata": {},
   "outputs": [
    {
     "name": "stdout",
     "output_type": "stream",
     "text": [
      "11/26/2023\n"
     ]
    }
   ],
   "source": [
    "print(date_string)"
   ]
  },
  {
   "cell_type": "code",
   "execution_count": 94,
   "id": "4aab40dc-d0c5-45dd-bd97-3f761ace396b",
   "metadata": {},
   "outputs": [],
   "source": [
    "date_list = date_string.split('/')"
   ]
  },
  {
   "cell_type": "code",
   "execution_count": 95,
   "id": "ed7d1f1a-2d7a-44a0-a83a-1dfb53105ffc",
   "metadata": {},
   "outputs": [
    {
     "name": "stdout",
     "output_type": "stream",
     "text": [
      "['11', '26', '2023']\n"
     ]
    }
   ],
   "source": [
    "print(date_list)"
   ]
  },
  {
   "cell_type": "code",
   "execution_count": 96,
   "id": "42097d7c-ebc4-4798-8595-c8fec841bb00",
   "metadata": {},
   "outputs": [
    {
     "name": "stdout",
     "output_type": "stream",
     "text": [
      "Month: 11\n",
      "Day: 26\n",
      "Year: 2023\n"
     ]
    }
   ],
   "source": [
    "def main():\n",
    "    date_string = '11/26/2023'\n",
    "    date_list = date_string.split('/')\n",
    "    \n",
    "    print(f'Month: {date_list[0]}')\n",
    "    print(f'Day: {date_list[1]}')\n",
    "    print(f'Year: {date_list[2]}')\n",
    "    \n",
    "if __name__ == '__main__':\n",
    "    main()"
   ]
  },
  {
   "cell_type": "code",
   "execution_count": 98,
   "id": "3b824f59-31b9-4f30-8fee-2c8c8ddd06f0",
   "metadata": {},
   "outputs": [
    {
     "name": "stdout",
     "output_type": "stream",
     "text": [
      "Token: one\n",
      "Token: two\n",
      "Token: three\n",
      "Token: four\n",
      "\n",
      "Token: 10\n",
      "Token: 20\n",
      "Token: 30\n",
      "Token: 40\n",
      "Token: 50\n",
      "\n",
      "Token: a\n",
      "Token: b\n",
      "Token: c\n",
      "Token: d\n",
      "Token: e\n",
      "Token: f\n"
     ]
    }
   ],
   "source": [
    "def main():\n",
    "    str1 = 'one two three four'\n",
    "    str2 = '10:20:30:40:50'\n",
    "    str3 = 'a/b/c/d/e/f'\n",
    "    \n",
    "    display_tokens(str1, ' ')\n",
    "    print()\n",
    "    display_tokens(str2, ':')\n",
    "    print()\n",
    "    display_tokens(str3, '/')\n",
    "    \n",
    "def display_tokens(data, delimiter):\n",
    "    tokens = data.split(delimiter)\n",
    "    for item in tokens:\n",
    "        print(f'Token: {item}')\n",
    "        \n",
    "if __name__ == '__main__':\n",
    "    main()"
   ]
  },
  {
   "cell_type": "markdown",
   "id": "4703c691-2059-40c2-868b-a3cd1396bcd2",
   "metadata": {},
   "source": [
    "Debug 1: Revel Auto-graded 1 ☎️"
   ]
  },
  {
   "cell_type": "code",
   "execution_count": 143,
   "id": "416eb3eb-4e57-4269-866d-0813eb99e19b",
   "metadata": {},
   "outputs": [],
   "source": [
    "# translate() takes an input which is in the format of XXX-XXX-XXXX, like 555-get-food, \n",
    "# return the phone number 555-438-3663\n",
    "\n",
    "# DEBUG translate() function\n",
    "\n",
    "# two missing statements, and five bugs\n",
    "\n",
    "def translate(phone_number):\n",
    "    # Added missing initialization\n",
    "    translated_number = ''\n",
    "    \n",
    "    for char in phone_number.upper(): # Converted char to uppercase\n",
    "        if char.isdigit():\n",
    "            translated_number += char\n",
    "        else:\n",
    "            if char == '-': # Added a hyphens\n",
    "                translated_number += '-'\n",
    "            if char == 'A' or char == 'B' or char == 'C': # Changed 'and' for 'or'\n",
    "                translated_number += '2'\n",
    "            elif char == 'D' or char == 'E' or char == 'F': # Changed 'and' for 'or'\n",
    "                translated_number += '3'\n",
    "            elif char == 'G' or char == 'H' or char == 'I':\n",
    "                translated_number += '4'\n",
    "            elif char == 'J' or char == 'K' or char == 'L':\n",
    "                translated_number += '5'\n",
    "            elif char == 'M' or char == 'N' or char == 'O':\n",
    "                translated_number += '6'\n",
    "            elif char == 'P' or char == 'Q' or char == 'R' or char == 'S':\n",
    "                translated_number += '7'\n",
    "            elif char in ('T', 'U', 'V'):\n",
    "                translated_number += '8'\n",
    "            elif char in ('W', 'X', 'Y', 'Z'):\n",
    "                translated_number += '9' # Converted 9 to a string\n",
    "        \n",
    "    return translated_number"
   ]
  },
  {
   "cell_type": "code",
   "execution_count": 145,
   "id": "6de9d88c-dddb-43ab-a891-0a16bc28b8c5",
   "metadata": {},
   "outputs": [
    {
     "name": "stdout",
     "output_type": "stream",
     "text": [
      "555-438-3663\n"
     ]
    }
   ],
   "source": [
    "phone_number = '555-get-food'\n",
    "translated_number = translate(phone_number)\n",
    "print(translated_number) # 555-438-3663"
   ]
  },
  {
   "cell_type": "code",
   "execution_count": 142,
   "id": "223e7a2e-6b86-4f73-a642-5be421182452",
   "metadata": {},
   "outputs": [
    {
     "name": "stdout",
     "output_type": "stream",
     "text": [
      "555-438-3663\n"
     ]
    }
   ],
   "source": [
    "phone_number = '555-get-food'\n",
    "translated_number = ''\n",
    "\n",
    "for char in phone_number.upper():\n",
    "    if char.isdigit():\n",
    "        translated_number += char\n",
    "    else:\n",
    "        if char == '-':\n",
    "            translated_number += '-'\n",
    "        if char == 'A' or char == 'B' or char == 'C':\n",
    "            translated_number += '2'\n",
    "        elif char == 'D' or char == 'E' or char == 'F':\n",
    "            translated_number += '3'\n",
    "        elif char == 'G' or char == 'H' or char == 'I':\n",
    "            translated_number += '4'\n",
    "        elif char == 'J' or char == 'K' or char == 'L':\n",
    "            translated_number += '5'\n",
    "        elif char == 'M' or char == 'N' or char == 'O':\n",
    "            translated_number += '6'\n",
    "        elif char == 'P' or char == 'Q' or char == 'R' or char == 'S':\n",
    "            translated_number += '7'\n",
    "        elif char in ('T', 'U', 'V'):\n",
    "            translated_number += '8'\n",
    "        elif char in ('W', 'X', 'Y', 'Z'):\n",
    "            translated_number += 9\n",
    "print(translated_number)"
   ]
  },
  {
   "cell_type": "code",
   "execution_count": 251,
   "id": "09426e46-384e-4ff3-9f57-8a5a1abdc844",
   "metadata": {},
   "outputs": [
    {
     "name": "stdout",
     "output_type": "stream",
     "text": [
      "Hello. My name is tree. What is your name?\n"
     ]
    }
   ],
   "source": [
    "# capitalize00 function: work with string\n",
    "# Revel expects string Slicing operators\n",
    "\n",
    "# DEBUG: 3 BUGS\n",
    "\n",
    "def capitalize00(paper):\n",
    "    '''\n",
    "    parse sentences by .,?, ! capitalize each sentence\n",
    "    '''\n",
    "    delimits = ['.', '?', '!']\n",
    "    for i in range(len(paper)):\n",
    "        if i == 0:\n",
    "            paper = paper[0].upper() + paper[1:] # Bug 1 changed 1 to 0\n",
    "        elif paper[i] in delimits and i+1 < len(paper): # Bug 2 changed i != to i+1 <\n",
    "            paper = paper[:i+2] + paper[i+2].upper() + paper[i+3:] # Bug 3 changed paper[i+2:] to paper[i+3]\n",
    "            \n",
    "    return paper\n",
    "    \n",
    "def main():\n",
    "    paper = 'hello. my name is tree. what is your name?'\n",
    "    print(capitalize00(paper))\n",
    "\n",
    "if __name__ == '__main__':\n",
    "    main()"
   ]
  },
  {
   "cell_type": "code",
   "execution_count": null,
   "id": "3a78182f-c4a4-4c8f-8fcd-f41497a0cd68",
   "metadata": {},
   "outputs": [
    {
     "ename": "IndexError",
     "evalue": "string index out of range",
     "output_type": "error",
     "traceback": [
      "\u001b[0;31m---------------------------------------------------------------------------\u001b[0m",
      "\u001b[0;31mIndexError\u001b[0m                                Traceback (most recent call last)",
      "Input \u001b[0;32mIn [249]\u001b[0m, in \u001b[0;36m<cell line: 4>\u001b[0;34m()\u001b[0m\n\u001b[1;32m      6\u001b[0m         new_paper \u001b[38;5;241m=\u001b[39m paper[\u001b[38;5;241m0\u001b[39m]\u001b[38;5;241m.\u001b[39mupper() \u001b[38;5;241m+\u001b[39m paper[\u001b[38;5;241m1\u001b[39m:]\n\u001b[1;32m      7\u001b[0m     \u001b[38;5;28;01melif\u001b[39;00m paper[i] \u001b[38;5;129;01min\u001b[39;00m delimits \u001b[38;5;129;01mand\u001b[39;00m i \u001b[38;5;241m!=\u001b[39m \u001b[38;5;28mlen\u001b[39m(paper):\n\u001b[0;32m----> 8\u001b[0m         new_paper \u001b[38;5;241m+\u001b[39m\u001b[38;5;241m=\u001b[39m \u001b[43mpaper\u001b[49m\u001b[43m[\u001b[49m\u001b[43mi\u001b[49m\u001b[38;5;241;43m+\u001b[39;49m\u001b[38;5;241;43m2\u001b[39;49m\u001b[43m]\u001b[49m\u001b[38;5;241m.\u001b[39mupper() \u001b[38;5;241m+\u001b[39m paper[i\u001b[38;5;241m+\u001b[39m\u001b[38;5;241m3\u001b[39m:]\n\u001b[1;32m      9\u001b[0m \u001b[38;5;28mprint\u001b[39m(new_paper)\n",
      "\u001b[0;31mIndexError\u001b[0m: string index out of range"
     ]
    }
   ],
   "source": [
    "paper = 'hello. my name is tree. what is your name?'\n",
    "delimits = ['.', '?', '!']\n",
    "new_paper = ''\n",
    "for i in range(len(paper)):\n",
    "    if i == 0:\n",
    "        new_paper = paper[0].upper() + paper[1:]\n",
    "    elif paper[i] in delimits and i != len(paper):\n",
    "        new_paper += paper[i+2].upper() + aperp[i+3:]\n",
    "print(new_paper)"
   ]
  },
  {
   "cell_type": "code",
   "execution_count": null,
   "id": "83460247-4509-499d-b847-a0b37007a3c4",
   "metadata": {},
   "outputs": [
    {
     "ename": "IndexError",
     "evalue": "string index out of range",
     "output_type": "error",
     "traceback": [
      "\u001b[0;31m---------------------------------------------------------------------------\u001b[0m",
      "\u001b[0;31mIndexError\u001b[0m                                Traceback (most recent call last)",
      "Input \u001b[0;32mIn [247]\u001b[0m, in \u001b[0;36m<cell line: 1>\u001b[0;34m()\u001b[0m\n\u001b[1;32m      3\u001b[0m     paper \u001b[38;5;241m=\u001b[39m paper[\u001b[38;5;241m0\u001b[39m]\u001b[38;5;241m.\u001b[39mupper() \u001b[38;5;241m+\u001b[39m paper[\u001b[38;5;241m1\u001b[39m:]\n\u001b[1;32m      4\u001b[0m \u001b[38;5;28;01melif\u001b[39;00m paper[i] \u001b[38;5;129;01min\u001b[39;00m delimits \u001b[38;5;129;01mand\u001b[39;00m i \u001b[38;5;241m!=\u001b[39m \u001b[38;5;28mlen\u001b[39m(paper):\n\u001b[0;32m----> 5\u001b[0m     paper \u001b[38;5;241m=\u001b[39m \u001b[43mpaper\u001b[49m\u001b[43m[\u001b[49m\u001b[43mi\u001b[49m\u001b[38;5;241;43m+\u001b[39;49m\u001b[38;5;241;43m2\u001b[39;49m\u001b[43m]\u001b[49m\u001b[38;5;241m.\u001b[39mupper() \u001b[38;5;241m+\u001b[39m paper[i\u001b[38;5;241m+\u001b[39m\u001b[38;5;241m3\u001b[39m:]\n",
      "\u001b[0;31mIndexError\u001b[0m: string index out of range"
     ]
    }
   ],
   "source": [
    "for i in range(len(paper)):\n",
    "    if i == 0:\n",
    "        paper = paper[0].upper() + paper[1:]\n",
    "    elif paper[i] in delimits and i != len(paper):\n",
    "        paper = paper[i+2].upper() + paper[i+3:]"
   ]
  },
  {
   "cell_type": "code",
   "execution_count": 268,
   "id": "d55c6fe9-1284-4568-9c22-0b2d61b4535f",
   "metadata": {},
   "outputs": [],
   "source": [
    "# capitalize01: work with list\n",
    "# DEBUG: 2 bugs\n",
    "\n",
    "def capitalize01(paper):\n",
    "    '''create a list from paper string,\n",
    "    loop chars by index\n",
    "    if char is a delimitor, set (i+2)th element to uppercase\n",
    "    after loop, join all chars to string'''\n",
    "    \n",
    "    delimits = ['.', '?', '!']\n",
    "    output = list(paper)\n",
    "\n",
    "    for i in range(len(paper)):\n",
    "        if i == 0:\n",
    "            output[0] = paper[0].upper()\n",
    "        elif paper[i] in delimits and i+1 < len(paper): # Bug 1 - Changed i != for i+1 <\n",
    "            output[i+2] = paper[i+2].upper() # Bug 2 - Changed i+1 to i+2\n",
    "    return(''.join(output))"
   ]
  },
  {
   "cell_type": "code",
   "execution_count": 269,
   "id": "831aca30-410e-4a31-8ae4-087bc0cecad3",
   "metadata": {},
   "outputs": [
    {
     "name": "stdout",
     "output_type": "stream",
     "text": [
      "Hello. My name is tree. What is your name?\n"
     ]
    }
   ],
   "source": [
    "def main():\n",
    "    paper = 'hello. my name is tree. what is your name?'\n",
    "    print(capitalize01(paper))\n",
    "\n",
    "if __name__ == '__main__':\n",
    "    main()"
   ]
  },
  {
   "cell_type": "code",
   "execution_count": null,
   "id": "51c5377e-bf41-4c9f-be3a-1d817f932ebd",
   "metadata": {},
   "outputs": [
    {
     "name": "stdout",
     "output_type": "stream",
     "text": [
      "Hello. My name is tree. What is your name?\n"
     ]
    }
   ],
   "source": [
    "paper = 'hello. my name is tree. what is your name?'\n",
    "delimits = ['.', '?', '!']\n",
    "output = list(paper)\n",
    "\n",
    "for i in range(len(paper)):\n",
    "    if i == 0:\n",
    "        output[0] = paper[0].upper()\n",
    "    elif paper[i] in delimits and i+1 < len(paper): # Bug 1 - Changed i != for i+1 <\n",
    "        output[i+2] = paper[i+2].upper() # Bug 2 - Changed i+1 to i+2\n",
    "print(''.join(output))"
   ]
  },
  {
   "cell_type": "code",
   "execution_count": null,
   "id": "2b9d29ec-b30b-403d-be29-3b02ea31fdda",
   "metadata": {},
   "outputs": [],
   "source": []
  }
 ],
 "metadata": {
  "kernelspec": {
   "display_name": "Python 3 (ipykernel)",
   "language": "python",
   "name": "python3"
  },
  "language_info": {
   "codemirror_mode": {
    "name": "ipython",
    "version": 3
   },
   "file_extension": ".py",
   "mimetype": "text/x-python",
   "name": "python",
   "nbconvert_exporter": "python",
   "pygments_lexer": "ipython3",
   "version": "3.9.13"
  }
 },
 "nbformat": 4,
 "nbformat_minor": 5
}
