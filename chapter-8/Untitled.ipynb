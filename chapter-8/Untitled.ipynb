{
 "cells": [
  {
   "cell_type": "code",
   "execution_count": null,
   "id": "de91c0cd-9afa-4b6e-94a1-d14d3a3e6298",
   "metadata": {},
   "outputs": [],
   "source": [
    "What is the value of new_string?\n",
    "\n",
    "def exchange_characters(string, char1, char2):\n",
    "    string = list(string)\n",
    "    i, j = string.index(char1), string.index(char2)\n",
    "    string[i], string[j] = char2, char1\n",
    "    return ''.join(string)\n",
    "\n",
    "string = 'Hello World'\n",
    "char1, char2 = 'o', 'W'\n",
    "new_string = exchange_characters(string, char1, char2)\n"
   ]
  }
 ],
 "metadata": {
  "kernelspec": {
   "display_name": "Python 3 (ipykernel)",
   "language": "python",
   "name": "python3"
  },
  "language_info": {
   "codemirror_mode": {
    "name": "ipython",
    "version": 3
   },
   "file_extension": ".py",
   "mimetype": "text/x-python",
   "name": "python",
   "nbconvert_exporter": "python",
   "pygments_lexer": "ipython3",
   "version": "3.9.13"
  }
 },
 "nbformat": 4,
 "nbformat_minor": 5
}
