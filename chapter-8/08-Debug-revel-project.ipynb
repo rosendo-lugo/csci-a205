{
 "cells": [
  {
   "cell_type": "markdown",
   "id": "36f48887-7d3b-4c35-8e68-9f3e0c0a1701",
   "metadata": {},
   "source": [
    "## DEBUG 1: Project 1"
   ]
  },
  {
   "cell_type": "code",
   "execution_count": 1,
   "id": "4f9ce40b-bce6-4df0-8b27-2d7b922350ee",
   "metadata": {},
   "outputs": [
    {
     "name": "stdout",
     "output_type": "stream",
     "text": [
      "555-438-3663\n"
     ]
    }
   ],
   "source": [
    "# translate() takes an input which is in the format of XXX-XXX-XXXX, like 555-get-food, \n",
    "# return the phone number 555-438-3663\n",
    "\n",
    "# DEBUG translate() function\n",
    "\n",
    "# two missing statements, and five bugs\n",
    "\n",
    "def translate(phone_number):\n",
    "    # Added missing initialization\n",
    "    # It was not initialized 'translated_number'. Before, it was used without being defined and\n",
    "    # was raising an \"UnboundLocalError\".\n",
    "    translated_number = ''\n",
    "    \n",
    "    # The function was only checking for uppercase letters, but the input string\n",
    "    # contained lowercase letters, so converted all phone_number to uppercase \n",
    "    # to ensure we catch both upper and lower case letters.\n",
    "    for char in phone_number.upper():\n",
    "        if char.isdigit():\n",
    "            translated_number += char\n",
    "        else:\n",
    "            # Added hyphens, as this function was not handling hyphens\n",
    "            if char == '-':\n",
    "                translated_number += '-'\n",
    "            \n",
    "            # Fixed the logic operator. Earlier, we were using 'and' which would never be true for individual characters.\n",
    "            # Now, we're using 'in' for a more concise check instead of having a mix of 'or' and 'in'. \n",
    "            if char in ('A', 'B', 'C'):\n",
    "                translated_number += '2'\n",
    "            elif char in ('D', 'E', 'F'):\n",
    "                translated_number += '3'\n",
    "            elif char in ('G', 'H', 'I'):\n",
    "                translated_number += '4'\n",
    "            elif char in ('J', 'K', 'L'):\n",
    "                translated_number += '5'\n",
    "            elif char in ('M', 'N', 'O'):\n",
    "                translated_number += '6'\n",
    "            elif char in ('P', 'Q', 'R', 'S'):\n",
    "                translated_number += '7'\n",
    "            elif char in ('T', 'U', 'V'):\n",
    "                translated_number += '8'\n",
    "            elif char in ('W', 'X', 'Y', 'Z'):\n",
    "                # There was a type mismatch bug here. We were adding an integer to a string.\n",
    "                # Fixed it by converting the number 9 to a string. \n",
    "                translated_number += '9' \n",
    "        \n",
    "    return translated_number\n",
    "\n",
    "phone_number = '555-get-food'\n",
    "translated_number = translate(phone_number)\n",
    "print(translated_number) # 555-438-3663"
   ]
  },
  {
   "cell_type": "markdown",
   "id": "77f31d82-4552-454a-a31f-313e9da39537",
   "metadata": {},
   "source": [
    "## DEBUG 2: Project 2"
   ]
  },
  {
   "cell_type": "code",
   "execution_count": 2,
   "id": "70b1adce-0822-4085-940a-e8ca7247201b",
   "metadata": {},
   "outputs": [
    {
     "name": "stdout",
     "output_type": "stream",
     "text": [
      "Hello. My name is tree. What is your name?\n"
     ]
    }
   ],
   "source": [
    "# capitalize00 function: work with string\n",
    "# Revel expects string Slicing operators\n",
    "\n",
    "# DEBUG: 3 BUGS\n",
    "\n",
    "def capitalize00(paper):\n",
    "    '''\n",
    "    parse sentences by .,?, ! capitalize each sentence\n",
    "    '''\n",
    "    delimits = ['.', '?', '!']\n",
    "    for i in range(len(paper)):\n",
    "        if i == 0:\n",
    "            \n",
    "            # Bug 1: Changed index 1 to 0 to correctly capitalize the first\n",
    "            # letter\n",
    "            paper = paper[0].upper() + paper[1:]\n",
    "            \n",
    "        # Bug 2: Changed condition from i != len(paper) to i+1 < len(paper)\n",
    "        # to avoid index out of range\n",
    "        elif paper[i] in delimits and i+1 < len(paper):\n",
    "            \n",
    "            # Bug 3: Adjusted slicing to correctly capitalize after the delimiter\n",
    "            # the last part was adjusted from paper[i+2:] to paper[i+3]\n",
    "            paper = paper[:i+2] + paper[i+2].upper() + paper[i+3:]\n",
    "            \n",
    "    return paper\n",
    "    \n",
    "def main():\n",
    "    paper = 'hello. my name is tree. what is your name?'\n",
    "    print(capitalize00(paper))\n",
    "\n",
    "if __name__ == '__main__':\n",
    "    main()"
   ]
  },
  {
   "cell_type": "markdown",
   "id": "d8b9eac3-3621-4506-9d24-80fe6a66de6c",
   "metadata": {},
   "source": [
    "## DEBUG 3: Project 2"
   ]
  },
  {
   "cell_type": "code",
   "execution_count": 3,
   "id": "6fc27d53-a7f2-4c60-a7a1-5b4ca81312ae",
   "metadata": {},
   "outputs": [
    {
     "name": "stdout",
     "output_type": "stream",
     "text": [
      "Hello. My name is tree. What is your name?\n"
     ]
    }
   ],
   "source": [
    "# capitalize01: work with list\n",
    "# DEBUG: 2 bugs\n",
    "\n",
    "def capitalize01(paper):\n",
    "    '''create a list from paper string,\n",
    "    loop chars by index\n",
    "    if char is a delimitor, set (i+2)th element to uppercase\n",
    "    after loop, join all chars to string'''\n",
    "    \n",
    "    delimits = ['.', '?', '!']\n",
    "    output = list(paper)\n",
    "\n",
    "    for i in range(len(paper)):\n",
    "        if i == 0:\n",
    "            output[0] = paper[0].upper()\n",
    "            \n",
    "        # Bug 1: Changed condition from i != len(paper) to i+1 < len(paper)\n",
    "        # to avoid index out of range\n",
    "        elif paper[i] in delimits and i+1 < len(paper):\n",
    "            \n",
    "            # Bug 2: Adjusted index from i+1 to i+2 to correctly capitalize\n",
    "            # the character after the delimiter and avoid an IndexError.\n",
    "            output[i+2] = paper[i+2].upper()\n",
    "            \n",
    "    return(''.join(output))\n",
    "\n",
    "def main():\n",
    "    paper = 'hello. my name is tree. what is your name?'\n",
    "    print(capitalize01(paper))\n",
    "\n",
    "if __name__ == '__main__':\n",
    "    main()"
   ]
  },
  {
   "cell_type": "code",
   "execution_count": null,
   "id": "35b36168-144a-4efa-a245-62715fc3209c",
   "metadata": {},
   "outputs": [],
   "source": []
  }
 ],
 "metadata": {
  "kernelspec": {
   "display_name": "Python 3 (ipykernel)",
   "language": "python",
   "name": "python3"
  },
  "language_info": {
   "codemirror_mode": {
    "name": "ipython",
    "version": 3
   },
   "file_extension": ".py",
   "mimetype": "text/x-python",
   "name": "python",
   "nbconvert_exporter": "python",
   "pygments_lexer": "ipython3",
   "version": "3.9.13"
  }
 },
 "nbformat": 4,
 "nbformat_minor": 5
}
