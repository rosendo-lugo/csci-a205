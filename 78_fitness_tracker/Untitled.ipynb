{
 "cells": [
  {
   "cell_type": "code",
   "execution_count": 1,
   "id": "04e5e5a6-886d-4321-8f67-fd7545991461",
   "metadata": {},
   "outputs": [
    {
     "name": "stdout",
     "output_type": "stream",
     "text": [
      "OneTwoThree\n"
     ]
    }
   ],
   "source": [
    "print('One''Two''Three')"
   ]
  },
  {
   "cell_type": "code",
   "execution_count": 2,
   "id": "4d3d95d6-df13-4f70-b7dc-cea401ee28cb",
   "metadata": {},
   "outputs": [
    {
     "name": "stdout",
     "output_type": "stream",
     "text": [
      "30\n"
     ]
    }
   ],
   "source": [
    "for num in range(0, 20, 5):\n",
    "    num += num\n",
    "print(num)"
   ]
  },
  {
   "cell_type": "code",
   "execution_count": 3,
   "id": "73db9385-085d-482b-b4dc-dc60c366e56d",
   "metadata": {},
   "outputs": [
    {
     "name": "stdout",
     "output_type": "stream",
     "text": [
      "2\n",
      "4\n",
      "5\n"
     ]
    }
   ],
   "source": [
    "limit = 1\n",
    "while limit < 5:\n",
    "    limit += 1\n",
    "    if limit == 3:\n",
    "        continue;\n",
    "    print(limit)"
   ]
  },
  {
   "cell_type": "code",
   "execution_count": 4,
   "id": "bfc71039-01b7-4eb7-916b-402060c6b204",
   "metadata": {},
   "outputs": [
    {
     "name": "stdout",
     "output_type": "stream",
     "text": [
      "2\n",
      "3\n",
      "4\n"
     ]
    }
   ],
   "source": [
    "limit = 1\n",
    "while limit < 10:\n",
    "    limit += 1\n",
    "    if limit > 4:\n",
    "        break;\n",
    "    print(limit)"
   ]
  },
  {
   "cell_type": "code",
   "execution_count": 5,
   "id": "02bab294-0737-4355-9c26-f08685006da6",
   "metadata": {},
   "outputs": [
    {
     "name": "stdin",
     "output_type": "stream",
     "text": [
      "Enter test score:  33\n",
      "Enter test score:  33\n",
      "Enter test score:  33\n"
     ]
    },
    {
     "name": "stdout",
     "output_type": "stream",
     "text": [
      "Student  1 average:  33.0\n"
     ]
    },
    {
     "name": "stdin",
     "output_type": "stream",
     "text": [
      "Enter test score:  44\n",
      "Enter test score:  55\n",
      "Enter test score:  44\n"
     ]
    },
    {
     "name": "stdout",
     "output_type": "stream",
     "text": [
      "Student  2 average:  47.666666666666664\n"
     ]
    },
    {
     "name": "stdin",
     "output_type": "stream",
     "text": [
      "Enter test score:  33\n",
      "Enter test score:  22\n",
      "Enter test score:  4545\n"
     ]
    },
    {
     "name": "stdout",
     "output_type": "stream",
     "text": [
      "Student  3 average:  1533.3333333333333\n"
     ]
    }
   ],
   "source": [
    "student = 1\n",
    "while student <= 3:\n",
    "    total = 0\n",
    "    for score in range(1, 4):\n",
    "        score = int(input(\"Enter test score: \"))\n",
    "        total += score\n",
    "    average = total/3\n",
    "    print(\"Student \", student, \"average: \", average)\n",
    "    student += 1"
   ]
  },
  {
   "cell_type": "code",
   "execution_count": 6,
   "id": "1583e308-49bc-4648-9564-41ef9e7ff294",
   "metadata": {},
   "outputs": [
    {
     "ename": "NameError",
     "evalue": "name 'turtle' is not defined",
     "output_type": "error",
     "traceback": [
      "\u001b[0;31m---------------------------------------------------------------------------\u001b[0m",
      "\u001b[0;31mNameError\u001b[0m                                 Traceback (most recent call last)",
      "Input \u001b[0;32mIn [6]\u001b[0m, in \u001b[0;36m<cell line: 1>\u001b[0;34m()\u001b[0m\n\u001b[1;32m      1\u001b[0m \u001b[38;5;28;01mfor\u001b[39;00m x \u001b[38;5;129;01min\u001b[39;00m \u001b[38;5;28mrange\u001b[39m(\u001b[38;5;241m4\u001b[39m):\n\u001b[0;32m----> 2\u001b[0m     \u001b[43mturtle\u001b[49m\u001b[38;5;241m.\u001b[39mforward(\u001b[38;5;241m200\u001b[39m)\n\u001b[1;32m      3\u001b[0m     turtle\u001b[38;5;241m.\u001b[39mright(\u001b[38;5;241m90\u001b[39m)\n",
      "\u001b[0;31mNameError\u001b[0m: name 'turtle' is not defined"
     ]
    }
   ],
   "source": [
    "for x in range(4):\n",
    "    turtle.forward(200)\n",
    "    turtle.right(90)"
   ]
  },
  {
   "cell_type": "code",
   "execution_count": null,
   "id": "b5eaacd2-61f3-49b6-a0a7-5e5bc0787c90",
   "metadata": {},
   "outputs": [],
   "source": [
    "count = 4\n",
    "while count < 12:\n",
    "    print(\"counting\")\n",
    "    count = count + 2"
   ]
  },
  {
   "cell_type": "code",
   "execution_count": null,
   "id": "10982893-2435-4128-9c6d-ecab803fc17c",
   "metadata": {},
   "outputs": [],
   "source": [
    "total = 0\n",
    "for count in range(4,6):\n",
    "    total += count\n",
    "    print(total)\n"
   ]
  },
  {
   "cell_type": "code",
   "execution_count": null,
   "id": "0d9f9bd2-af1b-4c89-ad65-0d59af0afce4",
   "metadata": {},
   "outputs": [],
   "source": [
    "total = 0\n",
    "for count in range(1,4):\n",
    "    total += count\n",
    "print(total)\n"
   ]
  },
  {
   "cell_type": "code",
   "execution_count": null,
   "id": "bbc12928-dc26-4c49-9723-6f69a1b8c810",
   "metadata": {},
   "outputs": [],
   "source": [
    "def show_values(a=0, b=1, c=2, d=3):\n",
    "    print(a, b, c, d)\n",
    "show_values(c=99)\n"
   ]
  },
  {
   "cell_type": "code",
   "execution_count": null,
   "id": "ac28ffca-cc90-4802-81f1-91cc70ea654b",
   "metadata": {},
   "outputs": [],
   "source": [
    "def show_values(a, b, *, c, d):\n",
    "    e = 99\n",
    "    print(a, b, c, d, e)\n",
    "show_values(1, 2, d=30, c=40)"
   ]
  },
  {
   "cell_type": "code",
   "execution_count": null,
   "id": "1e13dfaf-cfea-4980-b631-9d43f9996afc",
   "metadata": {},
   "outputs": [],
   "source": [
    "def main():\n",
    "    print(\"The answer is\", magic(5))\n",
    "def magic(num):\n",
    "    answer = num + 2 * 10\n",
    "    return answer\n",
    "\n",
    "if __name__ == '__main__':\n",
    "    main()\n"
   ]
  },
  {
   "cell_type": "code",
   "execution_count": null,
   "id": "fbeee007-cc2f-4094-9922-a42b4806fdf1",
   "metadata": {},
   "outputs": [],
   "source": [
    "def pass_it(x, y):\n",
    "    z = x*y\n",
    "    result = get_result(z)\n",
    "    return(result)\n",
    "def get_result(number):\n",
    "    z = number + 2\n",
    "    return(z)\n",
    "num1 = 3\n",
    "num2 = 4\n",
    "answer = pass_it(num1, num2)\n",
    "print(answer)\n"
   ]
  },
  {
   "cell_type": "code",
   "execution_count": null,
   "id": "e2d63570-ac75-4c5c-88ec-f31c950fd303",
   "metadata": {},
   "outputs": [],
   "source": [
    "import turtle\n",
    "def main():\n",
    "    turtle.hideturtle()\n",
    "    square(100,0,50,'blue')\n",
    "    \n",
    "def square(x, y, width, color):\n",
    "    turtle.penup()\n",
    "    turtle.goto(x, y)\n",
    "    turtle.fillcolor(color)\n",
    "    turtle.pendown()\n",
    "    turtle.begin_fill()\n",
    "    for count in range(2):\n",
    "        turtle.forward(width)\n",
    "        turtle.left(90)\n",
    "    turtle.end_fill()\n",
    "        \n",
    "if __name__ == '__main__':\n",
    "    main()\n"
   ]
  },
  {
   "cell_type": "code",
   "execution_count": null,
   "id": "e59ee6ab-3f03-4215-b365-9ee10c284cd5",
   "metadata": {},
   "outputs": [],
   "source": [
    "def show_values(a, b, /, c, d):\n",
    "    print(a, b, c, d)"
   ]
  },
  {
   "cell_type": "code",
   "execution_count": null,
   "id": "4ed28ef4-f837-4c34-81d8-b7505be48bf5",
   "metadata": {},
   "outputs": [],
   "source": [
    "def pass_it(x, y):\n",
    "    z = y**x\n",
    "    return(z)\n",
    "num1 = 3\n",
    "num2 = 4\n",
    "answer = pass_it(num1, num2)\n",
    "print(answer)\n"
   ]
  },
  {
   "cell_type": "code",
   "execution_count": 7,
   "id": "d961e56c-a5af-4325-a95d-222cee652432",
   "metadata": {},
   "outputs": [],
   "source": [
    "import turtle\n",
    "\n",
    "def main():\n",
    "    turtle.hideturtle()\n",
    "    square(100,0,50,'blue')\n",
    "    \n",
    "def square(x, y, width, color):\n",
    "    turtle.penup()\n",
    "    turtle.goto(x, y)\n",
    "    turtle.fillcolor(color)\n",
    "    turtle.pendown()\n",
    "    turtle.begin_fill()\n",
    "    for count in range(4):\n",
    "        turtle.forward(width)\n",
    "        turtle.left(90)\n",
    "    turtle.end_fill()\n",
    "if __name__ == '__main__':\n",
    "    main()\n"
   ]
  },
  {
   "cell_type": "code",
   "execution_count": 1,
   "id": "26f1ae7c-9b84-4196-b27d-71b691637730",
   "metadata": {},
   "outputs": [
    {
     "name": "stdout",
     "output_type": "stream",
     "text": [
      "None\n"
     ]
    }
   ],
   "source": [
    "def pass_it(x, y):\n",
    "    z = x , \", \", y\n",
    "\n",
    "num1 = 4\n",
    "num2 = 8\n",
    "answer = pass_it(num1, num2)\n",
    "print(answer)\n"
   ]
  },
  {
   "cell_type": "code",
   "execution_count": 3,
   "id": "29c17994-1ee5-4e83-8709-72e2a7321d41",
   "metadata": {},
   "outputs": [
    {
     "name": "stdout",
     "output_type": "stream",
     "text": [
      "Smith, Julian\n"
     ]
    }
   ],
   "source": [
    "def pass_it(x, y):\n",
    "    z = x + \", \" + y\n",
    "    return (z)\n",
    "\n",
    "name2 = \"Julian\"\n",
    "name1 = \"Smith\"\n",
    "fullname = pass_it(name1, name2)\n",
    "print(fullname)\n"
   ]
  },
  {
   "cell_type": "code",
   "execution_count": 4,
   "id": "4a959991-b2e0-45e9-86bc-f3aa2e6545be",
   "metadata": {},
   "outputs": [],
   "source": [
    "def show_values(a, b, *, c, d):\n",
    "    print(a, b, c, d)"
   ]
  },
  {
   "cell_type": "code",
   "execution_count": 8,
   "id": "ba3ae85c-424d-402d-8826-8de2d1c1b5d2",
   "metadata": {},
   "outputs": [
    {
     "name": "stdin",
     "output_type": "stream",
     "text": [
      "Enter total cost of items?  75\n",
      "Number of items 0\n"
     ]
    },
    {
     "name": "stdout",
     "output_type": "stream",
     "text": [
      "ERROR: cannot have 0 items\n"
     ]
    }
   ],
   "source": [
    "def main():\n",
    "    try:\n",
    "        total = int(input(\"Enter total cost of items? \"))\n",
    "        num_items = int(input(\"Number of items\"))\n",
    "        average = total / num_items\n",
    "    except ZeroDivisionError:\n",
    "        print('ERROR: cannot have 0 items')\n",
    "    except ValueError:\n",
    "        print('ERROR: number of items cannot be negative')\n",
    "        \n",
    "if __name__ == '__main__':\n",
    "    main()\n"
   ]
  },
  {
   "cell_type": "code",
   "execution_count": 9,
   "id": "c6a24416-fefe-40e0-9f3f-c0151dcdf6d4",
   "metadata": {},
   "outputs": [
    {
     "name": "stdin",
     "output_type": "stream",
     "text": [
      "Enter total cost of items?  75\n",
      "Number of items -5\n"
     ]
    }
   ],
   "source": [
    "def main():\n",
    "    try:\n",
    "        total = int(input(\"Enter total cost of items? \"))\n",
    "        num_items = int(input(\"Number of items\"))\n",
    "        average = total / num_items\n",
    "    except ZeroDivisionError:\n",
    "        print('ERROR: cannot have 0 items')\n",
    "    except ValueError:\n",
    "        print('ERROR: number of items cannot be negative')\n",
    "        \n",
    "if __name__ == '__main__':\n",
    "    main()"
   ]
  },
  {
   "cell_type": "code",
   "execution_count": null,
   "id": "b8950b6a-493a-44cc-a241-a3c24b1b31b6",
   "metadata": {},
   "outputs": [],
   "source": []
  }
 ],
 "metadata": {
  "kernelspec": {
   "display_name": "Python 3 (ipykernel)",
   "language": "python",
   "name": "python3"
  },
  "language_info": {
   "codemirror_mode": {
    "name": "ipython",
    "version": 3
   },
   "file_extension": ".py",
   "mimetype": "text/x-python",
   "name": "python",
   "nbconvert_exporter": "python",
   "pygments_lexer": "ipython3",
   "version": "3.9.13"
  }
 },
 "nbformat": 4,
 "nbformat_minor": 5
}
