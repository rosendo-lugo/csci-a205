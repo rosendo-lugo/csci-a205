{
 "cells": [
  {
   "cell_type": "markdown",
   "id": "bc61a8c8-79e6-4828-8639-de281d74ee7a",
   "metadata": {},
   "source": [
    "# 12-Programming"
   ]
  },
  {
   "cell_type": "markdown",
   "id": "3f42e36d-4d01-4aef-991a-357f3470325f",
   "metadata": {},
   "source": [
    "## Requirements\n",
    "\n",
    "   ### Largest List Item\n",
    "    Design a function that accepts a list as an argument and returns the largest value in the list. The function should use recursion to find the largest item.\n",
    "\n",
    "    Hints:\n",
    "\n",
    "    Base case: we reach the last item of the list - a list of one contains only its largest element!\n",
    "    Recursive case: check if the first item on the list is larger than the recursive call, if so return it, else return whatever came back from the call.\n",
    "\n",
    "    There are other ways to write this (more efficiently) if you use a second function with more arguments, but it is unnecessary for this work.\n",
    "\n",
    "   ### Recursive List Sum\n",
    "    Design a function that accepts a list of numbers as an argument. The function should recursively calculate the sum of all the numbers in the list and return that value.\n",
    "\n",
    "    Hints:\n",
    "\n",
    "    Base case: we've reached the end of the list, return 0\n",
    "    Recursive case: add one element of the list plus the recursive call on all elements except the first item.\n",
    "\n",
    "    Note that the `pop` method will take one element off of a list:\n",
    "\n",
    "    In [4]: a = [1,2,3,4]\n",
    "\n",
    "    In [5]: last = a.pop()\n",
    "\n",
    "    In [6]: print(last)\n",
    "    4\n",
    "\n",
    "    In [7]: print(a)\n",
    "    [1, 2, 3]"
   ]
  },
  {
   "cell_type": "code",
   "execution_count": 1,
   "id": "64dafadd-3ca5-446a-9635-5e4e99d714bf",
   "metadata": {},
   "outputs": [],
   "source": [
    "def largest_list_item(lst):\n",
    "    if len(lst) == 1:\n",
    "        return lst[0]\n",
    "    else:\n",
    "        max_of_rest = largest_list_item(lst[1:])\n",
    "        return lst[0] if lst[0] > max_of_rest else max_of_rest"
   ]
  },
  {
   "cell_type": "code",
   "execution_count": 2,
   "id": "dc91943b-5625-49ee-b06d-1484bc4d37e3",
   "metadata": {},
   "outputs": [],
   "source": [
    "def recursive_sum(lst):\n",
    "    if not lst:\n",
    "        return 0\n",
    "    else:\n",
    "        return lst[0] + recursive_sum(lst[1:])"
   ]
  },
  {
   "cell_type": "markdown",
   "id": "0b3cd268-55d8-4938-afd2-155918d14f30",
   "metadata": {},
   "source": [
    "### Largest List Item TEST"
   ]
  },
  {
   "cell_type": "code",
   "execution_count": 3,
   "id": "9bfc18ad-fb73-435c-9849-b5335bd06510",
   "metadata": {},
   "outputs": [
    {
     "name": "stdout",
     "output_type": "stream",
     "text": [
      "Largest list item: 9\n"
     ]
    }
   ],
   "source": [
    "# Test 1 for largest_list_item\n",
    "list_one = [5, 3, 9, 1, 6]\n",
    "print(\"Largest list item:\", largest_list_item(list_one))"
   ]
  },
  {
   "cell_type": "code",
   "execution_count": 4,
   "id": "7983a73f-567b-4e6c-80ae-65bfc2d43112",
   "metadata": {},
   "outputs": [
    {
     "name": "stdout",
     "output_type": "stream",
     "text": [
      "Largest list item: 8\n"
     ]
    }
   ],
   "source": [
    "# Test 2 for largest_list_item\n",
    "list_two = [6, 3, 7, 2, 8]\n",
    "print(\"Largest list item:\", largest_list_item(list_two))"
   ]
  },
  {
   "cell_type": "markdown",
   "id": "6866dce0-a6f4-47bd-b65a-674878e07868",
   "metadata": {},
   "source": [
    "### Recursive List Sum TEST"
   ]
  },
  {
   "cell_type": "code",
   "execution_count": 5,
   "id": "86e2aa4a-3afb-4980-9d87-18f1e8ece58a",
   "metadata": {},
   "outputs": [
    {
     "name": "stdout",
     "output_type": "stream",
     "text": [
      "Sum of numbers: 15\n"
     ]
    }
   ],
   "source": [
    "# Test 1 for recursive_sum\n",
    "numbers_list_one = [1, 2, 3, 4, 5]\n",
    "print(\"Sum of numbers:\", recursive_sum(numbers_list_one))"
   ]
  },
  {
   "cell_type": "code",
   "execution_count": 6,
   "id": "a1ee3db8-710a-43bc-be95-3a494f3b97a8",
   "metadata": {},
   "outputs": [
    {
     "name": "stdout",
     "output_type": "stream",
     "text": [
      "Sum of numbers: 35\n"
     ]
    }
   ],
   "source": [
    "# Test 2 for recursive_sum\n",
    "numbers_list_two = [9, 8, 7, 6, 5]\n",
    "print(\"Sum of numbers:\", recursive_sum(numbers_list_two))"
   ]
  },
  {
   "cell_type": "code",
   "execution_count": null,
   "id": "53aa17cb-2cb5-4690-8ae8-9e721a0b2bbd",
   "metadata": {},
   "outputs": [],
   "source": []
  }
 ],
 "metadata": {
  "kernelspec": {
   "display_name": "Python 3 (ipykernel)",
   "language": "python",
   "name": "python3"
  },
  "language_info": {
   "codemirror_mode": {
    "name": "ipython",
    "version": 3
   },
   "file_extension": ".py",
   "mimetype": "text/x-python",
   "name": "python",
   "nbconvert_exporter": "python",
   "pygments_lexer": "ipython3",
   "version": "3.9.13"
  }
 },
 "nbformat": 4,
 "nbformat_minor": 5
}
